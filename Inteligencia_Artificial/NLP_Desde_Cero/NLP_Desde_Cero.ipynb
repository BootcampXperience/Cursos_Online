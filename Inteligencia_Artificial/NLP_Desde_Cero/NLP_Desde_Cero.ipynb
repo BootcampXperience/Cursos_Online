{
  "cells": [
    {
      "cell_type": "markdown",
      "metadata": {
        "id": "W4bTJkJED0-t"
      },
      "source": [
        "<div align=\"left\">\n",
        "    <img src=\"https://raw.githubusercontent.com/ElProfeAlejo/Bootcamp_Databases/main/imagenes/email_arriba.png\" alt=\"Texto alternativo\" width=\"50%\">\n"
      ]
    },
    {
      "cell_type": "markdown",
      "source": [
        "#**¿Qué es NLP?**"
      ],
      "metadata": {
        "id": "ZnF-ronb4g3l"
      }
    },
    {
      "cell_type": "markdown",
      "source": [
        "NLP (Natural Language Processing), o Procesamiento de Lenguaje Natural, es una rama de la inteligencia artificial que se enfoca en la interacción entre las computadoras y los seres humanos a través del lenguaje natural. Su objetivo principal es permitir que las máquinas comprendan, interpreten, generen y respondan al lenguaje humano de manera útil y significativa."
      ],
      "metadata": {
        "id": "nuJJVtBJ4iJI"
      }
    },
    {
      "cell_type": "markdown",
      "metadata": {
        "id": "uQ5lNnKrD1BD"
      },
      "source": [
        "#**Aula 02**"
      ]
    },
    {
      "cell_type": "code",
      "source": [
        "import pandas as pd\n",
        "datos_portugues = pd.read_csv(\"stackoverflow_portugues.csv\")\n",
        "datos_portugues.head()"
      ],
      "metadata": {
        "id": "PsPM_aLKHp-d"
      },
      "execution_count": null,
      "outputs": []
    },
    {
      "cell_type": "code",
      "source": [
        "pregunta_portugues = datos_portugues.Pregunta[5]\n",
        "print(pregunta_portugues)"
      ],
      "metadata": {
        "id": "8SaEogB4Hqjb"
      },
      "execution_count": null,
      "outputs": []
    },
    {
      "cell_type": "code",
      "source": [
        "datos_ingles = pd.read_csv(\"stackoverflow_ingles.csv\")\n",
        "datos_ingles.head()"
      ],
      "metadata": {
        "id": "WHofv-TancDr"
      },
      "execution_count": null,
      "outputs": []
    },
    {
      "cell_type": "code",
      "source": [
        "pregunta_ingles = datos_ingles.Pregunta[1]\n",
        "print(pregunta_ingles)"
      ],
      "metadata": {
        "id": "QgX1muOh7YtO"
      },
      "execution_count": null,
      "outputs": []
    },
    {
      "cell_type": "code",
      "source": [
        "datos_español = pd.read_csv(\"stackoverflow_español.csv\")\n",
        "datos_español.head()"
      ],
      "metadata": {
        "id": "KRjvHYfx7qo1"
      },
      "execution_count": null,
      "outputs": []
    },
    {
      "cell_type": "code",
      "source": [
        "pregunta_español = datos_español.Pregunta[0]\n",
        "print(pregunta_español)"
      ],
      "metadata": {
        "id": "977l4hYB7w2w"
      },
      "execution_count": null,
      "outputs": []
    },
    {
      "cell_type": "code",
      "source": [
        "import re\n",
        "re.findall(r\"<.*?>\",pregunta_portugues)"
      ],
      "metadata": {
        "id": "IO5S7G2V8Ddp"
      },
      "execution_count": null,
      "outputs": []
    },
    {
      "cell_type": "code",
      "source": [
        "print(pregunta_portugues)"
      ],
      "metadata": {
        "id": "gsuliL838Jn5"
      },
      "execution_count": null,
      "outputs": []
    },
    {
      "cell_type": "code",
      "source": [
        "texto_test = re.sub(r\"<.*?>\",\"  T----E----S----T  \",pregunta_portugues)\n",
        "print(texto_test)"
      ],
      "metadata": {
        "id": "o8JBT60p8Vo-"
      },
      "execution_count": null,
      "outputs": []
    },
    {
      "cell_type": "code",
      "source": [
        "re.search(r\"70\",\"18728736187263817628631872638716283670\")"
      ],
      "metadata": {
        "id": "JWny8uXO8d6E"
      },
      "execution_count": null,
      "outputs": []
    },
    {
      "cell_type": "code",
      "source": [
        "regex = re.compile(r\"70\")"
      ],
      "metadata": {
        "id": "_d0cA1tc8jTr"
      },
      "execution_count": null,
      "outputs": []
    },
    {
      "cell_type": "code",
      "source": [
        "regex.search(\"18728736187263817628631872638716283670\")"
      ],
      "metadata": {
        "id": "ffh3nFG48miK"
      },
      "execution_count": null,
      "outputs": []
    },
    {
      "cell_type": "code",
      "source": [
        "from timeit import timeit"
      ],
      "metadata": {
        "id": "R48DbAwX8qsC"
      },
      "execution_count": null,
      "outputs": []
    },
    {
      "cell_type": "code",
      "source": [
        "setup = \"\"\"import re\"\"\"\n",
        "timeit(\"\"\"re.search(r\"70\",\"18728736187263817628631872638716283670\")\"\"\",\n",
        "      setup)"
      ],
      "metadata": {
        "id": "2P2AHI198tPE"
      },
      "execution_count": null,
      "outputs": []
    },
    {
      "cell_type": "code",
      "source": [
        "setup = \"\"\"import re\n",
        "regex = re.compile(r\"70\")\"\"\"\n",
        "\n",
        "timeit(\"\"\"regex.search(\"18728736187263817628631872638716283670\")\"\"\",\n",
        "      setup)"
      ],
      "metadata": {
        "id": "ji26zzQR8wE0"
      },
      "execution_count": null,
      "outputs": []
    },
    {
      "cell_type": "markdown",
      "metadata": {
        "id": "y5V-1AK-D1BN"
      },
      "source": [
        "#**Aula 03**"
      ]
    },
    {
      "cell_type": "code",
      "source": [
        "def eliminar(textos, regex):\n",
        "    if type(textos) == str:\n",
        "        return regex.sub(\"\", textos)\n",
        "    else:\n",
        "        return [regex.sub(\"\", texto) for texto in textos]"
      ],
      "metadata": {
        "id": "w7QcHi9ZWEcp"
      },
      "execution_count": null,
      "outputs": []
    },
    {
      "cell_type": "code",
      "source": [
        "regex_html = re.compile(r\"<.*?>\")\n",
        "pregunta_sin_tag = eliminar(pregunta_ingles, regex_html)\n",
        "print(pregunta_sin_tag)"
      ],
      "metadata": {
        "id": "0Ki_gtVuWsfU"
      },
      "execution_count": null,
      "outputs": []
    },
    {
      "cell_type": "code",
      "source": [
        "print(pregunta_ingles)"
      ],
      "metadata": {
        "id": "fJxDx9ShX5XA"
      },
      "execution_count": null,
      "outputs": []
    },
    {
      "cell_type": "code",
      "source": [
        "def substituir_codigo(textos, regex):\n",
        "    if type(textos) == str:\n",
        "        return regex.sub(\"CODE\", textos)\n",
        "    else:\n",
        "        return [regex.sub(\"CODE\", texto) for texto in textos]"
      ],
      "metadata": {
        "id": "zCbNlgEaYAS-"
      },
      "execution_count": null,
      "outputs": []
    },
    {
      "cell_type": "code",
      "source": [
        "pregunta_ingles"
      ],
      "metadata": {
        "id": "1MRAq27QYatS"
      },
      "execution_count": null,
      "outputs": []
    },
    {
      "cell_type": "code",
      "source": [
        "regex_codigo = re.compile(r\"<code>(.|(\\n))*?</code>\")"
      ],
      "metadata": {
        "id": "t8DtaVLyYrGf"
      },
      "execution_count": null,
      "outputs": []
    },
    {
      "cell_type": "code",
      "source": [
        "pregunta_sin_code = substituir_codigo(pregunta_español,regex_codigo)\n",
        "print(pregunta_sin_code)"
      ],
      "metadata": {
        "id": "twLp6ZqBYt4X"
      },
      "execution_count": null,
      "outputs": []
    },
    {
      "cell_type": "code",
      "source": [
        "datos_portugues.head()"
      ],
      "metadata": {
        "id": "g8dIf_lWZmAP"
      },
      "execution_count": null,
      "outputs": []
    },
    {
      "cell_type": "code",
      "source": [
        "preguntas_port_sin_code = substituir_codigo(datos_portugues.Pregunta, regex_codigo)\n",
        "preguntas_port_sin_code_tag = eliminar(preguntas_port_sin_code, regex_html)\n",
        "\n",
        "datos_portugues[\"sin_code_tag\"] = preguntas_port_sin_code_tag"
      ],
      "metadata": {
        "id": "R-NOj56oZqYI"
      },
      "execution_count": null,
      "outputs": []
    },
    {
      "cell_type": "code",
      "source": [
        "datos_portugues.head()"
      ],
      "metadata": {
        "id": "Z5dQV6y-aLfd"
      },
      "execution_count": null,
      "outputs": []
    },
    {
      "cell_type": "code",
      "source": [
        "preguntas_ing_sin_code = substituir_codigo(datos_ingles.Pregunta, regex_codigo)\n",
        "preguntas_ing_sin_code_tag = eliminar(preguntas_ing_sin_code, regex_html)\n",
        "\n",
        "datos_ingles[\"sin_code_tag\"] = preguntas_ing_sin_code_tag\n",
        "datos_ingles.head()"
      ],
      "metadata": {
        "id": "aB0ijR_ca38L"
      },
      "execution_count": null,
      "outputs": []
    },
    {
      "cell_type": "code",
      "source": [
        "preguntas_esp_sin_code = substituir_codigo(datos_español.Pregunta, regex_codigo)\n",
        "preguntas_esp_sin_code_tag = eliminar(preguntas_esp_sin_code, regex_html)\n",
        "\n",
        "datos_español[\"sin_code_tag\"] = preguntas_esp_sin_code_tag\n",
        "datos_español.head()"
      ],
      "metadata": {
        "id": "ea64IHEXbRAj"
      },
      "execution_count": null,
      "outputs": []
    },
    {
      "cell_type": "code",
      "source": [
        "print(datos_español.sin_code_tag[0])"
      ],
      "metadata": {
        "id": "yL8FXmFUb7op"
      },
      "execution_count": null,
      "outputs": []
    },
    {
      "cell_type": "markdown",
      "metadata": {
        "id": "eAbwq1oLD1BW"
      },
      "source": [
        "#**Aula 04**"
      ]
    },
    {
      "cell_type": "code",
      "source": [
        "regex_puntuacion = re.compile(r\"[^\\w\\s]\")\n",
        "print(eliminar(preguntas_esp_sin_code_tag[0], regex_puntuacion))"
      ],
      "metadata": {
        "id": "3n21j9nhh_tw"
      },
      "execution_count": null,
      "outputs": []
    },
    {
      "cell_type": "code",
      "source": [
        "def minuscula(textos):\n",
        "    if type(textos) == str:\n",
        "        return textos.lower()\n",
        "    else:\n",
        "        return [texto.lower() for texto in textos]\n",
        "print(minuscula(preguntas_esp_sin_code_tag[0]))"
      ],
      "metadata": {
        "id": "1uWmGDTx1XEm"
      },
      "execution_count": null,
      "outputs": []
    },
    {
      "cell_type": "code",
      "source": [
        "regex_digitos = re.compile(r\"\\d+\")\n",
        "print(eliminar(\"Aura \\n 1234 Latam 1234\", regex_digitos))"
      ],
      "metadata": {
        "id": "lGKiI8rr1mTw"
      },
      "execution_count": null,
      "outputs": []
    },
    {
      "cell_type": "code",
      "source": [
        "regex_espacio = re.compile(r\" +\")\n",
        "regex_salto_linea = re.compile(r\"(\\n)\")\n",
        "def substituir_por_espacio(textos, regex):\n",
        "    if type(textos) == str:\n",
        "        return regex.sub(\" \", textos)\n",
        "    else:\n",
        "        return [regex.sub(\" \", texto) for texto in textos]\n",
        "\n",
        "print(substituir_por_espacio(\"Aura \\n \\n     Latam\", regex_salto_linea))"
      ],
      "metadata": {
        "id": "te3ZsxNq1vjd"
      },
      "execution_count": null,
      "outputs": []
    },
    {
      "cell_type": "code",
      "source": [
        "preguntas_port_sin_punt = eliminar(datos_portugues.sin_code_tag, regex_puntuacion)\n",
        "preguntas_port_sin_punt_minus = minuscula(preguntas_port_sin_punt)\n",
        "preguntas_port_sin_punt_minus_dig = eliminar(preguntas_port_sin_punt_minus, regex_digitos)\n",
        "\n",
        "preguntas_port_sin_salto_linea = substituir_por_espacio(preguntas_port_sin_punt_minus_dig, regex_salto_linea)\n",
        "preguntas_port_sin_espacio_duplicado = substituir_por_espacio(preguntas_port_sin_salto_linea, regex_espacio)\n",
        "\n",
        "datos_portugues[\"preguntas_tratadas\"] = preguntas_port_sin_espacio_duplicado"
      ],
      "metadata": {
        "id": "y3sHHE1F2DMh"
      },
      "execution_count": null,
      "outputs": []
    },
    {
      "cell_type": "code",
      "source": [
        "datos_portugues.head()"
      ],
      "metadata": {
        "id": "UVOygepY2_vi"
      },
      "execution_count": null,
      "outputs": []
    },
    {
      "cell_type": "code",
      "source": [
        "datos_portugues.preguntas_tratadas[0]"
      ],
      "metadata": {
        "id": "c5RHBxeg3dvR"
      },
      "execution_count": null,
      "outputs": []
    },
    {
      "cell_type": "code",
      "source": [
        "preguntas_ing_sin_punt = eliminar(datos_ingles.sin_code_tag, regex_puntuacion)\n",
        "preguntas_ing_sin_punt_minus = minuscula(preguntas_ing_sin_punt)\n",
        "preguntas_ing_sin_punt_minus_dig = eliminar(preguntas_ing_sin_punt_minus, regex_digitos)\n",
        "\n",
        "preguntas_ing_sin_salto_linea = substituir_por_espacio(preguntas_ing_sin_punt_minus_dig, regex_salto_linea)\n",
        "preguntas_ing_sin_espacio_duplicado = substituir_por_espacio(preguntas_ing_sin_salto_linea, regex_espacio)\n",
        "\n",
        "datos_ingles[\"preguntas_tratadas\"] = preguntas_ing_sin_espacio_duplicado"
      ],
      "metadata": {
        "id": "NRmu_71O3kJ6"
      },
      "execution_count": null,
      "outputs": []
    },
    {
      "cell_type": "code",
      "source": [
        "datos_ingles.head()"
      ],
      "metadata": {
        "id": "AUpibJEz4Luj"
      },
      "execution_count": null,
      "outputs": []
    },
    {
      "cell_type": "code",
      "source": [
        "print(datos_ingles.preguntas_tratadas[0])"
      ],
      "metadata": {
        "id": "irj8z8e24RXK"
      },
      "execution_count": null,
      "outputs": []
    },
    {
      "cell_type": "code",
      "source": [
        "preguntas_esp_sin_punt = eliminar(datos_español.sin_code_tag, regex_puntuacion)\n",
        "preguntas_esp_sin_punt_minus = minuscula(preguntas_esp_sin_punt)\n",
        "preguntas_esp_sin_punt_minus_dig = eliminar(preguntas_esp_sin_punt_minus, regex_digitos)\n",
        "preguntas_esp_sin_salto_linea = substituir_por_espacio(preguntas_esp_sin_punt_minus_dig, regex_salto_linea)\n",
        "preguntas_esp_sin_espacio_duplicado = substituir_por_espacio(preguntas_esp_sin_salto_linea, regex_espacio)\n",
        "datos_español[\"preguntas_tratadas\"] = preguntas_esp_sin_espacio_duplicado"
      ],
      "metadata": {
        "id": "l6QNBiAF4Wsl"
      },
      "execution_count": null,
      "outputs": []
    },
    {
      "cell_type": "code",
      "source": [
        "datos_español.head()"
      ],
      "metadata": {
        "id": "kLKuvJjQ52eT"
      },
      "execution_count": null,
      "outputs": []
    },
    {
      "cell_type": "code",
      "source": [
        "print(datos_español.preguntas_tratadas[0])"
      ],
      "metadata": {
        "id": "8mufizxs5-xi"
      },
      "execution_count": null,
      "outputs": []
    },
    {
      "cell_type": "markdown",
      "metadata": {
        "id": "ciJ4dw_FD1BZ"
      },
      "source": [
        "#**Aula 05**"
      ]
    },
    {
      "cell_type": "code",
      "source": [
        "from nltk.util import bigrams\n",
        "texto_test = \"aura\"\n",
        "print(list(bigrams(texto_test)))"
      ],
      "metadata": {
        "id": "UUxebLOqZnrp"
      },
      "execution_count": null,
      "outputs": []
    },
    {
      "cell_type": "code",
      "source": [
        "!pip install -U nltk"
      ],
      "metadata": {
        "id": "wdUYIw3CaFjH"
      },
      "execution_count": null,
      "outputs": []
    },
    {
      "cell_type": "code",
      "source": [
        "from nltk.lm.preprocessing import pad_both_ends\n",
        "print(list(bigrams(pad_both_ends(texto_test, n = 2))))"
      ],
      "metadata": {
        "id": "yePZbY66Zwp1"
      },
      "execution_count": null,
      "outputs": []
    },
    {
      "cell_type": "markdown",
      "metadata": {
        "id": "HnUzHFQPD1Ba"
      },
      "source": [
        "#**Aula 06**"
      ]
    },
    {
      "cell_type": "code",
      "source": [
        "datos_portugues[\"idioma\"] = \"port\"\n",
        "datos_español[\"idioma\"] = \"esp\"\n",
        "datos_ingles[\"idioma\"] = \"ing\"\n",
        "\n",
        "datos_español.head()"
      ],
      "metadata": {
        "id": "ZzoYF_IOBQlm"
      },
      "execution_count": null,
      "outputs": []
    },
    {
      "cell_type": "code",
      "source": [
        "len(datos_español)"
      ],
      "metadata": {
        "id": "j8FMRNt1BhUv"
      },
      "execution_count": null,
      "outputs": []
    },
    {
      "cell_type": "code",
      "source": [
        "from sklearn.model_selection import train_test_split\n",
        "\n",
        "port_train, port_test = train_test_split(datos_portugues.preguntas_tratadas,\n",
        "                                          test_size = 0.2,\n",
        "                                          random_state = 123)"
      ],
      "metadata": {
        "id": "IZuMrWR0BijH"
      },
      "execution_count": null,
      "outputs": []
    },
    {
      "cell_type": "code",
      "source": [
        "from sklearn.model_selection import train_test_split\n",
        "\n",
        "esp_train, esp_test = train_test_split(datos_español.preguntas_tratadas,\n",
        "                                          test_size = 0.2,\n",
        "                                          random_state = 123)"
      ],
      "metadata": {
        "id": "6m-QVArJB8o4"
      },
      "execution_count": null,
      "outputs": []
    },
    {
      "cell_type": "code",
      "source": [
        "from sklearn.model_selection import train_test_split\n",
        "\n",
        "ing_train, ing_test = train_test_split(datos_ingles.preguntas_tratadas,\n",
        "                                          test_size = 0.2,\n",
        "                                          random_state = 123)"
      ],
      "metadata": {
        "id": "Rn7XIh2bCCz8"
      },
      "execution_count": null,
      "outputs": []
    },
    {
      "cell_type": "code",
      "source": [
        "todas_preguntas_port = ' '.join(port_train)"
      ],
      "metadata": {
        "id": "68vjiv2nCSy2"
      },
      "execution_count": null,
      "outputs": []
    },
    {
      "cell_type": "code",
      "source": [
        "from nltk.tokenize import WhitespaceTokenizer\n",
        "\n",
        "todas_palabras_port = WhitespaceTokenizer().tokenize(todas_preguntas_port)\n",
        "print(todas_palabras_port)"
      ],
      "metadata": {
        "id": "EguUTrrDCZgh"
      },
      "execution_count": null,
      "outputs": []
    },
    {
      "cell_type": "code",
      "source": [
        "from nltk.lm.preprocessing import padded_everygram_pipeline\n",
        "\n",
        "port_train_bigram, vocab_port = padded_everygram_pipeline(2, todas_palabras_port)"
      ],
      "metadata": {
        "id": "XbqeVeq2Cgr5"
      },
      "execution_count": null,
      "outputs": []
    },
    {
      "cell_type": "code",
      "source": [
        "from nltk.lm.preprocessing import padded_everygram_pipeline\n",
        "\n",
        "port_train_bigram, vocab_port = padded_everygram_pipeline(2, todas_palabras_port)"
      ],
      "metadata": {
        "id": "zoS4uRMhCu5d"
      },
      "execution_count": null,
      "outputs": []
    },
    {
      "cell_type": "code",
      "source": [
        "from nltk.lm import MLE\n",
        "\n",
        "modelo_port = MLE(2)\n",
        "modelo_port.fit(port_train_bigram, vocab_port)"
      ],
      "metadata": {
        "id": "MIuTZLG1C1fi"
      },
      "execution_count": null,
      "outputs": []
    },
    {
      "cell_type": "code",
      "source": [
        "modelo_port.generate(num_words=6)"
      ],
      "metadata": {
        "id": "mBd7MVgmC5iJ"
      },
      "execution_count": null,
      "outputs": []
    },
    {
      "cell_type": "code",
      "source": [
        "from nltk.lm import NgramCounter\n",
        "\n",
        "modelo_port.counts[['m']].items()"
      ],
      "metadata": {
        "id": "7QXdOBPmC9Q8"
      },
      "execution_count": null,
      "outputs": []
    },
    {
      "cell_type": "code",
      "source": [
        "texto = \"good morning\"\n",
        "palabras = WhitespaceTokenizer().tokenize(texto)\n",
        "palabras_fakechar = [list(pad_both_ends(palabra, n = 2)) for palabra in palabras]\n",
        "palabras_bigramns = [list(bigrams(palabra)) for palabra in palabras_fakechar]\n",
        "print(palabras_bigramns)"
      ],
      "metadata": {
        "id": "iWIIi0fwDAQD"
      },
      "execution_count": null,
      "outputs": []
    },
    {
      "cell_type": "code",
      "source": [
        "print(palabras_bigramns[0])"
      ],
      "metadata": {
        "id": "JVh7qqu6DKRd"
      },
      "execution_count": null,
      "outputs": []
    },
    {
      "cell_type": "code",
      "source": [
        "print(modelo_port.perplexity(palabras_bigramns[0]))\n",
        "print(modelo_port.perplexity(palabras_bigramns[1]))"
      ],
      "metadata": {
        "id": "guEugmQwDM2D"
      },
      "execution_count": null,
      "outputs": []
    },
    {
      "cell_type": "markdown",
      "source": [
        "#**Aula 07**"
      ],
      "metadata": {
        "id": "__oG_40ZJgGM"
      }
    },
    {
      "cell_type": "code",
      "source": [
        "def entrenar_modelo_mle(lista_textos):\n",
        "    todas_preguntas = ' '.join(lista_textos)\n",
        "    todas_palabras = WhitespaceTokenizer().tokenize(todas_preguntas)\n",
        "    bigrams, vocabulario = padded_everygram_pipeline(2, todas_palabras)\n",
        "    modelo = MLE(2)\n",
        "    modelo.fit(bigrams, vocabulario)\n",
        "\n",
        "    return modelo"
      ],
      "metadata": {
        "id": "vSo95XfGNwAF"
      },
      "execution_count": null,
      "outputs": []
    },
    {
      "cell_type": "code",
      "source": [
        "modelo_port_2 = entrenar_modelo_mle(port_train)"
      ],
      "metadata": {
        "id": "vxmvcejCN-Y7"
      },
      "execution_count": null,
      "outputs": []
    },
    {
      "cell_type": "code",
      "source": [
        "print(modelo_port_2.perplexity(palabras_bigramns[0]))\n",
        "print(modelo_port_2.perplexity(palabras_bigramns[1]))"
      ],
      "metadata": {
        "id": "iEoxFBEiOFCK"
      },
      "execution_count": null,
      "outputs": []
    },
    {
      "cell_type": "code",
      "source": [
        "modelo_ing = entrenar_modelo_mle(ing_train)\n",
        "modelo_esp = entrenar_modelo_mle(esp_train)"
      ],
      "metadata": {
        "id": "tam6nWrhOJC-"
      },
      "execution_count": null,
      "outputs": []
    },
    {
      "cell_type": "code",
      "source": [
        "print(modelo_ing.perplexity(palabras_bigramns[0]))\n",
        "print(modelo_ing.perplexity(palabras_bigramns[1]))"
      ],
      "metadata": {
        "id": "D-I18D7GOPmL"
      },
      "execution_count": null,
      "outputs": []
    },
    {
      "cell_type": "code",
      "source": [
        "17.3 + 12.9"
      ],
      "metadata": {
        "id": "Onl8sWkpOTt_"
      },
      "execution_count": null,
      "outputs": []
    },
    {
      "cell_type": "code",
      "source": [
        "def calcular_perplejidad(modelo, texto):\n",
        "\n",
        "    perplejidad = 0\n",
        "    palabras = WhitespaceTokenizer().tokenize(texto)\n",
        "    palabras_fakechar = [list(pad_both_ends(palabra, n = 2)) for palabra in palabras]\n",
        "    palabras_bigramns = [list(bigrams(palabra)) for palabra in palabras_fakechar]\n",
        "\n",
        "    for palabra in palabras_bigramns:\n",
        "        perplejidad += modelo.perplexity(palabra)\n",
        "\n",
        "    return perplejidad"
      ],
      "metadata": {
        "id": "YmX9F5YrOXDz"
      },
      "execution_count": null,
      "outputs": []
    },
    {
      "cell_type": "code",
      "source": [
        "print(calcular_perplejidad(modelo_ing, \"good morning\"))"
      ],
      "metadata": {
        "id": "PubdVnQfO06_"
      },
      "execution_count": null,
      "outputs": []
    },
    {
      "cell_type": "code",
      "source": [
        "print(calcular_perplejidad(modelo_port, port_test.iloc[0]))"
      ],
      "metadata": {
        "id": "-WSeSbPfO5WT"
      },
      "execution_count": null,
      "outputs": []
    },
    {
      "cell_type": "code",
      "source": [
        "port_test.iloc[0]"
      ],
      "metadata": {
        "id": "KxaWVjaXO9Z-"
      },
      "execution_count": null,
      "outputs": []
    },
    {
      "cell_type": "code",
      "source": [
        "print(calcular_perplejidad(modelo_ing, port_test.iloc[0]))"
      ],
      "metadata": {
        "id": "sQNg51EZPBy7"
      },
      "execution_count": null,
      "outputs": []
    },
    {
      "cell_type": "markdown",
      "source": [
        "#**Aula 08**"
      ],
      "metadata": {
        "id": "lkLCwPwzJrbb"
      }
    },
    {
      "cell_type": "code",
      "source": [
        "from nltk.lm import Laplace\n",
        "\n",
        "def entrenar_modelo_Laplace(lista_textos):\n",
        "    todas_preguntas = ' '.join(lista_textos)\n",
        "    todas_palabras = WhitespaceTokenizer().tokenize(todas_preguntas)\n",
        "    bigrams, vocabulario = padded_everygram_pipeline(2, todas_palabras)\n",
        "    modelo = Laplace(2)\n",
        "    modelo.fit(bigrams, vocabulario)\n",
        "\n",
        "    return modelo"
      ],
      "metadata": {
        "id": "CLwM44LCYYQq"
      },
      "execution_count": null,
      "outputs": []
    },
    {
      "cell_type": "code",
      "source": [
        "modelo_ing_Laplace = entrenar_modelo_Laplace(ing_train)\n",
        "print(calcular_perplejidad(modelo_ing_Laplace, port_test.iloc[0]))"
      ],
      "metadata": {
        "id": "KCGArzxwYj5Q"
      },
      "execution_count": null,
      "outputs": []
    },
    {
      "cell_type": "code",
      "source": [
        "modelo_port_Laplace = entrenar_modelo_Laplace(port_train)\n",
        "print(calcular_perplejidad(modelo_port_Laplace, port_test.iloc[0]))"
      ],
      "metadata": {
        "id": "TakjTDOLYsc1"
      },
      "execution_count": null,
      "outputs": []
    },
    {
      "cell_type": "code",
      "source": [
        "modelo_esp_Laplace = entrenar_modelo_Laplace(esp_train)\n",
        "print(calcular_perplejidad(modelo_esp_Laplace, port_test.iloc[0]))"
      ],
      "metadata": {
        "id": "ANPBvFmZY0j1"
      },
      "execution_count": null,
      "outputs": []
    },
    {
      "cell_type": "code",
      "source": [
        "def asignar_idioma(lista_textos):\n",
        "\n",
        "    idioma = []\n",
        "    for texto in lista_textos:\n",
        "        portugues = calcular_perplejidad(modelo_port_Laplace, texto)\n",
        "        ingles = calcular_perplejidad(modelo_ing_Laplace, texto)\n",
        "        español = calcular_perplejidad(modelo_esp_Laplace, texto)\n",
        "        if ingles >= portugues <= español:\n",
        "            idioma.append(\"portugues\")\n",
        "        elif portugues > ingles < español:\n",
        "            idioma.append(\"ingles\")\n",
        "        else:\n",
        "            idioma.append(\"español\")\n",
        "    return idioma"
      ],
      "metadata": {
        "id": "ceW5MnmkY7nZ"
      },
      "execution_count": null,
      "outputs": []
    },
    {
      "cell_type": "code",
      "source": [
        "resultados_portugues = asignar_idioma(port_test)"
      ],
      "metadata": {
        "id": "bqXDN-fOZOlt"
      },
      "execution_count": null,
      "outputs": []
    },
    {
      "cell_type": "code",
      "source": [
        "tasa_portugues = resultados_portugues.count(\"portugues\")/len(resultados_portugues)"
      ],
      "metadata": {
        "id": "tmzqdGlIZTqM"
      },
      "execution_count": null,
      "outputs": []
    },
    {
      "cell_type": "code",
      "source": [
        "len(port_test)"
      ],
      "metadata": {
        "id": "AIzmwKbxZhTG"
      },
      "execution_count": null,
      "outputs": []
    },
    {
      "cell_type": "code",
      "source": [
        "resultados_ingles = asignar_idioma(ing_test)\n",
        "tasa_ingles = resultados_ingles.count(\"ingles\")/len(resultados_ingles)\n",
        "resultados_español = asignar_idioma(esp_test)\n",
        "tasa_español = resultados_español.count(\"español\")/len(resultados_español)"
      ],
      "metadata": {
        "id": "I6AxQoLjZkE9"
      },
      "execution_count": null,
      "outputs": []
    },
    {
      "cell_type": "code",
      "source": [
        "print(\"Port\", tasa_portugues)\n",
        "print(\"Ing\", tasa_ingles)\n",
        "print(\"Esp\", tasa_español)"
      ],
      "metadata": {
        "id": "Trf9mvsqZyxl"
      },
      "execution_count": null,
      "outputs": []
    },
    {
      "cell_type": "code",
      "source": [
        "resultados_español"
      ],
      "metadata": {
        "id": "UmefV8DBZ3dY"
      },
      "execution_count": null,
      "outputs": []
    },
    {
      "cell_type": "markdown",
      "source": [
        "[<div align=\"left\">\n",
        "    <img src=\"https://raw.githubusercontent.com/ElProfeAlejo/Bootcamp_Databases/main/imagenes/email_abajo.png\" alt=\"Texto alternativo\" width=\"50%\">](https://bootcampxperience.com/)"
      ],
      "metadata": {
        "id": "H6rd6Ktv-BVo"
      }
    }
  ],
  "metadata": {
    "colab": {
      "provenance": []
    },
    "kernelspec": {
      "display_name": "Python 3",
      "language": "python",
      "name": "python3"
    },
    "language_info": {
      "codemirror_mode": {
        "name": "ipython",
        "version": 3
      },
      "file_extension": ".py",
      "mimetype": "text/x-python",
      "name": "python",
      "nbconvert_exporter": "python",
      "pygments_lexer": "ipython3",
      "version": "3.7.1"
    }
  },
  "nbformat": 4,
  "nbformat_minor": 0
}