{
  "cells": [
    {
      "cell_type": "markdown",
      "metadata": {
        "id": "W4bTJkJED0-t"
      },
      "source": [
        "<div align=\"left\">\n",
        "    <img src=\"https://raw.githubusercontent.com/ElProfeAlejo/Bootcamp_Databases/main/imagenes/email_arriba.png\" alt=\"Texto alternativo\" width=\"50%\">\n"
      ]
    },
    {
      "cell_type": "markdown",
      "source": [
        "#**¿Qué es Clasificación Multilabel?**"
      ],
      "metadata": {
        "id": "ZnF-ronb4g3l"
      }
    },
    {
      "cell_type": "markdown",
      "source": [
        "La clasificación multilabel (o clasificación multietiqueta) es un tipo de problema de aprendizaje supervisado en el que cada instancia (o ejemplo) puede pertenecer a más de una categoría o etiqueta simultáneamente. Esto difiere de la clasificación tradicional, en la que cada instancia pertenece a una única categoría."
      ],
      "metadata": {
        "id": "nuJJVtBJ4iJI"
      }
    },
    {
      "cell_type": "markdown",
      "source": [
        "#**Aula 01**"
      ],
      "metadata": {
        "id": "NuwVQC27Mz5S"
      }
    },
    {
      "cell_type": "code",
      "source": [
        "import pandas as pd\n",
        "!pip install scikit-multilearn\n",
        "!pip uninstall scikit-learn -y\n",
        "!pip install scikit-learn==0.24.1\n",
        "pd.set_option('display.float_format', '{:20,.2f}'.format)\n",
        "pd.set_option('display.max_rows', None)\n",
        "pd.set_option('display.max_columns', None)\n",
        "pd.set_option('display.width', None)\n",
        "pd.set_option('display.max_colwidth', None)"
      ],
      "metadata": {
        "id": "7J2UHhw-M0wd"
      },
      "execution_count": null,
      "outputs": []
    },
    {
      "cell_type": "code",
      "source": [
        "preguntas = pd.read_csv(\"stackoverflow_preguntas.csv\", sep='|')\n",
        "preguntas.sample(5)"
      ],
      "metadata": {
        "id": "HKthnIefNMT6"
      },
      "execution_count": null,
      "outputs": []
    },
    {
      "cell_type": "markdown",
      "metadata": {
        "id": "uQ5lNnKrD1BD"
      },
      "source": [
        "#**Aula 02**"
      ]
    },
    {
      "cell_type": "code",
      "source": [
        "preguntas.info()"
      ],
      "metadata": {
        "id": "io1SmfasF2Pv"
      },
      "execution_count": null,
      "outputs": []
    },
    {
      "cell_type": "code",
      "source": [
        "preguntas.Tags.unique()"
      ],
      "metadata": {
        "id": "-v-_PpeTF-Fi"
      },
      "execution_count": null,
      "outputs": []
    },
    {
      "cell_type": "code",
      "source": [
        "lista_de_tags = list()\n",
        "for tags in preguntas.Tags.unique():\n",
        "    for tag in tags.split():\n",
        "        if tag not in lista_de_tags:\n",
        "            lista_de_tags.append(tag)\n",
        "\n",
        "print(lista_de_tags)"
      ],
      "metadata": {
        "id": "3sNqJgLtGPwe"
      },
      "execution_count": null,
      "outputs": []
    },
    {
      "cell_type": "code",
      "source": [
        "lista = list()\n",
        "for fila_tag in preguntas.Tags:\n",
        "    if \"list\" in fila_tag:\n",
        "        lista.append(1)\n",
        "    else:\n",
        "        lista.append(0)\n",
        "preguntas[\"list\"] = lista\n",
        "preguntas.sample(5)"
      ],
      "metadata": {
        "id": "NgT5XZsAHRek"
      },
      "execution_count": null,
      "outputs": []
    },
    {
      "cell_type": "code",
      "source": [
        "def nueva_columna(lista_tags, dataframe, nombre_tags):\n",
        "    for tag in lista_tags:\n",
        "        columna = list()\n",
        "        for fila_tag in dataframe[nombre_tags]:\n",
        "            if tag in fila_tag:\n",
        "                columna.append(1)\n",
        "            else:\n",
        "                columna.append(0)\n",
        "        dataframe[tag] = columna\n",
        "\n",
        "nueva_columna(lista_de_tags, preguntas, \"Tags\")\n",
        "preguntas.sample(5)"
      ],
      "metadata": {
        "id": "h45uWnavIGij"
      },
      "execution_count": null,
      "outputs": []
    },
    {
      "cell_type": "markdown",
      "metadata": {
        "id": "y5V-1AK-D1BN"
      },
      "source": [
        "#**Aula 03**"
      ]
    },
    {
      "cell_type": "code",
      "source": [
        "from sklearn.model_selection import train_test_split\n",
        "\n",
        "preguntas_train, preguntas_test, tags_train, tags_test = train_test_split(\n",
        "    preguntas.Preguntas,\n",
        "    preguntas.Tags\n",
        ")"
      ],
      "metadata": {
        "id": "yK3k3BP3K_eX"
      },
      "execution_count": null,
      "outputs": []
    },
    {
      "cell_type": "code",
      "source": [
        "lista_1 = [1,2]\n",
        "lista_2 = [5,4]\n",
        "lista_zip = zip(lista_1, lista_2)\n",
        "print(list(lista_zip))"
      ],
      "metadata": {
        "id": "9B-D4KoRMEBm"
      },
      "execution_count": null,
      "outputs": []
    },
    {
      "cell_type": "code",
      "source": [
        "lista_zip_tags = list(zip(preguntas[lista_de_tags[0]],\n",
        "                     preguntas[lista_de_tags[1]],\n",
        "                     preguntas[lista_de_tags[2]],\n",
        "                     preguntas[lista_de_tags[3]],\n",
        "                     preguntas[lista_de_tags[4]]))\n",
        "\n",
        "preguntas[\"todas_tags\"] = lista_zip_tags\n",
        "preguntas.sample(5)"
      ],
      "metadata": {
        "id": "7-iUOuygMdj6"
      },
      "execution_count": null,
      "outputs": []
    },
    {
      "cell_type": "code",
      "source": [
        "from sklearn.model_selection import train_test_split\n",
        "\n",
        "preguntas_train, preguntas_test, tags_train, tags_test = train_test_split(\n",
        "    preguntas.Preguntas,\n",
        "    preguntas.todas_tags,\n",
        "    test_size = 0.2,\n",
        "    random_state = 123\n",
        ")"
      ],
      "metadata": {
        "id": "RmLm0yF8NICy"
      },
      "execution_count": null,
      "outputs": []
    },
    {
      "cell_type": "code",
      "source": [
        "preguntas_train.sample(5)"
      ],
      "metadata": {
        "id": "4kjXns1ZNpu-"
      },
      "execution_count": null,
      "outputs": []
    },
    {
      "cell_type": "code",
      "source": [
        "from sklearn.feature_extraction.text import TfidfVectorizer\n",
        "\n",
        "vectorizar = TfidfVectorizer(max_features=5000, max_df=0.85)\n",
        "vectorizar"
      ],
      "metadata": {
        "id": "gDAxrkVUOCTy"
      },
      "execution_count": null,
      "outputs": []
    },
    {
      "cell_type": "code",
      "source": [
        "vectorizar.fit(preguntas.Preguntas)\n",
        "preguntas_train_tfidf = vectorizar.transform(preguntas_train)\n",
        "preguntas_test_tfidf = vectorizar.transform(preguntas_test)\n",
        "print(preguntas_train_tfidf.shape)\n",
        "print(preguntas_test_tfidf.shape)"
      ],
      "metadata": {
        "id": "KAXiJLydPHnL"
      },
      "execution_count": null,
      "outputs": []
    },
    {
      "cell_type": "markdown",
      "metadata": {
        "id": "eAbwq1oLD1BW"
      },
      "source": [
        "#**Aula 04**"
      ]
    },
    {
      "cell_type": "code",
      "source": [
        "from sklearn.multiclass import OneVsRestClassifier\n",
        "from sklearn.linear_model import LogisticRegression\n",
        "\n",
        "regresion_logistica = LogisticRegression()\n",
        "clasificador_onevsrest = OneVsRestClassifier(regresion_logistica)\n",
        "clasificador_onevsrest.fit(preguntas_train_tfidf, tags_train)"
      ],
      "metadata": {
        "id": "HRduRAsW0ZeX"
      },
      "execution_count": null,
      "outputs": []
    },
    {
      "cell_type": "code",
      "source": [
        "type(tags_train)"
      ],
      "metadata": {
        "id": "lAyew8bt0ul6"
      },
      "execution_count": null,
      "outputs": []
    },
    {
      "cell_type": "code",
      "source": [
        "import numpy as np\n",
        "\n",
        "tags_train_array = np.asarray(list(tags_train))\n",
        "tags_test_array = np.asarray(list(tags_test))\n",
        "print(tags_train_array)\n",
        "print(type(tags_train_array))"
      ],
      "metadata": {
        "id": "toYGSaB0ys0D"
      },
      "execution_count": null,
      "outputs": []
    },
    {
      "cell_type": "code",
      "source": [
        "from sklearn.multiclass import OneVsRestClassifier\n",
        "from sklearn.linear_model import LogisticRegression\n",
        "\n",
        "regresion_logistica = LogisticRegression(solver = 'lbfgs')\n",
        "clasificador_onevsrest = OneVsRestClassifier(regresion_logistica)\n",
        "clasificador_onevsrest.fit(preguntas_train_tfidf, tags_train_array)\n",
        "resultado_onevsrest = clasificador_onevsrest.score(preguntas_test_tfidf, tags_test_array)\n",
        "print(\"Resultado {0: .2f}%\".format(resultado_onevsrest*100))"
      ],
      "metadata": {
        "id": "DtCy8ewU1A3b"
      },
      "execution_count": null,
      "outputs": []
    },
    {
      "cell_type": "markdown",
      "metadata": {
        "id": "ciJ4dw_FD1BZ"
      },
      "source": [
        "#**Aula 05**"
      ]
    },
    {
      "cell_type": "code",
      "source": [
        "from sklearn.metrics import hamming_loss\n",
        "\n",
        "pronostico_onevsrest = clasificador_onevsrest.predict(preguntas_test_tfidf)\n",
        "hamming_loss_onevsrest = hamming_loss(tags_test_array, pronostico_onevsrest)\n",
        "print(\"Hamming Loss {0: .2f}\".format(hamming_loss_onevsrest))"
      ],
      "metadata": {
        "id": "5pG9nJKO3mZk"
      },
      "execution_count": null,
      "outputs": []
    },
    {
      "cell_type": "code",
      "source": [
        "preguntas.corr()"
      ],
      "metadata": {
        "id": "UKM8hKwV3shx"
      },
      "execution_count": null,
      "outputs": []
    },
    {
      "cell_type": "markdown",
      "metadata": {
        "id": "HnUzHFQPD1Ba"
      },
      "source": [
        "#**Aula 06**"
      ]
    },
    {
      "cell_type": "code",
      "source": [
        "from skmultilearn.problem_transform import ClassifierChain\n",
        "\n",
        "clasificador_cadena = ClassifierChain(regresion_logistica)\n",
        "clasificador_cadena.fit(preguntas_train_tfidf, tags_train_array)\n",
        "resultado_cadena = clasificador_cadena.score(preguntas_test_tfidf, tags_test_array)\n",
        "pronostico_cadena = clasificador_cadena.predict(preguntas_test_tfidf)\n",
        "hamming_loss_cadena = hamming_loss(tags_test_array, pronostico_cadena)\n",
        "print(\"Hamming Loss {0: .2f}\".format(hamming_loss_cadena))\n",
        "print(\"Resultado {0: .2f}%\".format(resultado_cadena*100))"
      ],
      "metadata": {
        "id": "JHh13RZB9Qkl"
      },
      "execution_count": null,
      "outputs": []
    },
    {
      "cell_type": "code",
      "source": [
        "from skmultilearn.problem_transform import BinaryRelevance\n",
        "\n",
        "clasificador_br = BinaryRelevance(regresion_logistica)\n",
        "clasificador_br.fit(preguntas_train_tfidf, tags_train_array)\n",
        "resultado_br = clasificador_br.score(preguntas_test_tfidf, tags_test_array)\n",
        "pronostico_br = clasificador_br.predict(preguntas_test_tfidf)\n",
        "hamming_loss_br = hamming_loss(tags_test_array, pronostico_br)\n",
        "print(\"Hamming Loss {0: .2f}\".format(hamming_loss_br))\n",
        "print(\"Resultado {0: .2f}%\".format(resultado_br*100))"
      ],
      "metadata": {
        "id": "yIL6z6qaBw3v"
      },
      "execution_count": null,
      "outputs": []
    },
    {
      "cell_type": "markdown",
      "source": [
        "#**Aula 07**"
      ],
      "metadata": {
        "id": "__oG_40ZJgGM"
      }
    },
    {
      "cell_type": "code",
      "source": [
        "from skmultilearn.adapt import MLkNN\n",
        "\n",
        "clasificador_mlknn = MLkNN()\n",
        "clasificador_mlknn.fit(preguntas_train_tfidf, tags_train_array)\n",
        "resultado_mlknn = clasificador_mlknn.score(preguntas_test_tfidf, tags_test_array)\n",
        "pronostico_mlknn = clasificador_mlknn.predict(preguntas_test_tfidf)\n",
        "hamming_loss_mlknn = hamming_loss(tags_test_array, pronostico_mlknn)\n",
        "print(\"Hamming Loss {0: .2f}\".format(hamming_loss_mlknn))\n",
        "print(\"Resultado {0: .2f}%\".format(resultado_mlknn*100))"
      ],
      "metadata": {
        "id": "k0Vc8ELiCfV3"
      },
      "execution_count": null,
      "outputs": []
    },
    {
      "cell_type": "code",
      "source": [
        "resultados_clasificacion = pd.DataFrame()\n",
        "resultados_clasificacion[\"Preguntas\"] = preguntas_test.values\n",
        "resultados_clasificacion[\"Tags\"] = list(tags_test)\n",
        "resultados_clasificacion[\"BR\"] = list(pronostico_br.toarray())\n",
        "resultados_clasificacion[\"Cadena\"] = list(pronostico_cadena.toarray())\n",
        "resultados_clasificacion[\"Mlknn\"] = list(pronostico_mlknn.toarray())\n",
        "print(lista_de_tags)\n",
        "resultados_clasificacion.sample(5)"
      ],
      "metadata": {
        "id": "wzyoFAmcDzbp"
      },
      "execution_count": null,
      "outputs": []
    },
    {
      "cell_type": "code",
      "source": [
        "resultados_clasificacion[\"sum Tags\"] = list(map(sum, list(tags_test)))\n",
        "resultados_clasificacion[\"sum BR\"] = list(map(sum, list(pronostico_br.toarray())))\n",
        "resultados_clasificacion[\"sum Cadena\"] = list(map(sum, list(pronostico_cadena.toarray())))\n",
        "resultados_clasificacion[\"sum Mlknn\"] = list(map(sum, list(pronostico_mlknn.toarray())))\n",
        "resultados_clasificacion.sample(5)"
      ],
      "metadata": {
        "id": "1rH-KzHLFzCY"
      },
      "execution_count": null,
      "outputs": []
    },
    {
      "cell_type": "code",
      "source": [
        "print(lista_de_tags)\n",
        "resultados_clasificacion[resultados_clasificacion[\"sum Cadena\"]>1].sample(5)"
      ],
      "metadata": {
        "id": "HQgHxOxCGM7n"
      },
      "execution_count": null,
      "outputs": []
    },
    {
      "cell_type": "markdown",
      "source": [
        "[<div align=\"left\">\n",
        "    <img src=\"https://raw.githubusercontent.com/ElProfeAlejo/Bootcamp_Databases/main/imagenes/email_abajo.png\" alt=\"Texto alternativo\" width=\"50%\">](https://bootcampxperience.com/)"
      ],
      "metadata": {
        "id": "H6rd6Ktv-BVo"
      }
    }
  ],
  "metadata": {
    "colab": {
      "provenance": []
    },
    "kernelspec": {
      "display_name": "Python 3",
      "language": "python",
      "name": "python3"
    },
    "language_info": {
      "codemirror_mode": {
        "name": "ipython",
        "version": 3
      },
      "file_extension": ".py",
      "mimetype": "text/x-python",
      "name": "python",
      "nbconvert_exporter": "python",
      "pygments_lexer": "ipython3",
      "version": "3.7.1"
    }
  },
  "nbformat": 4,
  "nbformat_minor": 0
}