{
  "nbformat": 4,
  "nbformat_minor": 0,
  "metadata": {
    "colab": {
      "provenance": [],
      "collapsed_sections": [
        "mS7Q-RZ7yxWP",
        "84-53f4Lltmh",
        "WWawttSpltml",
        "VSmffnCklto6",
        "ock4Ku-Ulto8",
        "1pFx86QPlto_",
        "_wnTg0wJltpB",
        "cPbkST9pltpE",
        "ul4MuKyTltpG",
        "QwnxO_rYltpH",
        "qn1PUsM9ltpJ",
        "o4-gsGICltpN",
        "4CAwtS0-ltpR",
        "86-hOHa7ltpT",
        "fCWUSI1zltpZ",
        "7osmTUC4ltpa",
        "M0KwFofpsgwq",
        "vuHSFfMCvnib",
        "Acw1DffHltpn",
        "GPSk7Q_Dltp4",
        "iB-Vht7p8YEE",
        "CSKOjp_-9k2a",
        "Accj-AghI4ex",
        "iRodpHMTKj4w",
        "Z4VkVoYw0KQF",
        "FORPrmshTIdd",
        "SX_KeKvWWkUF",
        "thR3R4PIWpUq"
      ]
    },
    "kernelspec": {
      "name": "python3",
      "display_name": "Python 3"
    },
    "language_info": {
      "name": "python"
    }
  },
  "cells": [
    {
      "cell_type": "markdown",
      "source": [
        "<div align=\"left\">\n",
        "    <img src=\"https://raw.githubusercontent.com/ElProfeAlejo/Bootcamp_Databases/main/imagenes/email_arriba.png\" alt=\"Texto alternativo\" width=\"50%\">\n"
      ],
      "metadata": {
        "id": "5H3BjacwwZrn"
      }
    },
    {
      "cell_type": "markdown",
      "source": [
        "#**¿Qué es Numpy?**"
      ],
      "metadata": {
        "id": "C6M48IUiwfGq"
      }
    },
    {
      "cell_type": "markdown",
      "source": [
        "NumPy es una biblioteca clave en Python para manejar grandes cantidades de datos de manera eficiente. Te permite crear arrays (listas de datos más potentes que las listas normales de Python) y realizar operaciones matemáticas sobre ellos de manera súper rápida. Por ejemplo, si quieres sumar, restar o multiplicar todos los elementos de un arreglo, lo puedes hacer en una sola línea de código, sin necesidad de usar bucles.\n",
        "\n",
        "Documentación: https://numpy.org/doc/stable/"
      ],
      "metadata": {
        "id": "2ki8V0BSxVdP"
      }
    },
    {
      "cell_type": "markdown",
      "source": [
        "#**1. Importando Numpy**"
      ],
      "metadata": {
        "id": "mS7Q-RZ7yxWP"
      }
    },
    {
      "cell_type": "markdown",
      "metadata": {
        "id": "b8prsQjmltme"
      },
      "source": [
        "### Importando todo el paquete"
      ]
    },
    {
      "cell_type": "code",
      "execution_count": null,
      "metadata": {
        "id": "lP0tqXHLltmf",
        "colab": {
          "base_uri": "https://localhost:8080/",
          "height": 35
        },
        "outputId": "86315e24-1e0e-4a2f-feee-258ad1ecb8d2"
      },
      "outputs": [
        {
          "output_type": "execute_result",
          "data": {
            "text/plain": [
              "'1.26.4'"
            ],
            "application/vnd.google.colaboratory.intrinsic+json": {
              "type": "string"
            }
          },
          "metadata": {},
          "execution_count": 1
        }
      ],
      "source": [
        "import numpy\n",
        "numpy.__version__"
      ]
    },
    {
      "cell_type": "code",
      "execution_count": null,
      "metadata": {
        "id": "Y40UP3K7ltmg",
        "colab": {
          "base_uri": "https://localhost:8080/"
        },
        "outputId": "2eb0c9a1-4752-4b3a-c0b8-91cab88e14d9"
      },
      "outputs": [
        {
          "output_type": "execute_result",
          "data": {
            "text/plain": [
              "array([0, 1, 2, 3, 4, 5, 6, 7, 8, 9])"
            ]
          },
          "metadata": {},
          "execution_count": 2
        }
      ],
      "source": [
        "numpy.arange(10)"
      ]
    },
    {
      "cell_type": "markdown",
      "metadata": {
        "id": "84-53f4Lltmh"
      },
      "source": [
        "### Importando todo el paquete y asignándole un nuevo nombre"
      ]
    },
    {
      "cell_type": "code",
      "execution_count": null,
      "metadata": {
        "id": "CzESWck7ltmi"
      },
      "outputs": [],
      "source": [
        "import numpy as np"
      ]
    },
    {
      "cell_type": "code",
      "execution_count": null,
      "metadata": {
        "id": "RC7Dr5Viltmj",
        "colab": {
          "base_uri": "https://localhost:8080/"
        },
        "outputId": "fc42e5d2-201f-456c-80cc-c30a8bdd87aa"
      },
      "outputs": [
        {
          "output_type": "execute_result",
          "data": {
            "text/plain": [
              "array([0, 1, 2, 3, 4, 5, 6, 7, 8, 9])"
            ]
          },
          "metadata": {},
          "execution_count": 4
        }
      ],
      "source": [
        "np.arange(10)"
      ]
    },
    {
      "cell_type": "markdown",
      "metadata": {
        "id": "WWawttSpltml"
      },
      "source": [
        "### Importando parte del paquete"
      ]
    },
    {
      "cell_type": "code",
      "execution_count": null,
      "metadata": {
        "id": "8kTeo3Ltltmo"
      },
      "outputs": [],
      "source": [
        "from numpy import arange"
      ]
    },
    {
      "cell_type": "code",
      "execution_count": null,
      "metadata": {
        "id": "4LPnpiEwltmt",
        "colab": {
          "base_uri": "https://localhost:8080/"
        },
        "outputId": "b8b85917-7974-4d1b-ff8f-9794f6f59cf5"
      },
      "outputs": [
        {
          "output_type": "execute_result",
          "data": {
            "text/plain": [
              "array([0, 1, 2, 3, 4, 5, 6, 7, 8, 9])"
            ]
          },
          "metadata": {},
          "execution_count": 7
        }
      ],
      "source": [
        "arange(10)"
      ]
    },
    {
      "cell_type": "markdown",
      "metadata": {
        "id": "VSmffnCklto6"
      },
      "source": [
        "#**2. Creando arrays Numpy**"
      ]
    },
    {
      "cell_type": "markdown",
      "metadata": {
        "id": "ock4Ku-Ulto8"
      },
      "source": [
        "### A partir de listas"
      ]
    },
    {
      "cell_type": "code",
      "execution_count": null,
      "metadata": {
        "id": "82H-09CQlto9"
      },
      "outputs": [],
      "source": [
        "km = np.array([1000, 2300, 4987, 1500])"
      ]
    },
    {
      "cell_type": "code",
      "execution_count": null,
      "metadata": {
        "id": "8VYE3JSYlto9",
        "colab": {
          "base_uri": "https://localhost:8080/"
        },
        "outputId": "6dfb728e-5525-40b4-bf7c-6f0bdbea0209"
      },
      "outputs": [
        {
          "output_type": "execute_result",
          "data": {
            "text/plain": [
              "array([1000, 2300, 4987, 1500])"
            ]
          },
          "metadata": {},
          "execution_count": 9
        }
      ],
      "source": [
        "km"
      ]
    },
    {
      "cell_type": "code",
      "execution_count": null,
      "metadata": {
        "id": "OBsa5Cfplto-",
        "colab": {
          "base_uri": "https://localhost:8080/"
        },
        "outputId": "e6baf180-cd62-4aea-a650-ed40d249b4f9"
      },
      "outputs": [
        {
          "output_type": "execute_result",
          "data": {
            "text/plain": [
              "numpy.ndarray"
            ]
          },
          "metadata": {},
          "execution_count": 10
        }
      ],
      "source": [
        "type(km)"
      ]
    },
    {
      "cell_type": "code",
      "execution_count": null,
      "metadata": {
        "id": "6yLpkJcAlto-",
        "colab": {
          "base_uri": "https://localhost:8080/"
        },
        "outputId": "035a6732-98fa-458d-e15e-af9104ea80e6"
      },
      "outputs": [
        {
          "output_type": "execute_result",
          "data": {
            "text/plain": [
              "dtype('int64')"
            ]
          },
          "metadata": {},
          "execution_count": 11
        }
      ],
      "source": [
        "km.dtype"
      ]
    },
    {
      "cell_type": "markdown",
      "metadata": {
        "id": "1pFx86QPlto_"
      },
      "source": [
        "### A partir de datos externos"
      ]
    },
    {
      "cell_type": "code",
      "execution_count": null,
      "metadata": {
        "id": "26pQLNgrlto_"
      },
      "outputs": [],
      "source": [
        "km = np.loadtxt(fname='motos-km.txt', dtype = int)"
      ]
    },
    {
      "cell_type": "code",
      "execution_count": null,
      "metadata": {
        "id": "FoP42bdpltpA",
        "scrolled": true,
        "colab": {
          "base_uri": "https://localhost:8080/"
        },
        "outputId": "633b83f9-e1bd-4d60-dbc5-9dd43564f49b"
      },
      "outputs": [
        {
          "output_type": "execute_result",
          "data": {
            "text/plain": [
              "array([ 44410,   5712,  37123,      0,  25757,  10728,      0,  77599,\n",
              "        99197,  37978,  12859,   8052,  89773,      0,  41457, 115607,\n",
              "        46449,      0,  37086,  15173, 101193,      0,  98079, 102959,\n",
              "            0,      0,   5795,      0,  58848,  94381,  30163,  53332,\n",
              "        17720,  33808,  90684,  43975,      0,      0,   5526,      0,\n",
              "        93415,  40762,      0,  86302,      0,   9755,  69945,   2395,\n",
              "            0,  80349,  85554,  50496,  67716,  93947,  35345,  81007,\n",
              "       119513,      0,      0,      0,      0,      0, 118895,  48509,\n",
              "       100912,  95649,      0,  90495,      0,  29132,  23802,  84992,\n",
              "        54395,  26731,  44329, 118236, 113808,    610,      0,      0,\n",
              "        12887,  79607,  90924,  42733,      0,      0, 117714, 113885,\n",
              "            0,  30511,  74867, 119760,   8356,  64247,  88661,   4539,\n",
              "       110116,  33215,  92001,      0,  81708,  70641,      0,  91277,\n",
              "        26544,  52596,  47503,  89056,  28834, 110564,  56638,  17357,\n",
              "        74015,  15196,      0,  10821,      0,      0,   9595,  99052,\n",
              "        52389, 119945,  96005,  31639,      0,  80187,      0,  58212,\n",
              "        61672,  32017,      0,  56944,      0,  86519,   4821, 101025,\n",
              "        30705,      0,  32555, 103389,      0,  55289,      0,      0,\n",
              "       115930,  66437,  96800,  14237,  19896, 113045, 114942,   3173,\n",
              "        83611,  25356,  88634,   2314,   2627,  52034,      0,      0,\n",
              "        79577, 108201,  76453,  57683,  96610, 109001,  26212,  45971,\n",
              "        49182,  49907,  38620,  60996,  73914, 107392,   9146,      0,\n",
              "        17924,      0, 116949,  20476,  52804,   8849,  91724,  32056,\n",
              "        74886,      0,      0,  52189,  83559,      0,  20328,      0,\n",
              "        75577,  33659, 104341,  25510,  18965,  87161,   6652,  55738,\n",
              "            0,      0,      0,  64320,      0,  68678,  71697,      0,\n",
              "        34783,  33772,  85127,  13606,  35647,  95128,  14046,  41194,\n",
              "            0,  96100, 103900,  43814,  24638,      0, 110966,  15987,\n",
              "        53369,  10077,  71544,    107,   8394,  41498, 116002, 100858,\n",
              "        67475,   8497,   4420,      0,  58537,      0,      0, 112016,\n",
              "        91840, 112787,      0,      0,   9293,      0,  55083,  48796,\n",
              "            0,  89685,  85384,  98108,  71280,  27505,  29981,  52637,\n",
              "         7685,  50188])"
            ]
          },
          "metadata": {},
          "execution_count": 13
        }
      ],
      "source": [
        "km"
      ]
    },
    {
      "cell_type": "code",
      "execution_count": null,
      "metadata": {
        "id": "MNPjZJbYltpA",
        "colab": {
          "base_uri": "https://localhost:8080/"
        },
        "outputId": "23fcd36c-a727-4f49-dd04-da03f52c0131"
      },
      "outputs": [
        {
          "output_type": "execute_result",
          "data": {
            "text/plain": [
              "dtype('int64')"
            ]
          },
          "metadata": {},
          "execution_count": 15
        }
      ],
      "source": [
        "km.dtype"
      ]
    },
    {
      "cell_type": "markdown",
      "metadata": {
        "id": "_wnTg0wJltpB"
      },
      "source": [
        "### Arrays con dos dimensiones"
      ]
    },
    {
      "cell_type": "code",
      "execution_count": null,
      "metadata": {
        "id": "Gt1dL27GltpB",
        "scrolled": true,
        "colab": {
          "base_uri": "https://localhost:8080/"
        },
        "outputId": "a3933fa5-5e88-4857-a8af-e35880b7d0ed"
      },
      "outputs": [
        {
          "output_type": "execute_result",
          "data": {
            "text/plain": [
              "[['Llantas de aleación',\n",
              "  'Cerraduras de seguridad',\n",
              "  'Bolsas laterales',\n",
              "  'Asientos personalizados',\n",
              "  'Puños calefaccionados',\n",
              "  'Espejos retrovisores deportivos',\n",
              "  'Protecciones para manos',\n",
              "  'Iluminación LED'],\n",
              " ['Sistema de navegación',\n",
              "  'Techo desmontable',\n",
              "  'Frenos ABS',\n",
              "  'Suspensión ajustable',\n",
              "  'Panel digital',\n",
              "  'Puños calefaccionados',\n",
              "  'Asientos ergonómicos',\n",
              "  'Cámara de reversa'],\n",
              " ['Control de tracción',\n",
              "  'Iluminación adaptativa',\n",
              "  'Frenos de disco',\n",
              "  'Transmisión automática',\n",
              "  'Asientos de cuero',\n",
              "  'Sistema de audio',\n",
              "  'Ventanas de seguridad',\n",
              "  'Frenos ABS']]"
            ]
          },
          "metadata": {},
          "execution_count": 22
        }
      ],
      "source": [
        "datos = [\n",
        "    ['Llantas de aleación', 'Cerraduras de seguridad', 'Bolsas laterales', 'Asientos personalizados', 'Puños calefaccionados', 'Espejos retrovisores deportivos', 'Protecciones para manos', 'Iluminación LED'],\n",
        "    ['Sistema de navegación', 'Techo desmontable', 'Frenos ABS', 'Suspensión ajustable', 'Panel digital', 'Puños calefaccionados', 'Asientos ergonómicos', 'Cámara de reversa'],\n",
        "    ['Control de tracción', 'Iluminación adaptativa', 'Frenos de disco', 'Transmisión automática', 'Asientos de cuero', 'Sistema de audio', 'Ventanas de seguridad', 'Frenos ABS']\n",
        "]\n",
        "datos"
      ]
    },
    {
      "cell_type": "code",
      "execution_count": null,
      "metadata": {
        "id": "IlbYeZPkltpC"
      },
      "outputs": [],
      "source": [
        "Accesorios = np.array(datos)"
      ]
    },
    {
      "cell_type": "code",
      "execution_count": null,
      "metadata": {
        "id": "FgjmWozgltpD",
        "scrolled": true,
        "colab": {
          "base_uri": "https://localhost:8080/"
        },
        "outputId": "408ff66d-7fec-4185-b74c-049a3f8b95c6"
      },
      "outputs": [
        {
          "output_type": "execute_result",
          "data": {
            "text/plain": [
              "array([['Llantas de aleación', 'Cerraduras de seguridad',\n",
              "        'Bolsas laterales', 'Asientos personalizados',\n",
              "        'Puños calefaccionados', 'Espejos retrovisores deportivos',\n",
              "        'Protecciones para manos', 'Iluminación LED'],\n",
              "       ['Sistema de navegación', 'Techo desmontable', 'Frenos ABS',\n",
              "        'Suspensión ajustable', 'Panel digital', 'Puños calefaccionados',\n",
              "        'Asientos ergonómicos', 'Cámara de reversa'],\n",
              "       ['Control de tracción', 'Iluminación adaptativa',\n",
              "        'Frenos de disco', 'Transmisión automática', 'Asientos de cuero',\n",
              "        'Sistema de audio', 'Ventanas de seguridad', 'Frenos ABS']],\n",
              "      dtype='<U31')"
            ]
          },
          "metadata": {},
          "execution_count": 24
        }
      ],
      "source": [
        "Accesorios"
      ]
    },
    {
      "cell_type": "code",
      "execution_count": null,
      "metadata": {
        "id": "TDM9HskUltpD",
        "colab": {
          "base_uri": "https://localhost:8080/"
        },
        "outputId": "fafadd88-0012-4777-bcfc-c29e44c26014"
      },
      "outputs": [
        {
          "output_type": "execute_result",
          "data": {
            "text/plain": [
              "(3, 8)"
            ]
          },
          "metadata": {},
          "execution_count": 25
        }
      ],
      "source": [
        "Accesorios.shape"
      ]
    },
    {
      "cell_type": "code",
      "execution_count": null,
      "metadata": {
        "id": "bBmnzpF5ltpE",
        "colab": {
          "base_uri": "https://localhost:8080/"
        },
        "outputId": "505ce620-6579-4acf-f791-8e3aaa9e6030"
      },
      "outputs": [
        {
          "output_type": "execute_result",
          "data": {
            "text/plain": [
              "(258,)"
            ]
          },
          "metadata": {},
          "execution_count": 26
        }
      ],
      "source": [
        "km.shape"
      ]
    },
    {
      "cell_type": "markdown",
      "metadata": {
        "id": "cPbkST9pltpE"
      },
      "source": [
        "### Comparando desempeño con listas"
      ]
    },
    {
      "cell_type": "code",
      "execution_count": null,
      "metadata": {
        "id": "tTPC-G4vltpE"
      },
      "outputs": [],
      "source": [
        "np_array = np.arange(1000000)"
      ]
    },
    {
      "cell_type": "code",
      "execution_count": null,
      "metadata": {
        "id": "PIC-ndg9ltpF"
      },
      "outputs": [],
      "source": [
        "py_list = list(range(1000000))"
      ]
    },
    {
      "cell_type": "code",
      "execution_count": null,
      "metadata": {
        "id": "vXy57nk2ltpF",
        "colab": {
          "base_uri": "https://localhost:8080/"
        },
        "outputId": "d468a9a1-bab1-4fbe-b789-d7aef97392c8"
      },
      "outputs": [
        {
          "output_type": "stream",
          "name": "stdout",
          "text": [
            "CPU times: user 72.8 ms, sys: 0 ns, total: 72.8 ms\n",
            "Wall time: 73.7 ms\n"
          ]
        }
      ],
      "source": [
        "%time for _ in range(100): np_array *= 2"
      ]
    },
    {
      "cell_type": "code",
      "execution_count": null,
      "metadata": {
        "id": "I94lVgCRltpG",
        "colab": {
          "base_uri": "https://localhost:8080/"
        },
        "outputId": "1ccba97b-8113-4fb6-fa68-705590ac5732"
      },
      "outputs": [
        {
          "output_type": "stream",
          "name": "stdout",
          "text": [
            "CPU times: user 9.93 s, sys: 3.44 s, total: 13.4 s\n",
            "Wall time: 13.6 s\n"
          ]
        }
      ],
      "source": [
        "%time for _ in range(100): py_list = [x*2 for x in py_list]"
      ]
    },
    {
      "cell_type": "markdown",
      "metadata": {
        "id": "ul4MuKyTltpG"
      },
      "source": [
        "#**3. Operaciones aritméticas con arrays Numpy**"
      ]
    },
    {
      "cell_type": "markdown",
      "metadata": {
        "id": "QwnxO_rYltpH"
      },
      "source": [
        "### Operaciones entre arrays y constantes"
      ]
    },
    {
      "cell_type": "code",
      "execution_count": 31,
      "metadata": {
        "id": "63KVHPK0ltpH"
      },
      "outputs": [],
      "source": [
        "km = [44410., 5712., 37123., 0., 25757.]\n",
        "años = [2003, 1991, 1990, 2019, 2006]"
      ]
    },
    {
      "cell_type": "code",
      "execution_count": null,
      "metadata": {
        "id": "AryIZaBIltpH",
        "collapsed": true
      },
      "outputs": [],
      "source": [
        "edad = 2024 - años"
      ]
    },
    {
      "cell_type": "code",
      "execution_count": 35,
      "metadata": {
        "id": "s8GvEk4HltpI"
      },
      "outputs": [],
      "source": [
        "km = np.array([44410., 5712., 37123., 0., 25757.])\n",
        "años = np.array([2003, 1991, 1990, 2019, 2006])"
      ]
    },
    {
      "cell_type": "code",
      "execution_count": 38,
      "metadata": {
        "id": "aUnYV7OultpI"
      },
      "outputs": [],
      "source": [
        "edad = 2024 - años"
      ]
    },
    {
      "cell_type": "code",
      "execution_count": 39,
      "metadata": {
        "id": "vg5yZ9IpltpJ",
        "colab": {
          "base_uri": "https://localhost:8080/"
        },
        "outputId": "0a8d7998-5b40-43bb-82af-3cec81b288fe"
      },
      "outputs": [
        {
          "output_type": "execute_result",
          "data": {
            "text/plain": [
              "array([21, 33, 34,  5, 18])"
            ]
          },
          "metadata": {},
          "execution_count": 39
        }
      ],
      "source": [
        "edad"
      ]
    },
    {
      "cell_type": "markdown",
      "metadata": {
        "id": "qn1PUsM9ltpJ"
      },
      "source": [
        "### Operaciones entre arrays"
      ]
    },
    {
      "cell_type": "code",
      "execution_count": 40,
      "metadata": {
        "id": "gU_d5aZkltpJ"
      },
      "outputs": [],
      "source": [
        "km_media = km / edad"
      ]
    },
    {
      "cell_type": "code",
      "execution_count": 41,
      "metadata": {
        "id": "U9DXntUEltpK",
        "colab": {
          "base_uri": "https://localhost:8080/"
        },
        "outputId": "bf4a29ff-0695-43a8-8aa2-c4b215d29cd5"
      },
      "outputs": [
        {
          "output_type": "execute_result",
          "data": {
            "text/plain": [
              "array([2114.76190476,  173.09090909, 1091.85294118,    0.        ,\n",
              "       1430.94444444])"
            ]
          },
          "metadata": {},
          "execution_count": 41
        }
      ],
      "source": [
        "km_media"
      ]
    },
    {
      "cell_type": "code",
      "execution_count": 42,
      "metadata": {
        "id": "n0rPxgY1ltpL",
        "colab": {
          "base_uri": "https://localhost:8080/"
        },
        "outputId": "4e5e13b9-36a2-4192-938e-ae4de898f3ab"
      },
      "outputs": [
        {
          "output_type": "execute_result",
          "data": {
            "text/plain": [
              "2114.7619047619046"
            ]
          },
          "metadata": {},
          "execution_count": 42
        }
      ],
      "source": [
        "44410. / 21"
      ]
    },
    {
      "cell_type": "markdown",
      "metadata": {
        "id": "o4-gsGICltpN"
      },
      "source": [
        "### Operaciones con arrays de dos dimensiones"
      ]
    },
    {
      "cell_type": "code",
      "source": [
        "km = [44410., 5712., 37123., 0., 25757.]\n",
        "años = [2003, 1991, 1990, 2019, 2006]"
      ],
      "metadata": {
        "id": "u6G1vZCugGuk"
      },
      "execution_count": 43,
      "outputs": []
    },
    {
      "cell_type": "code",
      "execution_count": 44,
      "metadata": {
        "id": "VT71Pbb3ltpN"
      },
      "outputs": [],
      "source": [
        "datos = np.array([km, años])"
      ]
    },
    {
      "cell_type": "code",
      "execution_count": 45,
      "metadata": {
        "id": "bgDe00q8ltpO",
        "colab": {
          "base_uri": "https://localhost:8080/"
        },
        "outputId": "9c12d201-934c-496e-8941-42ee320de766"
      },
      "outputs": [
        {
          "output_type": "execute_result",
          "data": {
            "text/plain": [
              "array([[44410.,  5712., 37123.,     0., 25757.],\n",
              "       [ 2003.,  1991.,  1990.,  2019.,  2006.]])"
            ]
          },
          "metadata": {},
          "execution_count": 45
        }
      ],
      "source": [
        "datos"
      ]
    },
    {
      "cell_type": "code",
      "execution_count": 46,
      "metadata": {
        "id": "VeVM8s0p1MkT",
        "colab": {
          "base_uri": "https://localhost:8080/"
        },
        "outputId": "39f98de3-ea43-4104-ebab-1cd2603d4fb6"
      },
      "outputs": [
        {
          "output_type": "execute_result",
          "data": {
            "text/plain": [
              "(2, 5)"
            ]
          },
          "metadata": {},
          "execution_count": 46
        }
      ],
      "source": [
        "datos.shape"
      ]
    },
    {
      "cell_type": "markdown",
      "metadata": {
        "id": "dsgz-E5ZltpP"
      },
      "source": [
        "![Numpy-img01.png](https://raw.githubusercontent.com/ElProfeAlejo/Bootcamp_Databases/main/imagenes/Numpy-img01.png)"
      ]
    },
    {
      "cell_type": "code",
      "execution_count": 47,
      "metadata": {
        "id": "imANn6HultpQ",
        "colab": {
          "base_uri": "https://localhost:8080/"
        },
        "outputId": "30262d29-61d9-4096-d39f-fa1cd347485d"
      },
      "outputs": [
        {
          "output_type": "execute_result",
          "data": {
            "text/plain": [
              "array([44410.,  5712., 37123.,     0., 25757.])"
            ]
          },
          "metadata": {},
          "execution_count": 47
        }
      ],
      "source": [
        "datos[0]"
      ]
    },
    {
      "cell_type": "code",
      "execution_count": 48,
      "metadata": {
        "id": "Nkp9ljkvltpQ",
        "colab": {
          "base_uri": "https://localhost:8080/"
        },
        "outputId": "70e79538-7e39-40ac-99c3-7de16981874a"
      },
      "outputs": [
        {
          "output_type": "execute_result",
          "data": {
            "text/plain": [
              "array([2003., 1991., 1990., 2019., 2006.])"
            ]
          },
          "metadata": {},
          "execution_count": 48
        }
      ],
      "source": [
        "datos[1]"
      ]
    },
    {
      "cell_type": "code",
      "execution_count": 49,
      "metadata": {
        "id": "njJ2z3HJltpR",
        "colab": {
          "base_uri": "https://localhost:8080/"
        },
        "outputId": "202b9afb-4b0e-4196-cbed-1c6377250d6b"
      },
      "outputs": [
        {
          "output_type": "execute_result",
          "data": {
            "text/plain": [
              "array([2114.76190476,  173.09090909, 1091.85294118,    0.        ,\n",
              "       1430.94444444])"
            ]
          },
          "metadata": {},
          "execution_count": 49
        }
      ],
      "source": [
        "km_media = datos[0] / (2024 - datos[1])\n",
        "km_media"
      ]
    },
    {
      "cell_type": "markdown",
      "metadata": {
        "id": "4CAwtS0-ltpR"
      },
      "source": [
        "#**4. Selecciones con arrays Numpy**"
      ]
    },
    {
      "cell_type": "markdown",
      "source": [
        "![Numpy-img01.png](https://raw.githubusercontent.com/ElProfeAlejo/Bootcamp_Databases/main/imagenes/Numpy-img01.png)"
      ],
      "metadata": {
        "id": "V3wDJ1Xt1pDC"
      }
    },
    {
      "cell_type": "code",
      "execution_count": 50,
      "metadata": {
        "id": "nZpPGS2TltpS",
        "colab": {
          "base_uri": "https://localhost:8080/"
        },
        "outputId": "c03bbfaf-abe6-4b18-986e-3850b2a595b6"
      },
      "outputs": [
        {
          "output_type": "execute_result",
          "data": {
            "text/plain": [
              "array([[44410.,  5712., 37123.,     0., 25757.],\n",
              "       [ 2003.,  1991.,  1990.,  2019.,  2006.]])"
            ]
          },
          "metadata": {},
          "execution_count": 50
        }
      ],
      "source": [
        "datos"
      ]
    },
    {
      "cell_type": "markdown",
      "metadata": {
        "id": "b--BIPcOltpT"
      },
      "source": [
        "![1410-img02.png](https://caelum-online-public.s3.amazonaws.com/1410-pythondatascience/01/1410-img02.png)"
      ]
    },
    {
      "cell_type": "markdown",
      "metadata": {
        "id": "86-hOHa7ltpT"
      },
      "source": [
        "### Indexación\n",
        "\n",
        "<font color=red>**Observación:**</font> La indexación tiene inicio en cero."
      ]
    },
    {
      "cell_type": "code",
      "execution_count": 51,
      "metadata": {
        "id": "mr0Q_X0JltpT",
        "colab": {
          "base_uri": "https://localhost:8080/"
        },
        "outputId": "07938841-54e7-407e-e77d-ed66b14d91ec"
      },
      "outputs": [
        {
          "output_type": "execute_result",
          "data": {
            "text/plain": [
              "array([0, 1, 2, 3, 4, 5, 6, 7, 8, 9])"
            ]
          },
          "metadata": {},
          "execution_count": 51
        }
      ],
      "source": [
        "contador = np.arange(10)\n",
        "contador"
      ]
    },
    {
      "cell_type": "code",
      "execution_count": 52,
      "metadata": {
        "id": "VxiR_IgdltpU",
        "colab": {
          "base_uri": "https://localhost:8080/"
        },
        "outputId": "bfcab326-20cc-4dc9-a2b8-3be296f7254a"
      },
      "outputs": [
        {
          "output_type": "execute_result",
          "data": {
            "text/plain": [
              "0"
            ]
          },
          "metadata": {},
          "execution_count": 52
        }
      ],
      "source": [
        "contador[0]"
      ]
    },
    {
      "cell_type": "code",
      "execution_count": 53,
      "metadata": {
        "id": "xGDomIyAltpU",
        "colab": {
          "base_uri": "https://localhost:8080/"
        },
        "outputId": "59a494e7-9878-4daa-e58a-104ce1c573fc"
      },
      "outputs": [
        {
          "output_type": "execute_result",
          "data": {
            "text/plain": [
              "9"
            ]
          },
          "metadata": {},
          "execution_count": 53
        }
      ],
      "source": [
        "contador[9]"
      ]
    },
    {
      "cell_type": "code",
      "execution_count": 54,
      "metadata": {
        "id": "QEO5Za5PltpV",
        "colab": {
          "base_uri": "https://localhost:8080/"
        },
        "outputId": "8d0b6450-49fe-45e3-9a86-ad33ac57a514"
      },
      "outputs": [
        {
          "output_type": "execute_result",
          "data": {
            "text/plain": [
              "9"
            ]
          },
          "metadata": {},
          "execution_count": 54
        }
      ],
      "source": [
        "contador[-1]"
      ]
    },
    {
      "cell_type": "code",
      "execution_count": 55,
      "metadata": {
        "id": "rvkeMK8KltpV",
        "colab": {
          "base_uri": "https://localhost:8080/"
        },
        "outputId": "bba7f7fd-ca9b-4dab-e86f-c4d24c615b63"
      },
      "outputs": [
        {
          "output_type": "execute_result",
          "data": {
            "text/plain": [
              "array([44410.,  5712., 37123.,     0., 25757.])"
            ]
          },
          "metadata": {},
          "execution_count": 55
        }
      ],
      "source": [
        "datos[0]"
      ]
    },
    {
      "cell_type": "code",
      "execution_count": 56,
      "metadata": {
        "id": "_MckWeNatykZ",
        "colab": {
          "base_uri": "https://localhost:8080/"
        },
        "outputId": "07348c47-347c-4d5e-a80c-dbcc450733a2"
      },
      "outputs": [
        {
          "output_type": "execute_result",
          "data": {
            "text/plain": [
              "array([2003., 1991., 1990., 2019., 2006.])"
            ]
          },
          "metadata": {},
          "execution_count": 56
        }
      ],
      "source": [
        "datos[1]"
      ]
    },
    {
      "cell_type": "markdown",
      "metadata": {
        "id": "fCWUSI1zltpZ"
      },
      "source": [
        "### <font color=green>**Consejo:**</font>\n",
        "### *ndarray[ linea ][ columna ]* o *ndarray[ linea, columna ]*"
      ]
    },
    {
      "cell_type": "code",
      "execution_count": 57,
      "metadata": {
        "id": "Nxc3uY-ZltpZ",
        "colab": {
          "base_uri": "https://localhost:8080/"
        },
        "outputId": "d08215d8-be88-43d1-c98f-bd89b615fae6"
      },
      "outputs": [
        {
          "output_type": "execute_result",
          "data": {
            "text/plain": [
              "1990.0"
            ]
          },
          "metadata": {},
          "execution_count": 57
        }
      ],
      "source": [
        "datos[1][2]"
      ]
    },
    {
      "cell_type": "code",
      "execution_count": 58,
      "metadata": {
        "id": "xp8ByjualtpZ",
        "colab": {
          "base_uri": "https://localhost:8080/"
        },
        "outputId": "74356ae5-479b-4fc9-ec45-7e8b3d36c72a"
      },
      "outputs": [
        {
          "output_type": "execute_result",
          "data": {
            "text/plain": [
              "1990.0"
            ]
          },
          "metadata": {},
          "execution_count": 58
        }
      ],
      "source": [
        "datos[1,2]"
      ]
    },
    {
      "cell_type": "markdown",
      "metadata": {
        "id": "7osmTUC4ltpa"
      },
      "source": [
        " ### Particiones\n",
        "\n",
        "La sintaxis para realizar particiones en un array Numpy es $i : j : k$ donde $i$ es el índice inicial, $j$ es el índice final, y $k$ es el indicador de intervalo ($k\\neq0$)\n",
        "\n",
        "<font color=red>**Observación:**</font> En las particiones (*slices*) el objeto con índice i es **incluído** y el objeto con índice j **no es incluído** en el resultado."
      ]
    },
    {
      "cell_type": "markdown",
      "metadata": {
        "id": "HEx4TbNlltpa"
      },
      "source": [
        "![Numpy-img01.png](https://raw.githubusercontent.com/ElProfeAlejo/Bootcamp_Databases/main/imagenes/Numpy-img01.png)"
      ]
    },
    {
      "cell_type": "code",
      "execution_count": 60,
      "metadata": {
        "id": "tlaD1SENltpb",
        "colab": {
          "base_uri": "https://localhost:8080/"
        },
        "outputId": "68aef596-e06b-4201-dce0-48b7b7c19f5d"
      },
      "outputs": [
        {
          "output_type": "execute_result",
          "data": {
            "text/plain": [
              "array([0, 1, 2, 3, 4, 5, 6, 7, 8, 9])"
            ]
          },
          "metadata": {},
          "execution_count": 60
        }
      ],
      "source": [
        "contador = np.arange(10)\n",
        "contador"
      ]
    },
    {
      "cell_type": "code",
      "execution_count": 61,
      "metadata": {
        "id": "vXLIO1cVltpc",
        "colab": {
          "base_uri": "https://localhost:8080/"
        },
        "outputId": "7ee85bdd-5539-4082-a1c7-90f157773dea"
      },
      "outputs": [
        {
          "output_type": "execute_result",
          "data": {
            "text/plain": [
              "array([1, 2, 3])"
            ]
          },
          "metadata": {},
          "execution_count": 61
        }
      ],
      "source": [
        "contador[1:4:]"
      ]
    },
    {
      "cell_type": "code",
      "execution_count": 62,
      "metadata": {
        "id": "kYLgsQcHltpc",
        "colab": {
          "base_uri": "https://localhost:8080/"
        },
        "outputId": "5c47db7f-51a3-4c58-c47b-e3d7fc737d34"
      },
      "outputs": [
        {
          "output_type": "execute_result",
          "data": {
            "text/plain": [
              "array([1, 3, 5, 7])"
            ]
          },
          "metadata": {},
          "execution_count": 62
        }
      ],
      "source": [
        "contador[1:8:2]"
      ]
    },
    {
      "cell_type": "code",
      "execution_count": 63,
      "metadata": {
        "id": "H2MJpIasltpd",
        "colab": {
          "base_uri": "https://localhost:8080/"
        },
        "outputId": "3e5b28fb-e60c-4b6f-adbe-a9f4b8696b29"
      },
      "outputs": [
        {
          "output_type": "execute_result",
          "data": {
            "text/plain": [
              "array([0, 2, 4, 6, 8])"
            ]
          },
          "metadata": {},
          "execution_count": 63
        }
      ],
      "source": [
        "contador[::2]"
      ]
    },
    {
      "cell_type": "code",
      "execution_count": 64,
      "metadata": {
        "id": "YVzf4fNCltpe",
        "colab": {
          "base_uri": "https://localhost:8080/"
        },
        "outputId": "b82d7eff-1461-4604-fb99-d12e2e1876d6"
      },
      "outputs": [
        {
          "output_type": "execute_result",
          "data": {
            "text/plain": [
              "array([1, 3, 5, 7, 9])"
            ]
          },
          "metadata": {},
          "execution_count": 64
        }
      ],
      "source": [
        "contador[1::2]"
      ]
    },
    {
      "cell_type": "code",
      "execution_count": 65,
      "metadata": {
        "id": "bPyQsUFPltpf",
        "colab": {
          "base_uri": "https://localhost:8080/"
        },
        "outputId": "0d3f05d2-f2c7-4654-eb89-6a1eb3e6947f"
      },
      "outputs": [
        {
          "output_type": "execute_result",
          "data": {
            "text/plain": [
              "array([[44410.,  5712., 37123.,     0., 25757.],\n",
              "       [ 2003.,  1991.,  1990.,  2019.,  2006.]])"
            ]
          },
          "metadata": {},
          "execution_count": 65
        }
      ],
      "source": [
        "datos"
      ]
    },
    {
      "cell_type": "code",
      "execution_count": 66,
      "metadata": {
        "id": "IRxfixG-ltpg",
        "colab": {
          "base_uri": "https://localhost:8080/"
        },
        "outputId": "d1d309f2-0052-40a7-b92f-dd5e72eb4371"
      },
      "outputs": [
        {
          "output_type": "execute_result",
          "data": {
            "text/plain": [
              "array([[ 5712., 37123.,     0.],\n",
              "       [ 1991.,  1990.,  2019.]])"
            ]
          },
          "metadata": {},
          "execution_count": 66
        }
      ],
      "source": [
        "datos[::,1:4:]"
      ]
    },
    {
      "cell_type": "code",
      "execution_count": 67,
      "metadata": {
        "id": "wfoJ84haltph",
        "colab": {
          "base_uri": "https://localhost:8080/"
        },
        "outputId": "a6d30b34-aa7f-4695-f4f1-29f6ba3e178d"
      },
      "outputs": [
        {
          "output_type": "execute_result",
          "data": {
            "text/plain": [
              "array([ 173.09090909, 1091.85294118,    0.        ])"
            ]
          },
          "metadata": {},
          "execution_count": 67
        }
      ],
      "source": [
        "km_media = datos[::,1:4:][0] / (2024 - datos[::,1:4:][1])\n",
        "km_media"
      ]
    },
    {
      "cell_type": "code",
      "execution_count": 69,
      "metadata": {
        "id": "UeejSXUAltph",
        "colab": {
          "base_uri": "https://localhost:8080/"
        },
        "outputId": "805fc1b7-a2e5-4460-c405-af16e30be865"
      },
      "outputs": [
        {
          "output_type": "execute_result",
          "data": {
            "text/plain": [
              "array([2114.76190476,  173.09090909, 1091.85294118,    0.        ,\n",
              "       1430.94444444])"
            ]
          },
          "metadata": {},
          "execution_count": 69
        }
      ],
      "source": [
        "datos[0] / (2024 - datos[1])"
      ]
    },
    {
      "cell_type": "markdown",
      "metadata": {
        "id": "-fW4EXIqltpi"
      },
      "source": [
        "### Indexación con array booleano\n",
        "\n",
        "<font color=red>**Observación:**</font> Selecciona un grupo de líneas y columnas siguiendo las etiquetas o un array booleano."
      ]
    },
    {
      "cell_type": "code",
      "execution_count": 70,
      "metadata": {
        "id": "MgmH-rCSltpi",
        "colab": {
          "base_uri": "https://localhost:8080/"
        },
        "outputId": "b4615989-b78e-408a-f418-bcae01695c6c"
      },
      "outputs": [
        {
          "output_type": "execute_result",
          "data": {
            "text/plain": [
              "array([0, 1, 2, 3, 4, 5, 6, 7, 8, 9])"
            ]
          },
          "metadata": {},
          "execution_count": 70
        }
      ],
      "source": [
        "contador = np.arange(10)\n",
        "contador"
      ]
    },
    {
      "cell_type": "code",
      "execution_count": 71,
      "metadata": {
        "id": "HN1i-BlLltpj",
        "colab": {
          "base_uri": "https://localhost:8080/"
        },
        "outputId": "5933fa34-6094-4da0-b2b9-eb3d6a96b3bb"
      },
      "outputs": [
        {
          "output_type": "execute_result",
          "data": {
            "text/plain": [
              "array([False, False, False, False, False, False,  True,  True,  True,\n",
              "        True])"
            ]
          },
          "metadata": {},
          "execution_count": 71
        }
      ],
      "source": [
        "contador > 5"
      ]
    },
    {
      "cell_type": "code",
      "execution_count": 72,
      "metadata": {
        "id": "iXJa9tL4ltpj",
        "colab": {
          "base_uri": "https://localhost:8080/"
        },
        "outputId": "1437f2ca-ecaf-4378-edf9-74dcddb311d7"
      },
      "outputs": [
        {
          "output_type": "execute_result",
          "data": {
            "text/plain": [
              "array([6, 7, 8, 9])"
            ]
          },
          "metadata": {},
          "execution_count": 72
        }
      ],
      "source": [
        "contador[contador > 5]"
      ]
    },
    {
      "cell_type": "code",
      "execution_count": 73,
      "metadata": {
        "id": "54gH6X5eltpk",
        "colab": {
          "base_uri": "https://localhost:8080/"
        },
        "outputId": "2e47c8a7-3139-4b9d-fbbf-56491196bab8"
      },
      "outputs": [
        {
          "output_type": "execute_result",
          "data": {
            "text/plain": [
              "array([[44410.,  5712., 37123.,     0., 25757.],\n",
              "       [ 2003.,  1991.,  1990.,  2019.,  2006.]])"
            ]
          },
          "metadata": {},
          "execution_count": 73
        }
      ],
      "source": [
        "datos"
      ]
    },
    {
      "cell_type": "code",
      "execution_count": 75,
      "metadata": {
        "id": "F3z6zMELltpk",
        "colab": {
          "base_uri": "https://localhost:8080/"
        },
        "outputId": "a91a0894-6126-4fb1-d02c-a65639770949"
      },
      "outputs": [
        {
          "output_type": "execute_result",
          "data": {
            "text/plain": [
              "array([ True, False, False,  True,  True])"
            ]
          },
          "metadata": {},
          "execution_count": 75
        }
      ],
      "source": [
        "datos[1]>2000"
      ]
    },
    {
      "cell_type": "code",
      "execution_count": 76,
      "metadata": {
        "id": "pk8A68z1ltpl",
        "colab": {
          "base_uri": "https://localhost:8080/"
        },
        "outputId": "6c66e5c4-b8d4-411d-d4a3-aad61b8388de"
      },
      "outputs": [
        {
          "output_type": "execute_result",
          "data": {
            "text/plain": [
              "array([[44410.,     0., 25757.],\n",
              "       [ 2003.,  2019.,  2006.]])"
            ]
          },
          "metadata": {},
          "execution_count": 76
        }
      ],
      "source": [
        "datos[::,datos[1]>2000]"
      ]
    },
    {
      "cell_type": "markdown",
      "source": [
        "#**5. Funciones Matemáticas de Numpy**"
      ],
      "metadata": {
        "id": "M0KwFofpsgwq"
      }
    },
    {
      "cell_type": "markdown",
      "source": [
        "### Funciones Matemáticas:\n",
        "- Numpy es una biblioteca especializada para operaciones matemáticas, y como tal, tenemos una variedad de funciones que nos ayudan a realizar estos cálculos:\n",
        "https://numpy.org/doc/stable/reference/routines.math.html"
      ],
      "metadata": {
        "id": "ZLFm3BpkswAL"
      }
    },
    {
      "cell_type": "markdown",
      "source": [
        "### *power(array)*\n",
        "\n",
        "Exponenciación de los elementos de un array."
      ],
      "metadata": {
        "id": "YRIqrIF7vUzb"
      }
    },
    {
      "cell_type": "code",
      "source": [
        "m1 = np.array([3,2])\n",
        "m1"
      ],
      "metadata": {
        "id": "lzjbwmbisj1S",
        "colab": {
          "base_uri": "https://localhost:8080/"
        },
        "outputId": "3ba13ad1-9bd5-476e-b5f2-6bbe5ff3e7e9"
      },
      "execution_count": 88,
      "outputs": [
        {
          "output_type": "execute_result",
          "data": {
            "text/plain": [
              "array([3, 2])"
            ]
          },
          "metadata": {},
          "execution_count": 88
        }
      ]
    },
    {
      "cell_type": "code",
      "source": [
        "np.power(m1,3)"
      ],
      "metadata": {
        "id": "j63YkpL_uKJH",
        "colab": {
          "base_uri": "https://localhost:8080/"
        },
        "outputId": "c67a6955-43c9-41da-f92b-917e69d2b786"
      },
      "execution_count": 90,
      "outputs": [
        {
          "output_type": "execute_result",
          "data": {
            "text/plain": [
              "array([27,  8])"
            ]
          },
          "metadata": {},
          "execution_count": 90
        }
      ]
    },
    {
      "cell_type": "markdown",
      "source": [
        "### *array.max() y array.min()*\n",
        "\n",
        "Elemento con valor máximo o mínimo en un array."
      ],
      "metadata": {
        "id": "vuHSFfMCvnib"
      }
    },
    {
      "cell_type": "code",
      "source": [
        "m1 = np.array([9,3,4,2,5,6,7])\n",
        "m1"
      ],
      "metadata": {
        "id": "rWuj1xqpwG7M",
        "colab": {
          "base_uri": "https://localhost:8080/"
        },
        "outputId": "f3cf3b85-ea55-41ef-9398-10ef7b99ea03"
      },
      "execution_count": 94,
      "outputs": [
        {
          "output_type": "execute_result",
          "data": {
            "text/plain": [
              "array([9, 3, 4, 2, 5, 6, 7])"
            ]
          },
          "metadata": {},
          "execution_count": 94
        }
      ]
    },
    {
      "cell_type": "code",
      "source": [
        "m1.max()"
      ],
      "metadata": {
        "id": "o174aZWFwNcY",
        "colab": {
          "base_uri": "https://localhost:8080/"
        },
        "outputId": "acde5e3f-20b5-4dae-c5d0-05804a6a82fb"
      },
      "execution_count": 95,
      "outputs": [
        {
          "output_type": "execute_result",
          "data": {
            "text/plain": [
              "9"
            ]
          },
          "metadata": {},
          "execution_count": 95
        }
      ]
    },
    {
      "cell_type": "code",
      "source": [
        "m1.min()"
      ],
      "metadata": {
        "id": "c8c5ksIwwaO6",
        "colab": {
          "base_uri": "https://localhost:8080/"
        },
        "outputId": "08f35642-82ef-496e-b20e-6f3c698a8d79"
      },
      "execution_count": 96,
      "outputs": [
        {
          "output_type": "execute_result",
          "data": {
            "text/plain": [
              "2"
            ]
          },
          "metadata": {},
          "execution_count": 96
        }
      ]
    },
    {
      "cell_type": "markdown",
      "source": [
        "### *add(array1, array2)*\n",
        "\n",
        "Suma los elementos de 2 arrays."
      ],
      "metadata": {
        "id": "DTp6L11AxMJG"
      }
    },
    {
      "cell_type": "code",
      "source": [
        "m1 = np.array([[1,2],[3,4]])\n",
        "m2 = np.array([[5,6],[7,8]])"
      ],
      "metadata": {
        "id": "ZpSJQvj2xUDW"
      },
      "execution_count": 97,
      "outputs": []
    },
    {
      "cell_type": "code",
      "source": [
        "m1.shape"
      ],
      "metadata": {
        "colab": {
          "base_uri": "https://localhost:8080/"
        },
        "id": "e8yfvQGjyAjD",
        "outputId": "e5ee2369-ec48-4b24-ee76-37660e122813"
      },
      "execution_count": 99,
      "outputs": [
        {
          "output_type": "execute_result",
          "data": {
            "text/plain": [
              "(2, 2)"
            ]
          },
          "metadata": {},
          "execution_count": 99
        }
      ]
    },
    {
      "cell_type": "markdown",
      "source": [
        "$$\n",
        "m_1 = \\begin{pmatrix}\n",
        "1 & 2 \\\\\n",
        "3 & 4\n",
        "\\end{pmatrix}\n",
        "\\quad\n",
        "m_2 = \\begin{pmatrix}\n",
        "5 & 6 \\\\\n",
        "7 & 8\n",
        "\\end{pmatrix}\n",
        "$$\n"
      ],
      "metadata": {
        "id": "RhJG3iq7wJgZ"
      }
    },
    {
      "cell_type": "code",
      "source": [
        "np.add(m1,m2)"
      ],
      "metadata": {
        "id": "sYkpr5puxlFa",
        "colab": {
          "base_uri": "https://localhost:8080/"
        },
        "outputId": "73e511f0-40da-42e9-fd20-c650412a279a"
      },
      "execution_count": 100,
      "outputs": [
        {
          "output_type": "execute_result",
          "data": {
            "text/plain": [
              "array([[ 6,  8],\n",
              "       [10, 12]])"
            ]
          },
          "metadata": {},
          "execution_count": 100
        }
      ]
    },
    {
      "cell_type": "markdown",
      "source": [
        "### *subtract(array1, array2)*\n",
        "\n",
        "Resta los elementos de 2 arrays."
      ],
      "metadata": {
        "id": "p5IeCYKlxwit"
      }
    },
    {
      "cell_type": "code",
      "source": [
        "m1 = np.array([[1,2],[3,4]])\n",
        "m2 = np.array([[5,6],[7,8]])"
      ],
      "metadata": {
        "id": "oPAY0-anx20E"
      },
      "execution_count": 101,
      "outputs": []
    },
    {
      "cell_type": "markdown",
      "source": [
        "$$\n",
        "m_1 = \\begin{pmatrix}\n",
        "1 & 2 \\\\\n",
        "3 & 4\n",
        "\\end{pmatrix}\n",
        "\\quad\n",
        "m_2 = \\begin{pmatrix}\n",
        "5 & 6 \\\\\n",
        "7 & 8\n",
        "\\end{pmatrix}\n",
        "$$\n"
      ],
      "metadata": {
        "id": "3RnjlL1JwSvB"
      }
    },
    {
      "cell_type": "code",
      "source": [
        "np.subtract(m1,m2)"
      ],
      "metadata": {
        "id": "UtwMXpj0x4CK",
        "colab": {
          "base_uri": "https://localhost:8080/"
        },
        "outputId": "e0947913-54ea-4cd9-8434-49622120e527"
      },
      "execution_count": 102,
      "outputs": [
        {
          "output_type": "execute_result",
          "data": {
            "text/plain": [
              "array([[-4, -4],\n",
              "       [-4, -4]])"
            ]
          },
          "metadata": {},
          "execution_count": 102
        }
      ]
    },
    {
      "cell_type": "markdown",
      "source": [
        "### *multiply(array1, array2)*\n",
        "\n",
        "Multiplica los elementos de 2 arrays."
      ],
      "metadata": {
        "id": "L1Bqft79yEt3"
      }
    },
    {
      "cell_type": "code",
      "source": [
        "m1 = np.array([[1,2],[3,4]])\n",
        "m2 = np.array([[5,6],[7,8]])"
      ],
      "metadata": {
        "id": "60U8bRzYyHpr"
      },
      "execution_count": 103,
      "outputs": []
    },
    {
      "cell_type": "markdown",
      "source": [
        "$$\n",
        "m_1 = \\begin{pmatrix}\n",
        "1 & 2 \\\\\n",
        "3 & 4\n",
        "\\end{pmatrix}\n",
        "\\quad\n",
        "m_2 = \\begin{pmatrix}\n",
        "5 & 6 \\\\\n",
        "7 & 8\n",
        "\\end{pmatrix}\n",
        "$$\n"
      ],
      "metadata": {
        "id": "KLiIggqnwUiG"
      }
    },
    {
      "cell_type": "code",
      "source": [
        "np.multiply(m1,m2)"
      ],
      "metadata": {
        "id": "oP56DgnkyHsO",
        "colab": {
          "base_uri": "https://localhost:8080/"
        },
        "outputId": "87f1c79f-4e85-405a-c219-05aea9206fd5"
      },
      "execution_count": 104,
      "outputs": [
        {
          "output_type": "execute_result",
          "data": {
            "text/plain": [
              "array([[ 5, 12],\n",
              "       [21, 32]])"
            ]
          },
          "metadata": {},
          "execution_count": 104
        }
      ]
    },
    {
      "cell_type": "markdown",
      "source": [
        "### *divide(array1, array2)*\n",
        "\n",
        "Divide los elementos de 2 arrays."
      ],
      "metadata": {
        "id": "fAqO40LxyM9x"
      }
    },
    {
      "cell_type": "code",
      "source": [
        "m1 = np.array([[1,2],[3,4]])\n",
        "m2 = np.array([[5,6],[7,8]])"
      ],
      "metadata": {
        "id": "oRucsD7ryPsh"
      },
      "execution_count": 105,
      "outputs": []
    },
    {
      "cell_type": "markdown",
      "source": [
        "$$\n",
        "m_1 = \\begin{pmatrix}\n",
        "1 & 2 \\\\\n",
        "3 & 4\n",
        "\\end{pmatrix}\n",
        "\\quad\n",
        "m_2 = \\begin{pmatrix}\n",
        "5 & 6 \\\\\n",
        "7 & 8\n",
        "\\end{pmatrix}\n",
        "$$\n"
      ],
      "metadata": {
        "id": "-YPtc_LGwenJ"
      }
    },
    {
      "cell_type": "code",
      "source": [
        "np.divide(m1,m2)"
      ],
      "metadata": {
        "id": "m8wa1waMyPw7",
        "colab": {
          "base_uri": "https://localhost:8080/"
        },
        "outputId": "1b742d45-d5b5-4c30-ac75-93e7137052d2"
      },
      "execution_count": 106,
      "outputs": [
        {
          "output_type": "execute_result",
          "data": {
            "text/plain": [
              "array([[0.2       , 0.33333333],\n",
              "       [0.42857143, 0.5       ]])"
            ]
          },
          "metadata": {},
          "execution_count": 106
        }
      ]
    },
    {
      "cell_type": "markdown",
      "metadata": {
        "id": "Acw1DffHltpn"
      },
      "source": [
        "#**6. Atributos y métodos de arrays Numpy**"
      ]
    },
    {
      "cell_type": "markdown",
      "metadata": {
        "id": "RBnSne6Eltpo"
      },
      "source": [
        "## Atributos"
      ]
    },
    {
      "cell_type": "code",
      "execution_count": 108,
      "metadata": {
        "id": "stjvD6m8ltpo",
        "colab": {
          "base_uri": "https://localhost:8080/"
        },
        "outputId": "3e207f10-1039-4750-c678-09613e2e4fb5"
      },
      "outputs": [
        {
          "output_type": "execute_result",
          "data": {
            "text/plain": [
              "array([[44410.,  5712., 37123.,     0., 25757.],\n",
              "       [ 2003.,  1991.,  1990.,  2019.,  2006.]])"
            ]
          },
          "metadata": {},
          "execution_count": 108
        }
      ],
      "source": [
        "datos"
      ]
    },
    {
      "cell_type": "markdown",
      "metadata": {
        "id": "uKqPxg2Zltpo"
      },
      "source": [
        "### *ndarray.shape*\n",
        "\n",
        "Devuelve una tupla con las dimensiones del array."
      ]
    },
    {
      "cell_type": "code",
      "execution_count": 109,
      "metadata": {
        "id": "gmaZhF04ltpp",
        "colab": {
          "base_uri": "https://localhost:8080/"
        },
        "outputId": "6ea3f0c4-1d4c-447d-fa3e-79d1401f780c"
      },
      "outputs": [
        {
          "output_type": "execute_result",
          "data": {
            "text/plain": [
              "(2, 5)"
            ]
          },
          "metadata": {},
          "execution_count": 109
        }
      ],
      "source": [
        "datos.shape"
      ]
    },
    {
      "cell_type": "markdown",
      "metadata": {
        "id": "XaY6oXkmltpp"
      },
      "source": [
        "### *ndarray.ndim*\n",
        "\n",
        "Devuelve el número de dimensiones del array."
      ]
    },
    {
      "cell_type": "code",
      "execution_count": 110,
      "metadata": {
        "id": "inJ4HDjaltpq",
        "colab": {
          "base_uri": "https://localhost:8080/"
        },
        "outputId": "2c5cf623-155c-4ce1-ca86-1cbed2cfb559"
      },
      "outputs": [
        {
          "output_type": "execute_result",
          "data": {
            "text/plain": [
              "2"
            ]
          },
          "metadata": {},
          "execution_count": 110
        }
      ],
      "source": [
        "datos.ndim"
      ]
    },
    {
      "cell_type": "markdown",
      "metadata": {
        "id": "ESgVt5xOltpq"
      },
      "source": [
        "### *ndarray.size*\n",
        "\n",
        "Devuelve el número de elementos del array."
      ]
    },
    {
      "cell_type": "code",
      "execution_count": 111,
      "metadata": {
        "id": "BWr4efoiltpq",
        "colab": {
          "base_uri": "https://localhost:8080/"
        },
        "outputId": "5bce40ad-26eb-43fd-a7c8-5ad44ac36a06"
      },
      "outputs": [
        {
          "output_type": "execute_result",
          "data": {
            "text/plain": [
              "10"
            ]
          },
          "metadata": {},
          "execution_count": 111
        }
      ],
      "source": [
        "datos.size"
      ]
    },
    {
      "cell_type": "markdown",
      "metadata": {
        "id": "Ox8JlBM3ltpr"
      },
      "source": [
        "### *ndarray.dtype*\n",
        "\n",
        "Devuelve el tipo de datos de los elementos del array."
      ]
    },
    {
      "cell_type": "code",
      "execution_count": 112,
      "metadata": {
        "id": "npiL84Vfltpu",
        "colab": {
          "base_uri": "https://localhost:8080/"
        },
        "outputId": "6fbf4104-b001-4b2f-fc4f-114e416b057b"
      },
      "outputs": [
        {
          "output_type": "execute_result",
          "data": {
            "text/plain": [
              "dtype('float64')"
            ]
          },
          "metadata": {},
          "execution_count": 112
        }
      ],
      "source": [
        "datos.dtype"
      ]
    },
    {
      "cell_type": "markdown",
      "metadata": {
        "id": "j7uPN16oltpv"
      },
      "source": [
        "### *ndarray.T*\n",
        "\n",
        "Devuelve el array transpuesto, es decir, convierte líneas en columnas y viceversa."
      ]
    },
    {
      "cell_type": "code",
      "execution_count": 113,
      "metadata": {
        "id": "bLjrrx56ltpv",
        "colab": {
          "base_uri": "https://localhost:8080/"
        },
        "outputId": "821f099d-0147-45c1-c571-6a8c784d2e49"
      },
      "outputs": [
        {
          "output_type": "execute_result",
          "data": {
            "text/plain": [
              "array([[44410.,  2003.],\n",
              "       [ 5712.,  1991.],\n",
              "       [37123.,  1990.],\n",
              "       [    0.,  2019.],\n",
              "       [25757.,  2006.]])"
            ]
          },
          "metadata": {},
          "execution_count": 113
        }
      ],
      "source": [
        "datos.T"
      ]
    },
    {
      "cell_type": "code",
      "execution_count": 114,
      "metadata": {
        "id": "5A9SlJQvltpw",
        "colab": {
          "base_uri": "https://localhost:8080/"
        },
        "outputId": "2e4a5fd0-7f45-43b1-9ce9-65d900b53cd3"
      },
      "outputs": [
        {
          "output_type": "execute_result",
          "data": {
            "text/plain": [
              "array([[44410.,  2003.],\n",
              "       [ 5712.,  1991.],\n",
              "       [37123.,  1990.],\n",
              "       [    0.,  2019.],\n",
              "       [25757.,  2006.]])"
            ]
          },
          "metadata": {},
          "execution_count": 114
        }
      ],
      "source": [
        "datos.transpose()"
      ]
    },
    {
      "cell_type": "markdown",
      "metadata": {
        "id": "e9r6ryTrltpw"
      },
      "source": [
        "## Métodos"
      ]
    },
    {
      "cell_type": "markdown",
      "metadata": {
        "id": "SR9KYy-0ltpw"
      },
      "source": [
        "### *ndarray.tolist()*\n",
        "\n",
        "Devuelve el array como una lista Python."
      ]
    },
    {
      "cell_type": "code",
      "execution_count": 115,
      "metadata": {
        "id": "C2aTAwOXltpw",
        "colab": {
          "base_uri": "https://localhost:8080/"
        },
        "outputId": "45956c1b-2324-41ee-a3b1-65b64a21ee22"
      },
      "outputs": [
        {
          "output_type": "execute_result",
          "data": {
            "text/plain": [
              "[[44410.0, 5712.0, 37123.0, 0.0, 25757.0],\n",
              " [2003.0, 1991.0, 1990.0, 2019.0, 2006.0]]"
            ]
          },
          "metadata": {},
          "execution_count": 115
        }
      ],
      "source": [
        "datos.tolist()"
      ]
    },
    {
      "cell_type": "markdown",
      "metadata": {
        "id": "bHxcxugPltpx"
      },
      "source": [
        "### *ndarray.reshape(shape[, order])*\n",
        "\n",
        "Devuelve un array que contiene los mismos datos con una nueva forma."
      ]
    },
    {
      "cell_type": "code",
      "execution_count": 122,
      "metadata": {
        "id": "lwESxO71ltpx",
        "colab": {
          "base_uri": "https://localhost:8080/"
        },
        "outputId": "026ee34c-1a3b-4a62-ca6e-4623772ff488"
      },
      "outputs": [
        {
          "output_type": "execute_result",
          "data": {
            "text/plain": [
              "array([0, 1, 2, 3, 4, 5, 6, 7, 8, 9])"
            ]
          },
          "metadata": {},
          "execution_count": 122
        }
      ],
      "source": [
        "contador=np.arange(10)\n",
        "contador"
      ]
    },
    {
      "cell_type": "code",
      "execution_count": 123,
      "metadata": {
        "id": "sh9poyfzltpy",
        "colab": {
          "base_uri": "https://localhost:8080/"
        },
        "outputId": "aa390b96-7e4c-4249-c11b-dba93e1c9b80"
      },
      "outputs": [
        {
          "output_type": "execute_result",
          "data": {
            "text/plain": [
              "array([[0, 1],\n",
              "       [2, 3],\n",
              "       [4, 5],\n",
              "       [6, 7],\n",
              "       [8, 9]])"
            ]
          },
          "metadata": {},
          "execution_count": 123
        }
      ],
      "source": [
        "contador.reshape((5,2))"
      ]
    },
    {
      "cell_type": "code",
      "execution_count": 124,
      "metadata": {
        "id": "5332Xu8-ltpy",
        "colab": {
          "base_uri": "https://localhost:8080/"
        },
        "outputId": "cdae1348-ba39-4101-84c9-814a84212918"
      },
      "outputs": [
        {
          "output_type": "execute_result",
          "data": {
            "text/plain": [
              "array([[0, 1],\n",
              "       [2, 3],\n",
              "       [4, 5],\n",
              "       [6, 7],\n",
              "       [8, 9]])"
            ]
          },
          "metadata": {},
          "execution_count": 124
        }
      ],
      "source": [
        "contador.reshape((5,2), order = 'C')"
      ]
    },
    {
      "cell_type": "code",
      "execution_count": 125,
      "metadata": {
        "id": "2RoZvbgHltpz",
        "colab": {
          "base_uri": "https://localhost:8080/"
        },
        "outputId": "270ae4b2-c917-4f21-d762-17db270240b1"
      },
      "outputs": [
        {
          "output_type": "execute_result",
          "data": {
            "text/plain": [
              "array([[0, 5],\n",
              "       [1, 6],\n",
              "       [2, 7],\n",
              "       [3, 8],\n",
              "       [4, 9]])"
            ]
          },
          "metadata": {},
          "execution_count": 125
        }
      ],
      "source": [
        "contador.reshape((5,2), order = 'F')"
      ]
    },
    {
      "cell_type": "code",
      "execution_count": 126,
      "metadata": {
        "id": "6q0dJZ-dltp0"
      },
      "outputs": [],
      "source": [
        "km = [44410, 5712, 37123, 0, 25757]\n",
        "años = [2003, 1991, 1990, 2019, 2006]"
      ]
    },
    {
      "cell_type": "code",
      "execution_count": 127,
      "metadata": {
        "id": "bs56aGrkltp0",
        "colab": {
          "base_uri": "https://localhost:8080/"
        },
        "outputId": "31a17927-16a5-489a-d95e-c1e9a770e1b1"
      },
      "outputs": [
        {
          "output_type": "execute_result",
          "data": {
            "text/plain": [
              "[44410, 5712, 37123, 0, 25757, 2003, 1991, 1990, 2019, 2006]"
            ]
          },
          "metadata": {},
          "execution_count": 127
        }
      ],
      "source": [
        "info_motos = km + años\n",
        "info_motos"
      ]
    },
    {
      "cell_type": "code",
      "execution_count": 130,
      "metadata": {
        "id": "s_GkTk2fltp1",
        "colab": {
          "base_uri": "https://localhost:8080/"
        },
        "outputId": "de51fd0c-caea-4e17-98c8-d8d53443a435"
      },
      "outputs": [
        {
          "output_type": "execute_result",
          "data": {
            "text/plain": [
              "array([[44410,  5712, 37123,     0, 25757],\n",
              "       [ 2003,  1991,  1990,  2019,  2006]])"
            ]
          },
          "metadata": {},
          "execution_count": 130
        }
      ],
      "source": [
        "np.array(info_motos).reshape((2,5))"
      ]
    },
    {
      "cell_type": "code",
      "execution_count": 132,
      "metadata": {
        "id": "xodm8DVZltp1",
        "colab": {
          "base_uri": "https://localhost:8080/"
        },
        "outputId": "6abec20c-6213-42cf-f540-db1a150eca71"
      },
      "outputs": [
        {
          "output_type": "execute_result",
          "data": {
            "text/plain": [
              "array([[44410,  2003],\n",
              "       [ 5712,  1991],\n",
              "       [37123,  1990],\n",
              "       [    0,  2019],\n",
              "       [25757,  2006]])"
            ]
          },
          "metadata": {},
          "execution_count": 132
        }
      ],
      "source": [
        "np.array(info_motos).reshape((5,2), order = 'F')"
      ]
    },
    {
      "cell_type": "markdown",
      "metadata": {
        "id": "Tdj5iArbltp2"
      },
      "source": [
        "### *ndarray.resize(new_shape[, refcheck])*\n",
        "\n",
        "Cambia la forma y el tamaño del array."
      ]
    },
    {
      "cell_type": "code",
      "execution_count": 134,
      "metadata": {
        "id": "vB2zxCDtltp2",
        "colab": {
          "base_uri": "https://localhost:8080/"
        },
        "outputId": "7aac77fb-8cd1-4df1-8caa-abfe591e64eb"
      },
      "outputs": [
        {
          "output_type": "execute_result",
          "data": {
            "text/plain": [
              "array([[44410.,  5712., 37123.,     0., 25757.],\n",
              "       [ 2003.,  1991.,  1990.,  2019.,  2006.]])"
            ]
          },
          "metadata": {},
          "execution_count": 134
        }
      ],
      "source": [
        "datos_new = datos.copy()\n",
        "datos_new"
      ]
    },
    {
      "cell_type": "code",
      "execution_count": 136,
      "metadata": {
        "id": "IMv0m4Multp2"
      },
      "outputs": [],
      "source": [
        "datos_new.resize((3,5), refcheck=False)"
      ]
    },
    {
      "cell_type": "code",
      "execution_count": 137,
      "metadata": {
        "id": "wpAi9928ltp3",
        "colab": {
          "base_uri": "https://localhost:8080/"
        },
        "outputId": "ec715eda-bde5-4d89-e14e-cc5b9ecd3095"
      },
      "outputs": [
        {
          "output_type": "execute_result",
          "data": {
            "text/plain": [
              "array([[44410.,  5712., 37123.,     0., 25757.],\n",
              "       [ 2003.,  1991.,  1990.,  2019.,  2006.],\n",
              "       [    0.,     0.,     0.,     0.,     0.]])"
            ]
          },
          "metadata": {},
          "execution_count": 137
        }
      ],
      "source": [
        "datos_new"
      ]
    },
    {
      "cell_type": "code",
      "execution_count": 138,
      "metadata": {
        "id": "CJyuKqaFltp3"
      },
      "outputs": [],
      "source": [
        "datos_new[2] = datos_new[0] / (2024 - datos_new[1])"
      ]
    },
    {
      "cell_type": "code",
      "execution_count": 139,
      "metadata": {
        "id": "bj_iPZAultp4",
        "colab": {
          "base_uri": "https://localhost:8080/"
        },
        "outputId": "aaf4f989-2b7f-4a9f-9b8c-3d9bc55b6079"
      },
      "outputs": [
        {
          "output_type": "execute_result",
          "data": {
            "text/plain": [
              "array([[44410.        ,  5712.        , 37123.        ,     0.        ,\n",
              "        25757.        ],\n",
              "       [ 2003.        ,  1991.        ,  1990.        ,  2019.        ,\n",
              "         2006.        ],\n",
              "       [ 2114.76190476,   173.09090909,  1091.85294118,     0.        ,\n",
              "         1430.94444444]])"
            ]
          },
          "metadata": {},
          "execution_count": 139
        }
      ],
      "source": [
        "datos_new"
      ]
    },
    {
      "cell_type": "markdown",
      "metadata": {
        "id": "GPSk7Q_Dltp4"
      },
      "source": [
        "#**7. Estadísticas con arrays Numpy**"
      ]
    },
    {
      "cell_type": "code",
      "execution_count": 140,
      "metadata": {
        "id": "RH2u1orXltp5"
      },
      "outputs": [],
      "source": [
        "años = np.loadtxt(fname = \"motos-fecha.txt\", dtype = int)\n",
        "km = np.loadtxt(fname = \"motos-km.txt\")\n",
        "valor = np.loadtxt(fname = \"motos-valor.txt\")"
      ]
    },
    {
      "cell_type": "code",
      "execution_count": 143,
      "metadata": {
        "id": "wbITF7r6ltp5",
        "colab": {
          "base_uri": "https://localhost:8080/"
        },
        "outputId": "6d37bc68-35b0-452b-af26-33075888fe77"
      },
      "outputs": [
        {
          "output_type": "execute_result",
          "data": {
            "text/plain": [
              "(258,)"
            ]
          },
          "metadata": {},
          "execution_count": 143
        }
      ],
      "source": [
        "valor.shape"
      ]
    },
    {
      "cell_type": "code",
      "execution_count": 144,
      "metadata": {
        "id": "wefxl-XBltp8",
        "colab": {
          "base_uri": "https://localhost:8080/"
        },
        "outputId": "dbeb3ece-8ce7-485e-ec23-0e9e437e7462"
      },
      "outputs": [
        {
          "output_type": "execute_result",
          "data": {
            "text/plain": [
              "array([[2.0070000e+03, 4.4410000e+04, 8.8078640e+04],\n",
              "       [1.9950000e+03, 5.7120000e+03, 1.0616194e+05],\n",
              "       [1.9940000e+03, 3.7123000e+04, 7.2832160e+04],\n",
              "       [2.0240000e+03, 0.0000000e+00, 1.2454907e+05],\n",
              "       [2.0100000e+03, 2.5757000e+04, 9.2612100e+04],\n",
              "       [2.0160000e+03, 1.0728000e+04, 9.7497730e+04],\n",
              "       [2.0240000e+03, 0.0000000e+00, 5.6445200e+04],\n",
              "       [2.0130000e+03, 7.7599000e+04, 1.1231044e+05],\n",
              "       [2.0140000e+03, 9.9197000e+04, 1.2071627e+05],\n",
              "       [2.0150000e+03, 3.7978000e+04, 7.6566490e+04],\n",
              "       [2.0060000e+03, 1.2859000e+04, 7.1647590e+04],\n",
              "       [2.0110000e+03, 8.0520000e+03, 7.3919530e+04],\n",
              "       [2.0050000e+03, 8.9773000e+04, 1.1273299e+05],\n",
              "       [2.0240000e+03, 0.0000000e+00, 5.3183380e+04],\n",
              "       [2.0130000e+03, 4.1457000e+04, 1.2748842e+05],\n",
              "       [2.0200000e+03, 1.1560700e+05, 5.9910400e+04],\n",
              "       [2.0160000e+03, 4.6449000e+04, 6.1118590e+04],\n",
              "       [2.0240000e+03, 0.0000000e+00, 8.8552390e+04],\n",
              "       [2.0200000e+03, 3.7086000e+04, 6.2696690e+04],\n",
              "       [2.0210000e+03, 1.5173000e+04, 1.0172630e+05],\n",
              "       [2.0060000e+03, 1.0119300e+05, 1.0614738e+05],\n",
              "       [2.0240000e+03, 0.0000000e+00, 9.4564400e+04],\n",
              "       [1.9980000e+03, 9.8079000e+04, 1.3352984e+05],\n",
              "       [1.9950000e+03, 1.0295900e+05, 1.2568465e+05],\n",
              "       [2.0240000e+03, 0.0000000e+00, 1.2159621e+05],\n",
              "       [2.0240000e+03, 0.0000000e+00, 7.1367100e+04],\n",
              "       [2.0200000e+03, 5.7950000e+03, 9.5347750e+04],\n",
              "       [2.0240000e+03, 0.0000000e+00, 1.0543284e+05],\n",
              "       [2.0060000e+03, 5.8848000e+04, 5.7045270e+04],\n",
              "       [1.9950000e+03, 9.4381000e+04, 1.2043270e+05],\n",
              "       [2.0010000e+03, 3.0163000e+04, 7.0707200e+04],\n",
              "       [1.9990000e+03, 5.3332000e+04, 6.9105180e+04],\n",
              "       [2.0220000e+03, 1.7720000e+04, 5.9358690e+04],\n",
              "       [1.9950000e+03, 3.3808000e+04, 6.5955400e+04],\n",
              "       [2.0180000e+03, 9.0684000e+04, 6.0017030e+04],\n",
              "       [1.9990000e+03, 4.3975000e+04, 1.1890952e+05],\n",
              "       [2.0240000e+03, 0.0000000e+00, 5.1606590e+04],\n",
              "       [2.0240000e+03, 0.0000000e+00, 1.2328187e+05],\n",
              "       [2.0130000e+03, 5.5260000e+03, 6.9770180e+04],\n",
              "       [2.0240000e+03, 0.0000000e+00, 1.0260954e+05],\n",
              "       [2.0170000e+03, 9.3415000e+04, 6.7997190e+04],\n",
              "       [2.0070000e+03, 4.0762000e+04, 1.3523529e+05],\n",
              "       [2.0240000e+03, 0.0000000e+00, 8.6641340e+04],\n",
              "       [2.0060000e+03, 8.6302000e+04, 1.3681839e+05],\n",
              "       [2.0240000e+03, 0.0000000e+00, 1.1762673e+05],\n",
              "       [2.0060000e+03, 9.7550000e+03, 5.6208700e+04],\n",
              "       [2.0080000e+03, 6.9945000e+04, 8.4222650e+04],\n",
              "       [2.0050000e+03, 2.3950000e+03, 9.0781650e+04],\n",
              "       [2.0240000e+03, 0.0000000e+00, 6.4701100e+04],\n",
              "       [2.0070000e+03, 8.0349000e+04, 1.2635049e+05],\n",
              "       [2.0130000e+03, 8.5554000e+04, 1.4815289e+05],\n",
              "       [2.0100000e+03, 5.0496000e+04, 1.3229883e+05],\n",
              "       [2.0040000e+03, 6.7716000e+04, 1.3762763e+05],\n",
              "       [2.0100000e+03, 9.3947000e+04, 8.0422710e+04],\n",
              "       [2.0140000e+03, 3.5345000e+04, 5.6373990e+04],\n",
              "       [1.9980000e+03, 8.1007000e+04, 7.0846030e+04],\n",
              "       [2.0110000e+03, 1.1951300e+05, 1.2869423e+05],\n",
              "       [2.0240000e+03, 0.0000000e+00, 1.3332919e+05],\n",
              "       [2.0240000e+03, 0.0000000e+00, 1.3196143e+05],\n",
              "       [2.0240000e+03, 0.0000000e+00, 1.1203327e+05],\n",
              "       [2.0240000e+03, 0.0000000e+00, 8.1399350e+04],\n",
              "       [2.0240000e+03, 0.0000000e+00, 9.7163100e+04],\n",
              "       [2.0210000e+03, 1.1889500e+05, 6.6007160e+04],\n",
              "       [2.0150000e+03, 4.8509000e+04, 1.2877622e+05],\n",
              "       [2.0050000e+03, 1.0091200e+05, 1.4262302e+05],\n",
              "       [2.0000000e+03, 9.5649000e+04, 1.3693013e+05],\n",
              "       [2.0240000e+03, 0.0000000e+00, 6.6526610e+04],\n",
              "       [1.9980000e+03, 9.0495000e+04, 1.1415487e+05],\n",
              "       [2.0240000e+03, 0.0000000e+00, 1.4239275e+05],\n",
              "       [2.0110000e+03, 2.9132000e+04, 1.4671691e+05],\n",
              "       [1.9980000e+03, 2.3802000e+04, 1.2248568e+05],\n",
              "       [2.0110000e+03, 8.4992000e+04, 9.7951030e+04],\n",
              "       [2.0010000e+03, 5.4395000e+04, 7.8283490e+04],\n",
              "       [2.0100000e+03, 2.6731000e+04, 8.3434040e+04],\n",
              "       [2.0170000e+03, 4.4329000e+04, 7.7836230e+04],\n",
              "       [1.9980000e+03, 1.1823600e+05, 6.0813920e+04],\n",
              "       [2.0120000e+03, 1.1380800e+05, 9.1353860e+04],\n",
              "       [2.0120000e+03, 6.1000000e+02, 1.1628121e+05],\n",
              "       [2.0240000e+03, 0.0000000e+00, 1.4519770e+05],\n",
              "       [2.0240000e+03, 0.0000000e+00, 5.0742100e+04],\n",
              "       [2.0030000e+03, 1.2887000e+04, 7.3033530e+04],\n",
              "       [2.0110000e+03, 7.9607000e+04, 5.4332870e+04],\n",
              "       [1.9970000e+03, 9.0924000e+04, 5.2207450e+04],\n",
              "       [1.9990000e+03, 4.2733000e+04, 6.3578500e+04],\n",
              "       [2.0240000e+03, 0.0000000e+00, 6.4507720e+04],\n",
              "       [2.0240000e+03, 0.0000000e+00, 1.1507559e+05],\n",
              "       [2.0200000e+03, 1.1771400e+05, 1.3303060e+05],\n",
              "       [2.0150000e+03, 1.1388500e+05, 1.4159186e+05],\n",
              "       [2.0240000e+03, 0.0000000e+00, 1.0038028e+05],\n",
              "       [2.0060000e+03, 3.0511000e+04, 9.6369040e+04],\n",
              "       [2.0170000e+03, 7.4867000e+04, 1.4260384e+05],\n",
              "       [2.0210000e+03, 1.1976000e+05, 1.1770967e+05],\n",
              "       [2.0200000e+03, 8.3560000e+03, 1.0224154e+05],\n",
              "       [2.0120000e+03, 6.4247000e+04, 9.6065380e+04],\n",
              "       [2.0220000e+03, 8.8661000e+04, 5.3894610e+04],\n",
              "       [2.0070000e+03, 4.5390000e+03, 1.2391178e+05],\n",
              "       [2.0070000e+03, 1.1011600e+05, 1.0199635e+05],\n",
              "       [2.0080000e+03, 3.3215000e+04, 8.3431660e+04],\n",
              "       [2.0140000e+03, 9.2001000e+04, 1.2297563e+05],\n",
              "       [2.0240000e+03, 0.0000000e+00, 9.3227730e+04],\n",
              "       [2.0100000e+03, 8.1708000e+04, 5.8762650e+04],\n",
              "       [2.0050000e+03, 7.0641000e+04, 1.3954967e+05],\n",
              "       [2.0240000e+03, 0.0000000e+00, 1.2201642e+05],\n",
              "       [2.0190000e+03, 9.1277000e+04, 7.2731980e+04],\n",
              "       [2.0220000e+03, 2.6544000e+04, 8.8416540e+04],\n",
              "       [2.0210000e+03, 5.2596000e+04, 7.3873420e+04],\n",
              "       [1.9960000e+03, 4.7503000e+04, 7.0709340e+04],\n",
              "       [2.0050000e+03, 8.9056000e+04, 1.1530650e+05],\n",
              "       [1.9970000e+03, 2.8834000e+04, 5.5924630e+04],\n",
              "       [1.9990000e+03, 1.1056400e+05, 8.5052260e+04],\n",
              "       [2.0070000e+03, 5.6638000e+04, 5.6646340e+04],\n",
              "       [2.0180000e+03, 1.7357000e+04, 1.3894688e+05],\n",
              "       [2.0120000e+03, 7.4015000e+04, 1.0825672e+05],\n",
              "       [2.0170000e+03, 1.5196000e+04, 5.8979300e+04],\n",
              "       [2.0240000e+03, 0.0000000e+00, 1.1472768e+05],\n",
              "       [2.0210000e+03, 1.0821000e+04, 1.3966148e+05],\n",
              "       [2.0240000e+03, 0.0000000e+00, 8.0382240e+04],\n",
              "       [2.0240000e+03, 0.0000000e+00, 1.4915717e+05],\n",
              "       [2.0100000e+03, 9.5950000e+03, 8.7830410e+04],\n",
              "       [2.0190000e+03, 9.9052000e+04, 1.4356822e+05],\n",
              "       [2.0110000e+03, 5.2389000e+04, 1.3817185e+05],\n",
              "       [2.0090000e+03, 1.1994500e+05, 1.1578495e+05],\n",
              "       [2.0210000e+03, 9.6005000e+04, 1.4650899e+05],\n",
              "       [2.0020000e+03, 3.1639000e+04, 1.3767023e+05],\n",
              "       [2.0240000e+03, 0.0000000e+00, 1.3859727e+05],\n",
              "       [2.0030000e+03, 8.0187000e+04, 1.4762781e+05],\n",
              "       [2.0240000e+03, 0.0000000e+00, 6.2999020e+04],\n",
              "       [2.0100000e+03, 5.8212000e+04, 9.1242440e+04],\n",
              "       [2.0120000e+03, 6.1672000e+04, 1.4948992e+05],\n",
              "       [2.0240000e+03, 3.2017000e+04, 6.3529950e+04],\n",
              "       [1.9980000e+03, 0.0000000e+00, 5.8525410e+04],\n",
              "       [2.0180000e+03, 5.6944000e+04, 9.0345050e+04],\n",
              "       [2.0050000e+03, 0.0000000e+00, 1.4777087e+05],\n",
              "       [2.0240000e+03, 8.6519000e+04, 1.0661771e+05],\n",
              "       [2.0050000e+03, 4.8210000e+03, 1.0492988e+05],\n",
              "       [2.0240000e+03, 1.0102500e+05, 1.0071245e+05],\n",
              "       [2.0190000e+03, 3.0705000e+04, 1.4198293e+05],\n",
              "       [2.0000000e+03, 0.0000000e+00, 1.0403879e+05],\n",
              "       [2.0010000e+03, 3.2555000e+04, 8.8501540e+04],\n",
              "       [2.0240000e+03, 1.0338900e+05, 7.9782020e+04],\n",
              "       [1.9960000e+03, 0.0000000e+00, 8.6224100e+04],\n",
              "       [2.0200000e+03, 5.5289000e+04, 1.0359618e+05],\n",
              "       [2.0040000e+03, 0.0000000e+00, 1.4899647e+05],\n",
              "       [2.0060000e+03, 0.0000000e+00, 6.0948010e+04],\n",
              "       [2.0070000e+03, 1.1593000e+05, 6.9535440e+04],\n",
              "       [2.0240000e+03, 6.6437000e+04, 1.1113033e+05],\n",
              "       [2.0110000e+03, 9.6800000e+04, 6.5847690e+04],\n",
              "       [2.0050000e+03, 1.4237000e+04, 7.8096060e+04],\n",
              "       [2.0210000e+03, 1.9896000e+04, 6.9219890e+04],\n",
              "       [2.0010000e+03, 1.1304500e+05, 1.4411891e+05],\n",
              "       [2.0070000e+03, 1.1494200e+05, 7.7397050e+04],\n",
              "       [2.0180000e+03, 3.1730000e+03, 6.8974250e+04],\n",
              "       [1.9950000e+03, 8.3611000e+04, 1.2523130e+05],\n",
              "       [2.0050000e+03, 2.5356000e+04, 8.5501120e+04],\n",
              "       [2.0180000e+03, 8.8634000e+04, 1.3711621e+05],\n",
              "       [1.9970000e+03, 2.3140000e+03, 1.3882381e+05],\n",
              "       [2.0010000e+03, 2.6270000e+03, 1.1796195e+05],\n",
              "       [2.0170000e+03, 5.2034000e+04, 1.3266232e+05],\n",
              "       [2.0240000e+03, 0.0000000e+00, 1.4640579e+05],\n",
              "       [1.9990000e+03, 0.0000000e+00, 8.1999210e+04],\n",
              "       [2.0240000e+03, 7.9577000e+04, 1.4093460e+05],\n",
              "       [2.0110000e+03, 1.0820100e+05, 8.2366810e+04],\n",
              "       [2.0240000e+03, 7.6453000e+04, 7.0424110e+04],\n",
              "       [2.0240000e+03, 5.7683000e+04, 5.3620310e+04],\n",
              "       [2.0040000e+03, 9.6610000e+04, 7.3389180e+04],\n",
              "       [2.0070000e+03, 1.0900100e+05, 1.1161812e+05],\n",
              "       [2.0090000e+03, 2.6212000e+04, 1.1218737e+05],\n",
              "       [2.0150000e+03, 4.5971000e+04, 1.2081257e+05],\n",
              "       [2.0090000e+03, 4.9182000e+04, 1.1603104e+05],\n",
              "       [2.0240000e+03, 4.9907000e+04, 1.2539811e+05],\n",
              "       [2.0100000e+03, 3.8620000e+04, 7.6101470e+04],\n",
              "       [2.0070000e+03, 6.0996000e+04, 7.5263240e+04],\n",
              "       [1.9980000e+03, 7.3914000e+04, 1.4738776e+05],\n",
              "       [2.0110000e+03, 1.0739200e+05, 8.5311400e+04],\n",
              "       [2.0090000e+03, 9.1460000e+03, 5.4388110e+04],\n",
              "       [1.9950000e+03, 0.0000000e+00, 1.2415665e+05],\n",
              "       [2.0240000e+03, 1.7924000e+04, 1.4620334e+05],\n",
              "       [2.0240000e+03, 0.0000000e+00, 5.6453940e+04],\n",
              "       [2.0240000e+03, 1.1694900e+05, 6.8873790e+04],\n",
              "       [2.0110000e+03, 2.0476000e+04, 9.1667610e+04],\n",
              "       [2.0240000e+03, 5.2804000e+04, 9.3776520e+04],\n",
              "       [2.0200000e+03, 8.8490000e+03, 6.6433820e+04],\n",
              "       [2.0180000e+03, 9.1724000e+04, 1.0905927e+05],\n",
              "       [2.0240000e+03, 3.2056000e+04, 1.2206997e+05],\n",
              "       [2.0190000e+03, 7.4886000e+04, 1.1309032e+05],\n",
              "       [2.0190000e+03, 0.0000000e+00, 8.9401100e+04],\n",
              "       [2.0000000e+03, 0.0000000e+00, 5.6842790e+04],\n",
              "       [2.0060000e+03, 5.2189000e+04, 1.4667671e+05],\n",
              "       [2.0100000e+03, 8.3559000e+04, 8.9511960e+04],\n",
              "       [1.9980000e+03, 0.0000000e+00, 9.7290180e+04],\n",
              "       [2.0060000e+03, 2.0328000e+04, 1.2067356e+05],\n",
              "       [2.0090000e+03, 0.0000000e+00, 1.1443494e+05],\n",
              "       [2.0240000e+03, 7.5577000e+04, 1.3954669e+05],\n",
              "       [2.0040000e+03, 3.3659000e+04, 9.5078160e+04],\n",
              "       [2.0120000e+03, 1.0434100e+05, 6.8091770e+04],\n",
              "       [2.0240000e+03, 2.5510000e+04, 6.1496970e+04],\n",
              "       [2.0240000e+03, 1.8965000e+04, 1.3966930e+05],\n",
              "       [2.0160000e+03, 8.7161000e+04, 8.0661390e+04],\n",
              "       [2.0240000e+03, 6.6520000e+03, 6.1783650e+04],\n",
              "       [2.0000000e+03, 5.5738000e+04, 5.2805910e+04],\n",
              "       [2.0040000e+03, 0.0000000e+00, 1.2702475e+05],\n",
              "       [2.0240000e+03, 0.0000000e+00, 1.3554300e+05],\n",
              "       [2.0000000e+03, 0.0000000e+00, 1.2170873e+05],\n",
              "       [2.0040000e+03, 6.4320000e+04, 1.0734268e+05],\n",
              "       [2.0110000e+03, 0.0000000e+00, 5.7888100e+04],\n",
              "       [1.9980000e+03, 6.8678000e+04, 1.1816148e+05],\n",
              "       [2.0240000e+03, 7.1697000e+04, 1.4249906e+05],\n",
              "       [2.0110000e+03, 0.0000000e+00, 1.2839611e+05],\n",
              "       [2.0160000e+03, 3.4783000e+04, 1.1235061e+05],\n",
              "       [2.0240000e+03, 3.3772000e+04, 1.2466138e+05],\n",
              "       [2.0050000e+03, 8.5127000e+04, 5.4263160e+04],\n",
              "       [2.0110000e+03, 1.3606000e+04, 6.2041320e+04],\n",
              "       [2.0070000e+03, 3.5647000e+04, 1.2929611e+05],\n",
              "       [2.0050000e+03, 9.5128000e+04, 6.0998330e+04],\n",
              "       [2.0050000e+03, 1.4046000e+04, 5.8008500e+04],\n",
              "       [2.0100000e+03, 4.1194000e+04, 8.2304190e+04],\n",
              "       [2.0240000e+03, 0.0000000e+00, 1.1453174e+05],\n",
              "       [2.0240000e+03, 9.6100000e+04, 1.2856561e+05],\n",
              "       [2.0050000e+03, 1.0390000e+05, 1.2648826e+05],\n",
              "       [2.0100000e+03, 4.3814000e+04, 1.1907455e+05],\n",
              "       [2.0240000e+03, 2.4638000e+04, 1.3023804e+05],\n",
              "       [2.0040000e+03, 0.0000000e+00, 1.1576017e+05],\n",
              "       [2.0240000e+03, 1.1096600e+05, 1.2124800e+05],\n",
              "       [2.0050000e+03, 1.5987000e+04, 9.8156350e+04],\n",
              "       [1.9970000e+03, 5.3369000e+04, 1.1214680e+05],\n",
              "       [2.0240000e+03, 1.0077000e+04, 1.0272963e+05],\n",
              "       [2.0050000e+03, 7.1544000e+04, 1.4108335e+05],\n",
              "       [1.9990000e+03, 1.0700000e+02, 1.0296876e+05],\n",
              "       [2.0240000e+03, 8.3940000e+03, 7.6310010e+04],\n",
              "       [2.0020000e+03, 4.1498000e+04, 1.2048174e+05],\n",
              "       [2.0210000e+03, 1.1600200e+05, 5.4559180e+04],\n",
              "       [2.0040000e+03, 1.0085800e+05, 9.2957640e+04],\n",
              "       [2.0050000e+03, 6.7475000e+04, 1.2781006e+05],\n",
              "       [1.9980000e+03, 8.4970000e+03, 7.3311750e+04],\n",
              "       [2.0000000e+03, 4.4200000e+03, 6.5138030e+04],\n",
              "       [2.0120000e+03, 0.0000000e+00, 9.0141470e+04],\n",
              "       [2.0240000e+03, 5.8537000e+04, 7.1160360e+04],\n",
              "       [2.0160000e+03, 0.0000000e+00, 6.7539790e+04],\n",
              "       [2.0240000e+03, 0.0000000e+00, 6.7664860e+04],\n",
              "       [2.0040000e+03, 1.1201600e+05, 6.8652160e+04],\n",
              "       [2.0240000e+03, 9.1840000e+04, 1.1472874e+05],\n",
              "       [2.0240000e+03, 1.1278700e+05, 1.4164508e+05],\n",
              "       [2.0240000e+03, 0.0000000e+00, 1.2624784e+05],\n",
              "       [2.0080000e+03, 0.0000000e+00, 1.2885221e+05],\n",
              "       [2.0050000e+03, 9.2930000e+03, 1.3238476e+05],\n",
              "       [2.0100000e+03, 0.0000000e+00, 1.2941533e+05],\n",
              "       [2.0240000e+03, 5.5083000e+04, 8.9536820e+04],\n",
              "       [2.0240000e+03, 4.8796000e+04, 8.7975300e+04],\n",
              "       [2.0110000e+03, 0.0000000e+00, 7.7675790e+04],\n",
              "       [2.0240000e+03, 8.9685000e+04, 5.8881670e+04],\n",
              "       [1.9980000e+03, 8.5384000e+04, 5.5081990e+04],\n",
              "       [2.0200000e+03, 9.8108000e+04, 1.1882644e+05],\n",
              "       [2.0090000e+03, 7.1280000e+04, 1.3762762e+05],\n",
              "       [2.0160000e+03, 2.7505000e+04, 5.1759580e+04],\n",
              "       [2.0050000e+03, 2.9981000e+04, 5.1667060e+04],\n",
              "       [1.9970000e+03, 5.2637000e+04, 6.8934030e+04],\n",
              "       [2.0010000e+03, 7.6850000e+03, 1.2211090e+05],\n",
              "       [2.0060000e+03, 5.0188000e+04, 9.0381470e+04]])"
            ]
          },
          "metadata": {},
          "execution_count": 144
        }
      ],
      "source": [
        "dataset = np.column_stack((años, km, valor))\n",
        "dataset"
      ]
    },
    {
      "cell_type": "code",
      "execution_count": 145,
      "metadata": {
        "id": "OzDTTmj8ltp_",
        "scrolled": true,
        "colab": {
          "base_uri": "https://localhost:8080/"
        },
        "outputId": "3fe18f58-ba7e-440f-b284-1a89f6077ebe"
      },
      "outputs": [
        {
          "output_type": "execute_result",
          "data": {
            "text/plain": [
              "(258, 3)"
            ]
          },
          "metadata": {},
          "execution_count": 145
        }
      ],
      "source": [
        "dataset.shape"
      ]
    },
    {
      "cell_type": "markdown",
      "metadata": {
        "id": "Me6yUU_RltqA"
      },
      "source": [
        "## *np.mean()*\n",
        "\n",
        "Devuelve el promedio de los elementos del array a lo largo del eje especificado."
      ]
    },
    {
      "cell_type": "code",
      "execution_count": 146,
      "metadata": {
        "id": "MNEKcP38ltqA",
        "colab": {
          "base_uri": "https://localhost:8080/"
        },
        "outputId": "70224062-ca16-4b19-ff73-6085a4b40f4f"
      },
      "outputs": [
        {
          "output_type": "execute_result",
          "data": {
            "text/plain": [
              "array([ 2012.46511628, 44499.41472868, 98960.51310078])"
            ]
          },
          "metadata": {},
          "execution_count": 146
        }
      ],
      "source": [
        "np.mean(dataset, axis = 0)"
      ]
    },
    {
      "cell_type": "code",
      "execution_count": null,
      "metadata": {
        "id": "sekHQ84zltqB"
      },
      "outputs": [],
      "source": [
        "np.mean(dataset, axis = 1)"
      ]
    },
    {
      "cell_type": "code",
      "execution_count": 148,
      "metadata": {
        "id": "RpyETIVSltqC",
        "colab": {
          "base_uri": "https://localhost:8080/"
        },
        "outputId": "ea530afa-6734-468d-b11a-b1ffdbc44853"
      },
      "outputs": [
        {
          "output_type": "execute_result",
          "data": {
            "text/plain": [
              "44499.41472868217"
            ]
          },
          "metadata": {},
          "execution_count": 148
        }
      ],
      "source": [
        "np.mean(dataset[::, 1])"
      ]
    },
    {
      "cell_type": "code",
      "execution_count": 149,
      "metadata": {
        "id": "_-kpcTI8ltqD",
        "scrolled": true,
        "colab": {
          "base_uri": "https://localhost:8080/"
        },
        "outputId": "019c2305-cb78-4d1f-8490-b6f81367ef41"
      },
      "outputs": [
        {
          "output_type": "execute_result",
          "data": {
            "text/plain": [
              "98960.51310077519"
            ]
          },
          "metadata": {},
          "execution_count": 149
        }
      ],
      "source": [
        "np.mean(dataset[::, 2])"
      ]
    },
    {
      "cell_type": "markdown",
      "metadata": {
        "id": "71jViVBUltqE"
      },
      "source": [
        "## *np.std()*\n",
        "\n",
        "Devuelve la desviación estándar de los elementos del array a lo largo del eje especificado."
      ]
    },
    {
      "cell_type": "code",
      "execution_count": 150,
      "metadata": {
        "id": "lEwUbPx2ltqE",
        "scrolled": true,
        "colab": {
          "base_uri": "https://localhost:8080/"
        },
        "outputId": "442bdf5c-2b5c-4096-fc01-cfb33fb4b225"
      },
      "outputs": [
        {
          "output_type": "execute_result",
          "data": {
            "text/plain": [
              "29754.101150388564"
            ]
          },
          "metadata": {},
          "execution_count": 150
        }
      ],
      "source": [
        "np.std(dataset[::, 2])"
      ]
    },
    {
      "cell_type": "markdown",
      "metadata": {
        "id": "JTUH-vAeltqG"
      },
      "source": [
        "## *ndarray.sum()*\n",
        "\n",
        "Devuelve la suma de los elementos del array a lo largo del eje especificado."
      ]
    },
    {
      "cell_type": "code",
      "execution_count": 151,
      "metadata": {
        "id": "jIi3yoaWltqG",
        "colab": {
          "base_uri": "https://localhost:8080/"
        },
        "outputId": "0bf6b61d-98a8-4f33-89b7-19e77cae94fd"
      },
      "outputs": [
        {
          "output_type": "execute_result",
          "data": {
            "text/plain": [
              "array([  519216.        , 11480849.        , 25531812.37999999])"
            ]
          },
          "metadata": {},
          "execution_count": 151
        }
      ],
      "source": [
        "dataset.sum(axis=0)"
      ]
    },
    {
      "cell_type": "code",
      "execution_count": 152,
      "metadata": {
        "id": "X3QYbdYLltqH",
        "colab": {
          "base_uri": "https://localhost:8080/"
        },
        "outputId": "d238600a-70ef-4807-f67b-3280b81eaebc"
      },
      "outputs": [
        {
          "output_type": "execute_result",
          "data": {
            "text/plain": [
              "11480849.0"
            ]
          },
          "metadata": {},
          "execution_count": 152
        }
      ],
      "source": [
        "dataset[::,1].sum()"
      ]
    },
    {
      "cell_type": "markdown",
      "metadata": {
        "id": "WbBD5ixaltqH"
      },
      "source": [
        "## *np.sum()*\n",
        "\n",
        "Devuelve la suma de los elementos del array a lo largo del eje especificado."
      ]
    },
    {
      "cell_type": "code",
      "execution_count": 153,
      "metadata": {
        "id": "omB6kgWgltqH",
        "colab": {
          "base_uri": "https://localhost:8080/"
        },
        "outputId": "bbd4a0c1-7902-425e-a5d4-f00aef403a8d"
      },
      "outputs": [
        {
          "output_type": "execute_result",
          "data": {
            "text/plain": [
              "array([  519216.        , 11480849.        , 25531812.37999999])"
            ]
          },
          "metadata": {},
          "execution_count": 153
        }
      ],
      "source": [
        "np.sum(dataset, axis = 0)"
      ]
    },
    {
      "cell_type": "code",
      "execution_count": 154,
      "metadata": {
        "id": "LiD4G3kQltqI",
        "colab": {
          "base_uri": "https://localhost:8080/"
        },
        "outputId": "d6387378-d6ff-43c3-c510-04cf9cb6f85b"
      },
      "outputs": [
        {
          "output_type": "execute_result",
          "data": {
            "text/plain": [
              "11480849.0"
            ]
          },
          "metadata": {},
          "execution_count": 154
        }
      ],
      "source": [
        "np.sum(dataset[::, 1])"
      ]
    },
    {
      "cell_type": "markdown",
      "source": [
        "#**8. Algebra Lineal con Numpy**"
      ],
      "metadata": {
        "id": "iB-Vht7p8YEE"
      }
    },
    {
      "cell_type": "markdown",
      "source": [
        "### Algebra Lineal:\n",
        "- NumPy ofrece funciones optimizadas para realizar cálculos de álgebra lineal de manera eficiente:\n",
        "https://numpy.org/doc/stable/reference/routines.linalg.html"
      ],
      "metadata": {
        "id": "WtNqd5Pm81Qj"
      }
    },
    {
      "cell_type": "markdown",
      "source": [
        "### *transpose(array)*\n",
        "\n",
        "Devuelve la transpuesta de un array."
      ],
      "metadata": {
        "id": "CSKOjp_-9k2a"
      }
    },
    {
      "cell_type": "code",
      "source": [
        "m1 = np.array([[1],[2],[3]])\n",
        "m1"
      ],
      "metadata": {
        "id": "Skxe91Vf9p2s",
        "colab": {
          "base_uri": "https://localhost:8080/"
        },
        "outputId": "b2f288e1-dc26-4939-deaf-d84a394a89ec"
      },
      "execution_count": 155,
      "outputs": [
        {
          "output_type": "execute_result",
          "data": {
            "text/plain": [
              "array([[1],\n",
              "       [2],\n",
              "       [3]])"
            ]
          },
          "metadata": {},
          "execution_count": 155
        }
      ]
    },
    {
      "cell_type": "code",
      "source": [
        "m1.shape"
      ],
      "metadata": {
        "colab": {
          "base_uri": "https://localhost:8080/"
        },
        "id": "iOBNAFHLEere",
        "outputId": "16b4e7b0-a165-4469-ae46-fc18abf90765"
      },
      "execution_count": 156,
      "outputs": [
        {
          "output_type": "execute_result",
          "data": {
            "text/plain": [
              "(3, 1)"
            ]
          },
          "metadata": {},
          "execution_count": 156
        }
      ]
    },
    {
      "cell_type": "code",
      "source": [
        "m1 = np.transpose(m1)\n",
        "m1"
      ],
      "metadata": {
        "id": "9XevRst3-KnG",
        "colab": {
          "base_uri": "https://localhost:8080/"
        },
        "outputId": "a7f184d6-b142-4e78-a652-c6c9a0b6235a"
      },
      "execution_count": 157,
      "outputs": [
        {
          "output_type": "execute_result",
          "data": {
            "text/plain": [
              "array([[1, 2, 3]])"
            ]
          },
          "metadata": {},
          "execution_count": 157
        }
      ]
    },
    {
      "cell_type": "code",
      "source": [
        "m1.shape"
      ],
      "metadata": {
        "colab": {
          "base_uri": "https://localhost:8080/"
        },
        "id": "gQ9L1n-kEona",
        "outputId": "031d0435-b276-4b20-dbaf-d3f97ad354eb"
      },
      "execution_count": 158,
      "outputs": [
        {
          "output_type": "execute_result",
          "data": {
            "text/plain": [
              "(1, 3)"
            ]
          },
          "metadata": {},
          "execution_count": 158
        }
      ]
    },
    {
      "cell_type": "markdown",
      "source": [
        "### *reshape(array)*\n",
        "\n",
        "Cambia la forma de un array."
      ],
      "metadata": {
        "id": "Accj-AghI4ex"
      }
    },
    {
      "cell_type": "code",
      "source": [
        "m1 = np.array([[1],[2],[3]])\n",
        "m1"
      ],
      "metadata": {
        "id": "W_Xgzm2G_sOu",
        "colab": {
          "base_uri": "https://localhost:8080/"
        },
        "outputId": "d24ee3ce-3c52-4e12-9971-70275aecdff3"
      },
      "execution_count": 159,
      "outputs": [
        {
          "output_type": "execute_result",
          "data": {
            "text/plain": [
              "array([[1],\n",
              "       [2],\n",
              "       [3]])"
            ]
          },
          "metadata": {},
          "execution_count": 159
        }
      ]
    },
    {
      "cell_type": "code",
      "source": [
        "m1.shape"
      ],
      "metadata": {
        "id": "uBw7_7XXJifk",
        "colab": {
          "base_uri": "https://localhost:8080/"
        },
        "outputId": "0917fd60-620c-4e26-a43c-cfd9353329cf"
      },
      "execution_count": 160,
      "outputs": [
        {
          "output_type": "execute_result",
          "data": {
            "text/plain": [
              "(3, 1)"
            ]
          },
          "metadata": {},
          "execution_count": 160
        }
      ]
    },
    {
      "cell_type": "code",
      "source": [
        "m1 = m1.reshape(1,3)\n",
        "m1"
      ],
      "metadata": {
        "id": "LRNEPFuyJNiN",
        "colab": {
          "base_uri": "https://localhost:8080/"
        },
        "outputId": "fe4378d2-b31f-49bf-c15c-a0762dc42606"
      },
      "execution_count": 161,
      "outputs": [
        {
          "output_type": "execute_result",
          "data": {
            "text/plain": [
              "array([[1, 2, 3]])"
            ]
          },
          "metadata": {},
          "execution_count": 161
        }
      ]
    },
    {
      "cell_type": "code",
      "source": [
        "m1.shape"
      ],
      "metadata": {
        "id": "9q_1-5FDJgC0",
        "colab": {
          "base_uri": "https://localhost:8080/"
        },
        "outputId": "e8288f0e-98ee-46aa-cf16-007d5871c739"
      },
      "execution_count": 162,
      "outputs": [
        {
          "output_type": "execute_result",
          "data": {
            "text/plain": [
              "(1, 3)"
            ]
          },
          "metadata": {},
          "execution_count": 162
        }
      ]
    },
    {
      "cell_type": "markdown",
      "source": [
        "### *matmul(array1, array2)*\n",
        "\n",
        "Útil para multiplicación de matrices."
      ],
      "metadata": {
        "id": "iRodpHMTKj4w"
      }
    },
    {
      "cell_type": "code",
      "source": [
        "m1 = np.array([[1,2,3],[4,5,6]])\n",
        "m2 = np.array([[1],[2],[3]])\n",
        "print('M1:\\n',m1)\n",
        "print('-----')\n",
        "print('M2:\\n',m2)"
      ],
      "metadata": {
        "id": "j_BPxZdwLrJ9",
        "colab": {
          "base_uri": "https://localhost:8080/"
        },
        "outputId": "07e4fcc7-9056-4685-8e53-a759a756460b"
      },
      "execution_count": 163,
      "outputs": [
        {
          "output_type": "stream",
          "name": "stdout",
          "text": [
            "M1:\n",
            " [[1 2 3]\n",
            " [4 5 6]]\n",
            "-----\n",
            "M2:\n",
            " [[1]\n",
            " [2]\n",
            " [3]]\n"
          ]
        }
      ]
    },
    {
      "cell_type": "markdown",
      "source": [
        "La multiplicación de matrices se puede expresar como:\n",
        "\n",
        "$$\n",
        "\\begin{bmatrix}\n",
        "1 & 2 & 3 \\\\\n",
        "4 & 5 & 6\n",
        "\\end{bmatrix}\n",
        "\\times\n",
        "\\begin{bmatrix}\n",
        "1 \\\\\n",
        "2 \\\\\n",
        "3\n",
        "\\end{bmatrix}\n",
        "=\n",
        "\\begin{bmatrix}\n",
        "1 \\cdot 1 + 2 \\cdot 2 + 3 \\cdot 3 \\\\\n",
        "4 \\cdot 1 + 5 \\cdot 2 + 6 \\cdot 3\n",
        "\\end{bmatrix}\n",
        "=\n",
        "\\begin{bmatrix}\n",
        "14 \\\\\n",
        "32\n",
        "\\end{bmatrix}\n",
        "$$"
      ],
      "metadata": {
        "id": "vvvVrOODOtKF"
      }
    },
    {
      "cell_type": "code",
      "source": [
        "np.matmul(m1,m2)"
      ],
      "metadata": {
        "id": "aubFMAVFPmne",
        "colab": {
          "base_uri": "https://localhost:8080/"
        },
        "outputId": "a9a0cf29-9254-4d1e-92d7-aa9269ad8597"
      },
      "execution_count": 164,
      "outputs": [
        {
          "output_type": "execute_result",
          "data": {
            "text/plain": [
              "array([[14],\n",
              "       [32]])"
            ]
          },
          "metadata": {},
          "execution_count": 164
        }
      ]
    },
    {
      "cell_type": "markdown",
      "source": [
        "### *dot(array1, array2)*\n",
        "\n",
        "Más utilizado para multiplicación de matrices."
      ],
      "metadata": {
        "id": "Z4VkVoYw0KQF"
      }
    },
    {
      "cell_type": "code",
      "source": [
        "m1 = np.array([[1,2],[3,4]])\n",
        "m2 = np.array([[5,6],[7,8]])\n",
        "print('M1:\\n',m1)\n",
        "print('-----')\n",
        "print('M2:\\n',m2)"
      ],
      "metadata": {
        "id": "RU_Or6m00qJh",
        "colab": {
          "base_uri": "https://localhost:8080/"
        },
        "outputId": "f5ac38df-855c-4a08-ef91-ec3daf1eeeea"
      },
      "execution_count": 165,
      "outputs": [
        {
          "output_type": "stream",
          "name": "stdout",
          "text": [
            "M1:\n",
            " [[1 2]\n",
            " [3 4]]\n",
            "-----\n",
            "M2:\n",
            " [[5 6]\n",
            " [7 8]]\n"
          ]
        }
      ]
    },
    {
      "cell_type": "markdown",
      "source": [
        "La multiplicación de matrices se puede expresar como:\n",
        "\n",
        "$$\n",
        "\\begin{bmatrix}\n",
        "1 & 2 \\\\\n",
        "3 & 4\n",
        "\\end{bmatrix}\n",
        "\\times\n",
        "\\begin{bmatrix}\n",
        "5 & 6 \\\\\n",
        "7 & 8\n",
        "\\end{bmatrix}\n",
        "=\n",
        "\\begin{bmatrix}\n",
        "(1 \\cdot 5 + 2 \\cdot 7) & (1 \\cdot 6 + 2 \\cdot 8) \\\\\n",
        "(3 \\cdot 5 + 4 \\cdot 7) & (3 \\cdot 6 + 4 \\cdot 8)\n",
        "\\end{bmatrix}\n",
        "=\n",
        "\\begin{bmatrix}\n",
        "19 & 22 \\\\\n",
        "43 & 50\n",
        "\\end{bmatrix}\n",
        "$$\n"
      ],
      "metadata": {
        "id": "vmtqD2IyQI4x"
      }
    },
    {
      "cell_type": "code",
      "source": [
        "np.dot(m1,m2)"
      ],
      "metadata": {
        "id": "dRRHG7khzdoU",
        "colab": {
          "base_uri": "https://localhost:8080/"
        },
        "outputId": "6e9098da-369b-4d1a-d500-cfa2192b3866"
      },
      "execution_count": 166,
      "outputs": [
        {
          "output_type": "execute_result",
          "data": {
            "text/plain": [
              "array([[19, 22],\n",
              "       [43, 50]])"
            ]
          },
          "metadata": {},
          "execution_count": 166
        }
      ]
    },
    {
      "cell_type": "markdown",
      "source": [
        "### *linalg.solve(array1, array2)*\n",
        "\n",
        "Facilita la resolución de ecuaciones de álgebra lineal.  \n",
        "Se utiliza específicamente para resolver sistemas de ecuaciones lineales de la forma **Ax=B**, donde:\n",
        "\n",
        "**A** es la matriz de coeficientes.  \n",
        "**x** es el vector de variables desconocidas.  \n",
        "**B** es el vector de resultados.  \n"
      ],
      "metadata": {
        "id": "FORPrmshTIdd"
      }
    },
    {
      "cell_type": "markdown",
      "source": [
        "####Ejercicio1"
      ],
      "metadata": {
        "id": "SX_KeKvWWkUF"
      }
    },
    {
      "cell_type": "markdown",
      "source": [
        "<h2>Resuelve la ecuación:</h2>\n",
        "\n",
        "$$\n",
        "Ax = B\n",
        "$$\n",
        "\n",
        "<h2>Donde:</h2>\n",
        "\n",
        "$$\n",
        "A = \\begin{bmatrix}\n",
        "2 & 1 & -2 \\\\\n",
        "3 & 0 & 1 \\\\\n",
        "1 & 1 & -1\n",
        "\\end{bmatrix}, \\quad\n",
        "B = \\begin{bmatrix}\n",
        "-3 \\\\\n",
        "5 \\\\\n",
        "-2\n",
        "\\end{bmatrix}\n",
        "$$\n"
      ],
      "metadata": {
        "id": "i-oyVuQhRwL8"
      }
    },
    {
      "cell_type": "code",
      "source": [
        "A = np.array([[2,1,-2],[3,0,1],[1,1,-1]])\n",
        "B = np.array([[-3],[5],[-2]])\n",
        "print('A:\\n',A)\n",
        "print('-----')\n",
        "print('B:\\n',B)"
      ],
      "metadata": {
        "id": "6hqGAzNYRWxl",
        "colab": {
          "base_uri": "https://localhost:8080/"
        },
        "outputId": "56372c2a-0324-4b00-fd99-8ceb9dba6620"
      },
      "execution_count": 167,
      "outputs": [
        {
          "output_type": "stream",
          "name": "stdout",
          "text": [
            "A:\n",
            " [[ 2  1 -2]\n",
            " [ 3  0  1]\n",
            " [ 1  1 -1]]\n",
            "-----\n",
            "B:\n",
            " [[-3]\n",
            " [ 5]\n",
            " [-2]]\n"
          ]
        }
      ]
    },
    {
      "cell_type": "markdown",
      "source": [
        "La ecuación se puede expresar como:\n",
        "\n",
        "$$\n",
        "\\begin{bmatrix}\n",
        "2 & 1 & -2 \\\\\n",
        "3 & 0 & 1 \\\\\n",
        "1 & 1 & -1\n",
        "\\end{bmatrix}\n",
        "\\begin{bmatrix}\n",
        "x_0 \\\\\n",
        "x_1 \\\\\n",
        "x_2\n",
        "\\end{bmatrix}\n",
        "=\n",
        "\\begin{bmatrix}\n",
        "-3 \\\\\n",
        "5 \\\\\n",
        "-2\n",
        "\\end{bmatrix}\n",
        "$$"
      ],
      "metadata": {
        "id": "RDLspl5UVLBy"
      }
    },
    {
      "cell_type": "code",
      "source": [
        "x = np.linalg.solve(A, B)\n",
        "x"
      ],
      "metadata": {
        "id": "Crxd5-v1UbTu",
        "colab": {
          "base_uri": "https://localhost:8080/"
        },
        "outputId": "0b0733b5-c37c-4427-fb7e-bfdf10b83521"
      },
      "execution_count": 168,
      "outputs": [
        {
          "output_type": "execute_result",
          "data": {
            "text/plain": [
              "array([[ 1.],\n",
              "       [-1.],\n",
              "       [ 2.]])"
            ]
          },
          "metadata": {},
          "execution_count": 168
        }
      ]
    },
    {
      "cell_type": "code",
      "source": [
        "np.allclose(np.dot(A, x), B)"
      ],
      "metadata": {
        "id": "kbPPiXYFV2TL",
        "colab": {
          "base_uri": "https://localhost:8080/"
        },
        "outputId": "2543fe7a-7871-4921-a650-c94d630c6adf"
      },
      "execution_count": 169,
      "outputs": [
        {
          "output_type": "execute_result",
          "data": {
            "text/plain": [
              "True"
            ]
          },
          "metadata": {},
          "execution_count": 169
        }
      ]
    },
    {
      "cell_type": "markdown",
      "source": [
        "####Ejercicio2"
      ],
      "metadata": {
        "id": "thR3R4PIWpUq"
      }
    },
    {
      "cell_type": "markdown",
      "source": [
        "<h2>Resuelve la ecuación:</h2>\n",
        "\n",
        "$$\n",
        "\\begin{align*}\n",
        "x_0 + 2x_1 & = 1 \\\\\n",
        "3x_0 + 5x_1 & = 2\n",
        "\\end{align*}\n",
        "$$"
      ],
      "metadata": {
        "id": "UB2wbkiyW1Le"
      }
    },
    {
      "cell_type": "markdown",
      "source": [
        "La multiplicación de matrices se puede expresar como:\n",
        "\n",
        "$$\n",
        "\\begin{bmatrix}\n",
        "x_0 + 2x_1 \\\\\n",
        "3x_0 + 5x_1\n",
        "\\end{bmatrix}\n",
        "=\n",
        "\\begin{bmatrix}\n",
        "1 \\\\\n",
        "2\n",
        "\\end{bmatrix}\n",
        "$$\n",
        "\n",
        "Esto se puede representar como:\n",
        "\n",
        "$$\n",
        "Ax = B\n",
        "$$\n",
        "\n",
        "$$\n",
        "\\begin{bmatrix}\n",
        "1 & 2 \\\\\n",
        "3 & 5\n",
        "\\end{bmatrix}\n",
        "\\begin{bmatrix}\n",
        "x_0 \\\\\n",
        "x_1\n",
        "\\end{bmatrix}\n",
        "=\n",
        "\\begin{bmatrix}\n",
        "1 \\\\\n",
        "2\n",
        "\\end{bmatrix}\n",
        "$$\n",
        "\n",
        "Y al expandirlo, tenemos:\n",
        "\n",
        "$$\n",
        "\\begin{bmatrix}\n",
        "(1 \\cdot x_0 + 2 \\cdot x_1) \\\\\n",
        "(3 \\cdot x_0 + 5 \\cdot x_1)\n",
        "\\end{bmatrix}\n",
        "=\n",
        "\\begin{bmatrix}\n",
        "1 \\\\\n",
        "2\n",
        "\\end{bmatrix}\n",
        "$$\n"
      ],
      "metadata": {
        "id": "hn-4mvRvXPsb"
      }
    },
    {
      "cell_type": "code",
      "source": [
        "A = np.array([[1, 2], [3, 5]])\n",
        "B = np.array([1, 2])"
      ],
      "metadata": {
        "id": "zyjJgwrXYFeB"
      },
      "execution_count": 170,
      "outputs": []
    },
    {
      "cell_type": "code",
      "source": [
        "x = np.linalg.solve(A, B)\n",
        "x"
      ],
      "metadata": {
        "id": "1ONc20XaX5aw",
        "colab": {
          "base_uri": "https://localhost:8080/"
        },
        "outputId": "d5c9b5a6-0897-42a9-9751-421631050322"
      },
      "execution_count": 171,
      "outputs": [
        {
          "output_type": "execute_result",
          "data": {
            "text/plain": [
              "array([-1.,  1.])"
            ]
          },
          "metadata": {},
          "execution_count": 171
        }
      ]
    },
    {
      "cell_type": "code",
      "source": [
        "np.allclose(np.dot(A, x), B)"
      ],
      "metadata": {
        "id": "c3Nc3W9WX5aw",
        "colab": {
          "base_uri": "https://localhost:8080/"
        },
        "outputId": "fde4a69f-3935-4c20-d397-97f67b66a3e3"
      },
      "execution_count": 172,
      "outputs": [
        {
          "output_type": "execute_result",
          "data": {
            "text/plain": [
              "True"
            ]
          },
          "metadata": {},
          "execution_count": 172
        }
      ]
    },
    {
      "cell_type": "markdown",
      "source": [
        "[<div align=\"left\">\n",
        "    <img src=\"https://raw.githubusercontent.com/ElProfeAlejo/Bootcamp_Databases/main/imagenes/email_abajo.png\" alt=\"Texto alternativo\" width=\"50%\">](https://bootcampxperience.com/)"
      ],
      "metadata": {
        "id": "wi-IJ7HmnO7E"
      }
    }
  ]
}