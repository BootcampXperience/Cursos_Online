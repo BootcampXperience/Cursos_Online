{
  "nbformat": 4,
  "nbformat_minor": 0,
  "metadata": {
    "colab": {
      "provenance": [],
      "collapsed_sections": [
        "49BVxrTB4WDo",
        "BaZLSPqY8JwH",
        "tkMWPzLdFgLv",
        "IrpNBriDGtBp",
        "fpd40aytHjyQ",
        "NdmU-PyoIokI",
        "p12Gbz1Tt3OY"
      ]
    },
    "kernelspec": {
      "name": "python3",
      "display_name": "Python 3"
    },
    "language_info": {
      "name": "python"
    }
  },
  "cells": [
    {
      "cell_type": "markdown",
      "source": [
        "[<div align=\"left\">\n",
        "    <img src=\"https://raw.githubusercontent.com/ElProfeAlejo/Bootcamp_Databases/main/imagenes/email_arriba.png\" alt=\"Texto alternativo\" width=\"50%\">](https://bootcampxperience.com/)"
      ],
      "metadata": {
        "id": "5H3BjacwwZrn"
      }
    },
    {
      "cell_type": "markdown",
      "source": [
        "#**¿Qué es Python**"
      ],
      "metadata": {
        "id": "ulNgLcyC7Uz3"
      }
    },
    {
      "cell_type": "markdown",
      "source": [
        "Python es un lenguaje de programación de alto nivel, conocido por su sintaxis clara y legible, lo que lo convierte en una excelente opción para principiantes y expertos. Diseñado por Guido van Rossum en 1991, Python permite a los programadores desarrollar aplicaciones de una manera sencilla y rápida. Se utiliza en diversas áreas, como desarrollo web, análisis de datos, inteligencia artificial y automatización. Su amplia comunidad y abundancia de bibliotecas hacen que sea una herramienta poderosa para convertir ideas en realidad.\n",
        "\n",
        "\n",
        "Instalación Local: https://www.anaconda.com/distribution/\n",
        "\n",
        "Ambiente Cloud: https://colab.research.google.com"
      ],
      "metadata": {
        "id": "ogGmNZU07XUz"
      }
    },
    {
      "cell_type": "code",
      "source": [
        "!python -V"
      ],
      "metadata": {
        "colab": {
          "base_uri": "https://localhost:8080/"
        },
        "id": "AKPCdiBMWJsA",
        "outputId": "cfaa66c5-9d7e-4817-d799-c2c9333dbd88"
      },
      "execution_count": 1,
      "outputs": [
        {
          "output_type": "stream",
          "name": "stdout",
          "text": [
            "Python 3.10.12\n"
          ]
        }
      ]
    },
    {
      "cell_type": "markdown",
      "source": [
        "#**Paso 1: Operaciones matemáticas**"
      ],
      "metadata": {
        "id": "49BVxrTB4WDo"
      }
    },
    {
      "cell_type": "markdown",
      "metadata": {
        "id": "8YCDVpbYltj1"
      },
      "source": [
        "### Suma ($+$)"
      ]
    },
    {
      "cell_type": "code",
      "execution_count": 2,
      "metadata": {
        "colab": {
          "base_uri": "https://localhost:8080/"
        },
        "id": "h6DsMqhaltj2",
        "outputId": "5717a042-9c95-4ea6-9fdd-8886dac81072"
      },
      "outputs": [
        {
          "output_type": "execute_result",
          "data": {
            "text/plain": [
              "4"
            ]
          },
          "metadata": {},
          "execution_count": 2
        }
      ],
      "source": [
        "2 + 2"
      ]
    },
    {
      "cell_type": "markdown",
      "metadata": {
        "id": "WeJG-WJBltj8"
      },
      "source": [
        "### Resta ($-$)"
      ]
    },
    {
      "cell_type": "code",
      "execution_count": 3,
      "metadata": {
        "colab": {
          "base_uri": "https://localhost:8080/"
        },
        "id": "zoB7_OcRltj9",
        "outputId": "bf7f249f-5fc5-4eef-cbc3-16829eac8710"
      },
      "outputs": [
        {
          "output_type": "execute_result",
          "data": {
            "text/plain": [
              "0"
            ]
          },
          "metadata": {},
          "execution_count": 3
        }
      ],
      "source": [
        "2 - 2"
      ]
    },
    {
      "cell_type": "markdown",
      "metadata": {
        "id": "zuv8N7fjltkC"
      },
      "source": [
        "### Multiplicación ($*$)"
      ]
    },
    {
      "cell_type": "code",
      "execution_count": 4,
      "metadata": {
        "colab": {
          "base_uri": "https://localhost:8080/"
        },
        "id": "TAWG7xSTltkD",
        "outputId": "1f3a80ae-31bc-41f6-c747-5fc411ca9792"
      },
      "outputs": [
        {
          "output_type": "execute_result",
          "data": {
            "text/plain": [
              "6"
            ]
          },
          "metadata": {},
          "execution_count": 4
        }
      ],
      "source": [
        "2 * 3"
      ]
    },
    {
      "cell_type": "markdown",
      "metadata": {
        "id": "dMp7BsnwltkF"
      },
      "source": [
        "### División ($/$) y ($//$)\n",
        "La operación división siempre devuelve un número con punto decimal"
      ]
    },
    {
      "cell_type": "code",
      "execution_count": 5,
      "metadata": {
        "colab": {
          "base_uri": "https://localhost:8080/"
        },
        "id": "DD5kx3H3ltkF",
        "outputId": "66fae1be-c6dd-473f-9746-00a5dc957324"
      },
      "outputs": [
        {
          "output_type": "execute_result",
          "data": {
            "text/plain": [
              "3.3333333333333335"
            ]
          },
          "metadata": {},
          "execution_count": 5
        }
      ],
      "source": [
        "10 / 3"
      ]
    },
    {
      "cell_type": "code",
      "execution_count": 6,
      "metadata": {
        "colab": {
          "base_uri": "https://localhost:8080/"
        },
        "id": "ji0CYH3UltkI",
        "outputId": "0b45940e-6f0a-4da8-e109-24973df8bb9c"
      },
      "outputs": [
        {
          "output_type": "execute_result",
          "data": {
            "text/plain": [
              "3"
            ]
          },
          "metadata": {},
          "execution_count": 6
        }
      ],
      "source": [
        "10 // 3"
      ]
    },
    {
      "cell_type": "markdown",
      "metadata": {
        "id": "3DSO7TcvltkL"
      },
      "source": [
        "### Exponenciación ($**$)"
      ]
    },
    {
      "cell_type": "code",
      "execution_count": 7,
      "metadata": {
        "colab": {
          "base_uri": "https://localhost:8080/"
        },
        "id": "tBKvl2TWltkM",
        "outputId": "300386c8-e99c-4f1a-f5b2-85a1d3f66404"
      },
      "outputs": [
        {
          "output_type": "execute_result",
          "data": {
            "text/plain": [
              "8"
            ]
          },
          "metadata": {},
          "execution_count": 7
        }
      ],
      "source": [
        "2 ** 3"
      ]
    },
    {
      "cell_type": "markdown",
      "metadata": {
        "id": "MhD56p-9ltkQ"
      },
      "source": [
        "### Resto de la división ($\\%$)"
      ]
    },
    {
      "cell_type": "code",
      "execution_count": 8,
      "metadata": {
        "colab": {
          "base_uri": "https://localhost:8080/"
        },
        "id": "bfa7phO6ltkR",
        "outputId": "90fb3c44-949f-428d-9fb0-2d9fd334cb14"
      },
      "outputs": [
        {
          "output_type": "execute_result",
          "data": {
            "text/plain": [
              "1"
            ]
          },
          "metadata": {},
          "execution_count": 8
        }
      ],
      "source": [
        "10 % 3"
      ]
    },
    {
      "cell_type": "code",
      "execution_count": 9,
      "metadata": {
        "colab": {
          "base_uri": "https://localhost:8080/"
        },
        "id": "khIEx6olltkT",
        "outputId": "d3e8b1d5-4d8a-4d33-e0ad-fc5d8f4b2579"
      },
      "outputs": [
        {
          "output_type": "execute_result",
          "data": {
            "text/plain": [
              "0"
            ]
          },
          "metadata": {},
          "execution_count": 9
        }
      ],
      "source": [
        "10 % 2"
      ]
    },
    {
      "cell_type": "markdown",
      "metadata": {
        "id": "8pVVp5fsltkV"
      },
      "source": [
        "### Expresiones matemáticas"
      ]
    },
    {
      "cell_type": "code",
      "execution_count": 10,
      "metadata": {
        "colab": {
          "base_uri": "https://localhost:8080/"
        },
        "id": "jlQTk4gNltkW",
        "outputId": "2bc10901-d235-4e9c-bb9c-2d2bf0630051"
      },
      "outputs": [
        {
          "output_type": "execute_result",
          "data": {
            "text/plain": [
              "16"
            ]
          },
          "metadata": {},
          "execution_count": 10
        }
      ],
      "source": [
        "5 * 2 + 3 * 2"
      ]
    },
    {
      "cell_type": "code",
      "execution_count": 11,
      "metadata": {
        "colab": {
          "base_uri": "https://localhost:8080/"
        },
        "id": "kkCb6Crgltka",
        "outputId": "9feacfa0-e8fb-499e-cfe0-49510f59aada"
      },
      "outputs": [
        {
          "output_type": "execute_result",
          "data": {
            "text/plain": [
              "16"
            ]
          },
          "metadata": {},
          "execution_count": 11
        }
      ],
      "source": [
        "(5 * 2) + (3 * 2)"
      ]
    },
    {
      "cell_type": "code",
      "execution_count": 12,
      "metadata": {
        "colab": {
          "base_uri": "https://localhost:8080/"
        },
        "id": "UD12tlgAltkd",
        "outputId": "085766ae-7e59-4777-e09c-1b9b33425ee4"
      },
      "outputs": [
        {
          "output_type": "execute_result",
          "data": {
            "text/plain": [
              "50"
            ]
          },
          "metadata": {},
          "execution_count": 12
        }
      ],
      "source": [
        "5 * (2 + 3) * 2"
      ]
    },
    {
      "cell_type": "markdown",
      "metadata": {
        "id": "a5tKQ5Beltkf"
      },
      "source": [
        "### La variable _\n",
        "\n",
        "En el modo interactivo, el último resultado impreso en pantalla es atribuído a la variable _"
      ]
    },
    {
      "cell_type": "code",
      "execution_count": 13,
      "metadata": {
        "colab": {
          "base_uri": "https://localhost:8080/"
        },
        "id": "VkHEx516ltkg",
        "outputId": "2bec7a73-7af3-4131-9b93-ee60500345cf"
      },
      "outputs": [
        {
          "output_type": "execute_result",
          "data": {
            "text/plain": [
              "10"
            ]
          },
          "metadata": {},
          "execution_count": 13
        }
      ],
      "source": [
        "5 * 2"
      ]
    },
    {
      "cell_type": "code",
      "execution_count": 14,
      "metadata": {
        "colab": {
          "base_uri": "https://localhost:8080/"
        },
        "id": "dFShsobXltki",
        "outputId": "52f49a6b-d88f-4a22-fbd0-3bc95c1200c1"
      },
      "outputs": [
        {
          "output_type": "execute_result",
          "data": {
            "text/plain": [
              "16"
            ]
          },
          "metadata": {},
          "execution_count": 14
        }
      ],
      "source": [
        "_ + 3 * 2"
      ]
    },
    {
      "cell_type": "code",
      "execution_count": 15,
      "metadata": {
        "colab": {
          "base_uri": "https://localhost:8080/"
        },
        "id": "hJIpR3KUltkk",
        "outputId": "4282c06b-24d0-4700-8070-aee62850baec"
      },
      "outputs": [
        {
          "output_type": "execute_result",
          "data": {
            "text/plain": [
              "8.0"
            ]
          },
          "metadata": {},
          "execution_count": 15
        }
      ],
      "source": [
        "_ / 2"
      ]
    },
    {
      "cell_type": "markdown",
      "source": [
        "#**Paso 2: Operaciones con variables**"
      ],
      "metadata": {
        "id": "BaZLSPqY8JwH"
      }
    },
    {
      "cell_type": "markdown",
      "source": [
        "### Nombres de variables\n",
        "\n",
        "- Nombres de variables pueden comenzar con letras (a - z, A - Z) o con el símbolo *underscore* (_):\n",
        "\n",
        "    > Altura\n",
        "    >\n",
        "    > _peso\n",
        "    \n",
        "- El resto del nombre puede contener letras, números o el símbolo \"_\":\n",
        "\n",
        "    > nombre_de_variable\n",
        "    >\n",
        "    > _valor\n",
        "    >\n",
        "    > dia_26_09_\n",
        "    \n",
        "\n",
        "- Los nombres son *case sensitive*:\n",
        "\n",
        "    > Nombre_De_Variable ≠ nombre_de_variable ≠ NOMBRE_DE_VARIABLE\n",
        "    \n",
        "### Observaciones:\n",
        "- Existen algumas palabras reservadas del lenguaje que no pueden ser utilizadas como nombres de variables:\n",
        "https://docs.python.org/3/reference/lexical_analysis.html#keywords"
      ],
      "metadata": {
        "id": "cJhZ31cH8Rze"
      }
    },
    {
      "cell_type": "markdown",
      "source": [
        "### Declaración de variables\n",
        "\n",
        "### Operadores de asignación: $=$, $+=$, $-=$, $*=$, $/=$, $**=$, $\\%=$, $//=$"
      ],
      "metadata": {
        "id": "_EHDiVIq9ANh"
      }
    },
    {
      "cell_type": "code",
      "execution_count": 16,
      "metadata": {
        "id": "7VIcrXNHltko"
      },
      "outputs": [],
      "source": [
        "año_actual = 2024\n",
        "año_fabricacion = 2003\n",
        "km_total = 40410.0"
      ]
    },
    {
      "cell_type": "code",
      "execution_count": 17,
      "metadata": {
        "colab": {
          "base_uri": "https://localhost:8080/"
        },
        "id": "atVoqp6bltkq",
        "outputId": "6fad8668-e39f-4ab4-e115-268d503d2b26"
      },
      "outputs": [
        {
          "output_type": "execute_result",
          "data": {
            "text/plain": [
              "2024"
            ]
          },
          "metadata": {},
          "execution_count": 17
        }
      ],
      "source": [
        "año_actual"
      ]
    },
    {
      "cell_type": "code",
      "execution_count": 18,
      "metadata": {
        "colab": {
          "base_uri": "https://localhost:8080/"
        },
        "id": "_t82qXrOltkt",
        "outputId": "2d07a347-a3ec-4d57-b54c-a468e3dd19a7"
      },
      "outputs": [
        {
          "output_type": "execute_result",
          "data": {
            "text/plain": [
              "2003"
            ]
          },
          "metadata": {},
          "execution_count": 18
        }
      ],
      "source": [
        "año_fabricacion"
      ]
    },
    {
      "cell_type": "code",
      "execution_count": 19,
      "metadata": {
        "colab": {
          "base_uri": "https://localhost:8080/"
        },
        "id": "1anwuDHiltkv",
        "outputId": "3b989065-7d01-4e27-a3d1-e5979cba4f6c"
      },
      "outputs": [
        {
          "output_type": "execute_result",
          "data": {
            "text/plain": [
              "40410.0"
            ]
          },
          "metadata": {},
          "execution_count": 19
        }
      ],
      "source": [
        "km_total"
      ]
    },
    {
      "cell_type": "markdown",
      "source": [
        "## $$km_{promedio} = \\frac {km_{total}}{(Año_{actual} - Año_{fabricación})}$$"
      ],
      "metadata": {
        "id": "ZnjhnySs9ow1"
      }
    },
    {
      "cell_type": "markdown",
      "metadata": {
        "id": "zswWS4hNltky"
      },
      "source": [
        "### Operaciones con variables"
      ]
    },
    {
      "cell_type": "code",
      "execution_count": 20,
      "metadata": {
        "colab": {
          "base_uri": "https://localhost:8080/"
        },
        "id": "HxxU0rnfltkz",
        "outputId": "13a92227-cf88-4abc-86e3-0370729bbf99"
      },
      "outputs": [
        {
          "output_type": "execute_result",
          "data": {
            "text/plain": [
              "1924.2857142857142"
            ]
          },
          "metadata": {},
          "execution_count": 20
        }
      ],
      "source": [
        "km_promedio = km_total / (año_actual - año_fabricacion)\n",
        "km_promedio"
      ]
    },
    {
      "cell_type": "code",
      "execution_count": 21,
      "metadata": {
        "colab": {
          "base_uri": "https://localhost:8080/"
        },
        "id": "_2Qhb32jltk1",
        "outputId": "169dffdf-a3d3-4863-d6cc-6f7206093039"
      },
      "outputs": [
        {
          "output_type": "execute_result",
          "data": {
            "text/plain": [
              "1924.2857142857142"
            ]
          },
          "metadata": {},
          "execution_count": 21
        }
      ],
      "source": [
        "año_actual = 2024\n",
        "año_fabricacion = 2003\n",
        "km_total = 40410.0\n",
        "km_promedio = km_total / (año_actual - año_fabricacion)\n",
        "km_promedio"
      ]
    },
    {
      "cell_type": "code",
      "execution_count": 22,
      "metadata": {
        "colab": {
          "base_uri": "https://localhost:8080/"
        },
        "id": "nCJzA7dyltk3",
        "outputId": "ce5bcc4d-b6b3-41e0-d61f-d9c3256365dd"
      },
      "outputs": [
        {
          "output_type": "execute_result",
          "data": {
            "text/plain": [
              "42334.28571428572"
            ]
          },
          "metadata": {},
          "execution_count": 22
        }
      ],
      "source": [
        "año_actual = 2024\n",
        "año_fabricacion = 2003\n",
        "km_total = 40410.0\n",
        "km_promedio = km_total / (año_actual - año_fabricacion)\n",
        "\n",
        "km_total = km_total + km_promedio\n",
        "km_total"
      ]
    },
    {
      "cell_type": "code",
      "execution_count": 23,
      "metadata": {
        "colab": {
          "base_uri": "https://localhost:8080/"
        },
        "id": "ifRwQ0vEltk9",
        "outputId": "bf43dba9-32ba-4c84-bbdd-589a24b68739"
      },
      "outputs": [
        {
          "output_type": "execute_result",
          "data": {
            "text/plain": [
              "42334.28571428572"
            ]
          },
          "metadata": {},
          "execution_count": 23
        }
      ],
      "source": [
        "año_actual = 2024\n",
        "año_fabricacion = 2003\n",
        "km_total = 40410.0\n",
        "km_promedio = km_total / (año_actual - año_fabricacion)\n",
        "\n",
        "km_total += km_promedio\n",
        "km_total"
      ]
    },
    {
      "cell_type": "markdown",
      "metadata": {
        "id": "uVAyJbmAltlC"
      },
      "source": [
        "### Declaración múltiple"
      ]
    },
    {
      "cell_type": "code",
      "execution_count": 24,
      "metadata": {
        "id": "oMWEzjPOltlC"
      },
      "outputs": [],
      "source": [
        "año_actual, año_fabricacion, km_total = 2024, 2003, 40410.0"
      ]
    },
    {
      "cell_type": "code",
      "execution_count": 25,
      "metadata": {
        "colab": {
          "base_uri": "https://localhost:8080/"
        },
        "id": "9ZKlHkLultlE",
        "outputId": "ca877c51-792e-42ea-9e6a-181fff3b1447"
      },
      "outputs": [
        {
          "output_type": "execute_result",
          "data": {
            "text/plain": [
              "2024"
            ]
          },
          "metadata": {},
          "execution_count": 25
        }
      ],
      "source": [
        "año_actual"
      ]
    },
    {
      "cell_type": "code",
      "execution_count": 26,
      "metadata": {
        "colab": {
          "base_uri": "https://localhost:8080/"
        },
        "id": "-mcMuW9nltlG",
        "outputId": "0dc60d70-0cda-43ec-8257-fd8122cfc42d"
      },
      "outputs": [
        {
          "output_type": "execute_result",
          "data": {
            "text/plain": [
              "2003"
            ]
          },
          "metadata": {},
          "execution_count": 26
        }
      ],
      "source": [
        "año_fabricacion"
      ]
    },
    {
      "cell_type": "code",
      "execution_count": 27,
      "metadata": {
        "colab": {
          "base_uri": "https://localhost:8080/"
        },
        "id": "WFFavLIvltlL",
        "outputId": "8e9de6fe-7391-49b3-df93-4322cf050799"
      },
      "outputs": [
        {
          "output_type": "execute_result",
          "data": {
            "text/plain": [
              "40410.0"
            ]
          },
          "metadata": {},
          "execution_count": 27
        }
      ],
      "source": [
        "km_total"
      ]
    },
    {
      "cell_type": "code",
      "execution_count": 28,
      "metadata": {
        "colab": {
          "base_uri": "https://localhost:8080/"
        },
        "id": "iFawOJe6ltlO",
        "outputId": "cc69a0cd-df34-4b60-ac57-385a6e825005"
      },
      "outputs": [
        {
          "output_type": "execute_result",
          "data": {
            "text/plain": [
              "1924.2857142857142"
            ]
          },
          "metadata": {},
          "execution_count": 28
        }
      ],
      "source": [
        "año_actual, año_fabricacion, km_total = 2024, 2003, 40410.0\n",
        "km_promedio = km_total / (año_actual - año_fabricacion)\n",
        "km_promedio"
      ]
    },
    {
      "cell_type": "markdown",
      "source": [
        "#**Paso 3: Tipos de datos**"
      ],
      "metadata": {
        "id": "tkMWPzLdFgLv"
      }
    },
    {
      "cell_type": "markdown",
      "metadata": {
        "id": "-HRRxQOtltlQ"
      },
      "source": [
        "### Números"
      ]
    },
    {
      "cell_type": "code",
      "execution_count": 29,
      "metadata": {
        "id": "5PKIcIuUltlR"
      },
      "outputs": [],
      "source": [
        "año_actual = 2024"
      ]
    },
    {
      "cell_type": "code",
      "execution_count": 30,
      "metadata": {
        "colab": {
          "base_uri": "https://localhost:8080/"
        },
        "id": "G32Yd1g0ltlT",
        "outputId": "81e0feb7-07c4-4a92-856c-96d720af63e8"
      },
      "outputs": [
        {
          "output_type": "execute_result",
          "data": {
            "text/plain": [
              "int"
            ]
          },
          "metadata": {},
          "execution_count": 30
        }
      ],
      "source": [
        "type(año_actual)"
      ]
    },
    {
      "cell_type": "code",
      "execution_count": 31,
      "metadata": {
        "id": "b9_v__dEltlV"
      },
      "outputs": [],
      "source": [
        "km_total = 40410.0"
      ]
    },
    {
      "cell_type": "code",
      "execution_count": 32,
      "metadata": {
        "colab": {
          "base_uri": "https://localhost:8080/"
        },
        "id": "A0nySb3LltlZ",
        "outputId": "d98a4c64-7d30-4b02-f8b8-cd380f2042e0"
      },
      "outputs": [
        {
          "output_type": "execute_result",
          "data": {
            "text/plain": [
              "float"
            ]
          },
          "metadata": {},
          "execution_count": 32
        }
      ],
      "source": [
        "type(km_total)"
      ]
    },
    {
      "cell_type": "markdown",
      "metadata": {
        "id": "7X9iheAnltld"
      },
      "source": [
        "### Booleanos"
      ]
    },
    {
      "cell_type": "code",
      "execution_count": 33,
      "metadata": {
        "id": "liUYdchPltle"
      },
      "outputs": [],
      "source": [
        "cero_km = True"
      ]
    },
    {
      "cell_type": "code",
      "execution_count": 34,
      "metadata": {
        "colab": {
          "base_uri": "https://localhost:8080/"
        },
        "id": "oZIQAghaltlh",
        "outputId": "141d542c-08a2-4b4a-f54f-d5b2cd784f54"
      },
      "outputs": [
        {
          "output_type": "execute_result",
          "data": {
            "text/plain": [
              "bool"
            ]
          },
          "metadata": {},
          "execution_count": 34
        }
      ],
      "source": [
        "type(cero_km)"
      ]
    },
    {
      "cell_type": "code",
      "execution_count": 35,
      "metadata": {
        "id": "XCAYApe3ltlj"
      },
      "outputs": [],
      "source": [
        "cero_km = False"
      ]
    },
    {
      "cell_type": "code",
      "execution_count": 36,
      "metadata": {
        "colab": {
          "base_uri": "https://localhost:8080/"
        },
        "id": "mJ0nGEV7ltll",
        "outputId": "bc1da529-5beb-4f0c-e1a7-bbee91a9fd87"
      },
      "outputs": [
        {
          "output_type": "execute_result",
          "data": {
            "text/plain": [
              "bool"
            ]
          },
          "metadata": {},
          "execution_count": 36
        }
      ],
      "source": [
        "type(cero_km)"
      ]
    },
    {
      "cell_type": "markdown",
      "metadata": {
        "id": "Ipjq4eiSltlp"
      },
      "source": [
        "### Strings"
      ]
    },
    {
      "cell_type": "code",
      "execution_count": 37,
      "metadata": {
        "colab": {
          "base_uri": "https://localhost:8080/",
          "height": 35
        },
        "id": "OeW_GQzOltlr",
        "outputId": "987c428f-2953-4073-821b-9260b73c3eca"
      },
      "outputs": [
        {
          "output_type": "execute_result",
          "data": {
            "text/plain": [
              "'Yamaha MT-07'"
            ],
            "application/vnd.google.colaboratory.intrinsic+json": {
              "type": "string"
            }
          },
          "metadata": {},
          "execution_count": 37
        }
      ],
      "source": [
        "nombre = 'Yamaha MT-07'\n",
        "nombre"
      ]
    },
    {
      "cell_type": "code",
      "execution_count": 38,
      "metadata": {
        "colab": {
          "base_uri": "https://localhost:8080/",
          "height": 35
        },
        "id": "xF1Bi-Rkltlu",
        "outputId": "576eae4a-2709-4ddf-8977-9d3e1a2d3d75"
      },
      "outputs": [
        {
          "output_type": "execute_result",
          "data": {
            "text/plain": [
              "'Yamaha MT-07'"
            ],
            "application/vnd.google.colaboratory.intrinsic+json": {
              "type": "string"
            }
          },
          "metadata": {},
          "execution_count": 38
        }
      ],
      "source": [
        "nombre = \"Yamaha MT-07\"\n",
        "nombre"
      ]
    },
    {
      "cell_type": "code",
      "execution_count": 39,
      "metadata": {
        "colab": {
          "base_uri": "https://localhost:8080/",
          "height": 35
        },
        "id": "QlobSFUtltlw",
        "outputId": "b0342cb2-440e-460d-82b7-af8cbe4cdf92"
      },
      "outputs": [
        {
          "output_type": "execute_result",
          "data": {
            "text/plain": [
              "'Yamaha \"MT-07\"'"
            ],
            "application/vnd.google.colaboratory.intrinsic+json": {
              "type": "string"
            }
          },
          "metadata": {},
          "execution_count": 39
        }
      ],
      "source": [
        "nombre = 'Yamaha \"MT-07\"'\n",
        "nombre"
      ]
    },
    {
      "cell_type": "code",
      "execution_count": 40,
      "metadata": {
        "colab": {
          "base_uri": "https://localhost:8080/",
          "height": 35
        },
        "id": "8LBWzzfbltly",
        "outputId": "6802d1c0-be0a-4b48-c5ca-afc0dafa3da0"
      },
      "outputs": [
        {
          "output_type": "execute_result",
          "data": {
            "text/plain": [
              "\"Yamaha 'MT-07'\""
            ],
            "application/vnd.google.colaboratory.intrinsic+json": {
              "type": "string"
            }
          },
          "metadata": {},
          "execution_count": 40
        }
      ],
      "source": [
        "nombre = \"Yamaha 'MT-07'\"\n",
        "nombre"
      ]
    },
    {
      "cell_type": "code",
      "execution_count": 41,
      "metadata": {
        "id": "ycEhoxtUltl0"
      },
      "outputs": [],
      "source": [
        "moto = \"\"\"\n",
        "  Nombre\n",
        "  Edad\n",
        "  Nota\n",
        "\"\"\""
      ]
    },
    {
      "cell_type": "code",
      "source": [
        "moto"
      ],
      "metadata": {
        "colab": {
          "base_uri": "https://localhost:8080/",
          "height": 35
        },
        "id": "SjyyGme2sVVY",
        "outputId": "0bc15986-ca17-4399-b69f-84f8384d045c"
      },
      "execution_count": 42,
      "outputs": [
        {
          "output_type": "execute_result",
          "data": {
            "text/plain": [
              "'\\n  Nombre\\n  Edad\\n  Nota\\n'"
            ],
            "application/vnd.google.colaboratory.intrinsic+json": {
              "type": "string"
            }
          },
          "metadata": {},
          "execution_count": 42
        }
      ]
    },
    {
      "cell_type": "code",
      "execution_count": 43,
      "metadata": {
        "colab": {
          "base_uri": "https://localhost:8080/"
        },
        "id": "bjZQzpuUltl2",
        "outputId": "be10fcd3-790f-4f94-f493-7877e2fa5c78"
      },
      "outputs": [
        {
          "output_type": "execute_result",
          "data": {
            "text/plain": [
              "str"
            ]
          },
          "metadata": {},
          "execution_count": 43
        }
      ],
      "source": [
        "type(moto)"
      ]
    },
    {
      "cell_type": "markdown",
      "metadata": {
        "id": "w6bJU-R9ltl5"
      },
      "source": [
        "### None"
      ]
    },
    {
      "cell_type": "code",
      "execution_count": 44,
      "metadata": {
        "id": "RgeVhXGxltl5"
      },
      "outputs": [],
      "source": [
        "kilometraje = None\n",
        "kilometraje"
      ]
    },
    {
      "cell_type": "code",
      "execution_count": 45,
      "metadata": {
        "colab": {
          "base_uri": "https://localhost:8080/"
        },
        "id": "MJI6PKS6ltl8",
        "outputId": "367c347e-5182-4d39-aa36-e825e600762c"
      },
      "outputs": [
        {
          "output_type": "execute_result",
          "data": {
            "text/plain": [
              "NoneType"
            ]
          },
          "metadata": {},
          "execution_count": 45
        }
      ],
      "source": [
        "type(kilometraje)"
      ]
    },
    {
      "cell_type": "markdown",
      "source": [
        "#**Paso 4: Operaciones con datos**"
      ],
      "metadata": {
        "id": "IrpNBriDGtBp"
      }
    },
    {
      "cell_type": "markdown",
      "source": [
        "### Iniciando diferentes tipos de datos"
      ],
      "metadata": {
        "id": "jFDTMpQ1HKP7"
      }
    },
    {
      "cell_type": "code",
      "execution_count": 46,
      "metadata": {
        "id": "D5hq5Qbvltl-"
      },
      "outputs": [],
      "source": [
        "a = 10\n",
        "b = 20\n",
        "c = 'Python es '\n",
        "d = 'genial'"
      ]
    },
    {
      "cell_type": "code",
      "execution_count": 47,
      "metadata": {
        "colab": {
          "base_uri": "https://localhost:8080/"
        },
        "id": "aJ0vi8_Nltl_",
        "outputId": "2fd440cb-03d6-4bda-a6bf-49cf42adeb8b"
      },
      "outputs": [
        {
          "output_type": "execute_result",
          "data": {
            "text/plain": [
              "int"
            ]
          },
          "metadata": {},
          "execution_count": 47
        }
      ],
      "source": [
        "type(a)"
      ]
    },
    {
      "cell_type": "code",
      "execution_count": 48,
      "metadata": {
        "colab": {
          "base_uri": "https://localhost:8080/"
        },
        "id": "29FVH7p7ltmB",
        "outputId": "64da5c13-e907-445b-8cf6-1d09400628b9"
      },
      "outputs": [
        {
          "output_type": "execute_result",
          "data": {
            "text/plain": [
              "int"
            ]
          },
          "metadata": {},
          "execution_count": 48
        }
      ],
      "source": [
        "type(b)"
      ]
    },
    {
      "cell_type": "code",
      "execution_count": 49,
      "metadata": {
        "colab": {
          "base_uri": "https://localhost:8080/"
        },
        "id": "NGseTO2SltmC",
        "outputId": "a77b6437-b22a-4ff7-8f2f-69978c4a16dc"
      },
      "outputs": [
        {
          "output_type": "execute_result",
          "data": {
            "text/plain": [
              "str"
            ]
          },
          "metadata": {},
          "execution_count": 49
        }
      ],
      "source": [
        "type(c)"
      ]
    },
    {
      "cell_type": "code",
      "execution_count": 50,
      "metadata": {
        "colab": {
          "base_uri": "https://localhost:8080/"
        },
        "id": "yaSBhwNWltmE",
        "outputId": "6f8f20a5-0c6b-4811-95f1-f54aefdbfecd"
      },
      "outputs": [
        {
          "output_type": "execute_result",
          "data": {
            "text/plain": [
              "str"
            ]
          },
          "metadata": {},
          "execution_count": 50
        }
      ],
      "source": [
        "type(d)"
      ]
    },
    {
      "cell_type": "code",
      "execution_count": 51,
      "metadata": {
        "colab": {
          "base_uri": "https://localhost:8080/"
        },
        "id": "5zMXVwLHltmF",
        "outputId": "37c7628d-ef1f-4652-ae1a-216ff805f3aa"
      },
      "outputs": [
        {
          "output_type": "execute_result",
          "data": {
            "text/plain": [
              "30"
            ]
          },
          "metadata": {},
          "execution_count": 51
        }
      ],
      "source": [
        "a + b"
      ]
    },
    {
      "cell_type": "code",
      "execution_count": 52,
      "metadata": {
        "colab": {
          "base_uri": "https://localhost:8080/",
          "height": 35
        },
        "id": "JJrqKRZFltmJ",
        "outputId": "7dab2109-c6b5-4601-e986-cc902dc36539"
      },
      "outputs": [
        {
          "output_type": "execute_result",
          "data": {
            "text/plain": [
              "'Python es genial'"
            ],
            "application/vnd.google.colaboratory.intrinsic+json": {
              "type": "string"
            }
          },
          "metadata": {},
          "execution_count": 52
        }
      ],
      "source": [
        "c + d"
      ]
    },
    {
      "cell_type": "code",
      "execution_count": 53,
      "metadata": {
        "id": "hWEIttpgltmM"
      },
      "outputs": [],
      "source": [
        "#c + a"
      ]
    },
    {
      "cell_type": "markdown",
      "metadata": {
        "id": "dByigpENltmO"
      },
      "source": [
        "### Conversiones de tipo\n",
        "\n",
        "Funciones int(), float(), str()"
      ]
    },
    {
      "cell_type": "code",
      "execution_count": 54,
      "metadata": {
        "colab": {
          "base_uri": "https://localhost:8080/",
          "height": 35
        },
        "id": "MtecvWlsltmP",
        "outputId": "88f37972-ad4f-4456-c69b-868cd32d5992"
      },
      "outputs": [
        {
          "output_type": "execute_result",
          "data": {
            "text/plain": [
              "'10'"
            ],
            "application/vnd.google.colaboratory.intrinsic+json": {
              "type": "string"
            }
          },
          "metadata": {},
          "execution_count": 54
        }
      ],
      "source": [
        "str(a)"
      ]
    },
    {
      "cell_type": "code",
      "execution_count": 55,
      "metadata": {
        "colab": {
          "base_uri": "https://localhost:8080/"
        },
        "id": "S1NuIhDVltmS",
        "outputId": "0e67c4e0-0d93-4bf5-fec8-27819eea09f7"
      },
      "outputs": [
        {
          "output_type": "execute_result",
          "data": {
            "text/plain": [
              "str"
            ]
          },
          "metadata": {},
          "execution_count": 55
        }
      ],
      "source": [
        "type(str(a))"
      ]
    },
    {
      "cell_type": "code",
      "execution_count": 56,
      "metadata": {
        "colab": {
          "base_uri": "https://localhost:8080/",
          "height": 35
        },
        "id": "3kCUD1X-ltmT",
        "outputId": "a41fdf0f-8ed8-4c37-d255-d9d1872a0ba7"
      },
      "outputs": [
        {
          "output_type": "execute_result",
          "data": {
            "text/plain": [
              "'Python es 10'"
            ],
            "application/vnd.google.colaboratory.intrinsic+json": {
              "type": "string"
            }
          },
          "metadata": {},
          "execution_count": 56
        }
      ],
      "source": [
        "c + str(a)"
      ]
    },
    {
      "cell_type": "code",
      "execution_count": 57,
      "metadata": {
        "colab": {
          "base_uri": "https://localhost:8080/"
        },
        "id": "TTjSEVRaltmU",
        "outputId": "9f028702-6efe-4d29-8f51-c901c6eff87b"
      },
      "outputs": [
        {
          "output_type": "execute_result",
          "data": {
            "text/plain": [
              "10.0"
            ]
          },
          "metadata": {},
          "execution_count": 57
        }
      ],
      "source": [
        "float(a)"
      ]
    },
    {
      "cell_type": "code",
      "execution_count": 58,
      "metadata": {
        "id": "P1P1bXaYltmV"
      },
      "outputs": [],
      "source": [
        "var = 3.141592"
      ]
    },
    {
      "cell_type": "code",
      "source": [
        "type(var)"
      ],
      "metadata": {
        "colab": {
          "base_uri": "https://localhost:8080/"
        },
        "id": "Kd0VL37Rw1fN",
        "outputId": "98be259a-d7af-4d9a-c21d-42627d1708b0"
      },
      "execution_count": 59,
      "outputs": [
        {
          "output_type": "execute_result",
          "data": {
            "text/plain": [
              "float"
            ]
          },
          "metadata": {},
          "execution_count": 59
        }
      ]
    },
    {
      "cell_type": "code",
      "execution_count": 60,
      "metadata": {
        "colab": {
          "base_uri": "https://localhost:8080/"
        },
        "id": "F_8Cn0aAltmW",
        "outputId": "33d94e9f-1621-420d-8af8-82ea4698f329"
      },
      "outputs": [
        {
          "output_type": "execute_result",
          "data": {
            "text/plain": [
              "3"
            ]
          },
          "metadata": {},
          "execution_count": 60
        }
      ],
      "source": [
        "int(var)"
      ]
    },
    {
      "cell_type": "code",
      "execution_count": 61,
      "metadata": {
        "id": "_KA6MUgmltmY"
      },
      "outputs": [],
      "source": [
        "var = 3.99"
      ]
    },
    {
      "cell_type": "code",
      "execution_count": 62,
      "metadata": {
        "colab": {
          "base_uri": "https://localhost:8080/"
        },
        "id": "7uiCxqUcltma",
        "outputId": "47f49186-2d5c-4f9e-b582-1c16d75b936d"
      },
      "outputs": [
        {
          "output_type": "execute_result",
          "data": {
            "text/plain": [
              "3"
            ]
          },
          "metadata": {},
          "execution_count": 62
        }
      ],
      "source": [
        "int(var)"
      ]
    },
    {
      "cell_type": "code",
      "source": [
        "var = 'hola'"
      ],
      "metadata": {
        "id": "ieniH2i7xQK_"
      },
      "execution_count": 63,
      "outputs": []
    },
    {
      "cell_type": "code",
      "source": [
        "type(var)"
      ],
      "metadata": {
        "colab": {
          "base_uri": "https://localhost:8080/"
        },
        "id": "bBNwOcydxRkS",
        "outputId": "16e5d8ca-8a32-41ce-8891-f9ed4001ae74"
      },
      "execution_count": 64,
      "outputs": [
        {
          "output_type": "execute_result",
          "data": {
            "text/plain": [
              "str"
            ]
          },
          "metadata": {},
          "execution_count": 64
        }
      ]
    },
    {
      "cell_type": "code",
      "source": [
        "#float(var)"
      ],
      "metadata": {
        "id": "sQg9Ubx_xVG2"
      },
      "execution_count": 65,
      "outputs": []
    },
    {
      "cell_type": "markdown",
      "source": [
        "#**Paso 5: Indentación, comentarios y formateo de strings**"
      ],
      "metadata": {
        "id": "fpd40aytHjyQ"
      }
    },
    {
      "cell_type": "markdown",
      "source": [
        "### Indentación\n",
        "\n",
        "En Python la indentación no es solamente una cuestión de organización y estilo, sino que es un requisito del lenguaje."
      ],
      "metadata": {
        "id": "hPuWjL5VH51C"
      }
    },
    {
      "cell_type": "code",
      "execution_count": 66,
      "metadata": {
        "colab": {
          "base_uri": "https://localhost:8080/"
        },
        "id": "DqXANnyultmw",
        "outputId": "bab02712-dbf1-476f-833a-f7bf8cac1a5b"
      },
      "outputs": [
        {
          "output_type": "stream",
          "name": "stdout",
          "text": [
            "Verdadero\n"
          ]
        }
      ],
      "source": [
        "año_actual = 2024\n",
        "año_fabricacion = 2024\n",
        "\n",
        "if (año_actual == año_fabricacion):\n",
        "  print('Verdadero')\n",
        "else:\n",
        "  print('Falso')"
      ]
    },
    {
      "cell_type": "markdown",
      "metadata": {
        "id": "dNBfv7x7ltmy"
      },
      "source": [
        "### Comentarios\n",
        "\n",
        "Comentarios son extremamente importantes en un programa. Consiste en un texto que describe lo que el programa o una parte específica del programa está haciendo. Los comentarios son ignorados por el interpretador Python.\n",
        "\n",
        "Podemos tener comentarios de una única linea o de múltiples líneas."
      ]
    },
    {
      "cell_type": "code",
      "execution_count": 67,
      "metadata": {
        "colab": {
          "base_uri": "https://localhost:8080/"
        },
        "id": "GN3DfwiRltmy",
        "outputId": "8ac9ed8d-4881-4f86-cc06-2fcfadb61c2f"
      },
      "outputs": [
        {
          "output_type": "execute_result",
          "data": {
            "text/plain": [
              "2024"
            ]
          },
          "metadata": {},
          "execution_count": 67
        }
      ],
      "source": [
        "# Esto es un comentario\n",
        "año_actual = 2024\n",
        "año_actual"
      ]
    },
    {
      "cell_type": "code",
      "execution_count": 68,
      "metadata": {
        "colab": {
          "base_uri": "https://localhost:8080/"
        },
        "id": "PICBiohFltm2",
        "outputId": "c8094d78-b720-4e3d-b3c7-0b6b7ba7d52e"
      },
      "outputs": [
        {
          "output_type": "execute_result",
          "data": {
            "text/plain": [
              "2024"
            ]
          },
          "metadata": {},
          "execution_count": 68
        }
      ],
      "source": [
        "# Esto\n",
        "# es un\n",
        "# comentario\n",
        "año_actual = 2024\n",
        "año_actual"
      ]
    },
    {
      "cell_type": "code",
      "execution_count": 69,
      "metadata": {
        "colab": {
          "base_uri": "https://localhost:8080/"
        },
        "id": "PTkJ4Vjultm4",
        "outputId": "c1a6a910-627e-4f73-e5b3-2932c2b67ef8"
      },
      "outputs": [
        {
          "output_type": "execute_result",
          "data": {
            "text/plain": [
              "2024"
            ]
          },
          "metadata": {},
          "execution_count": 69
        }
      ],
      "source": [
        "'''Esto es\n",
        "un\n",
        "comentario'''\n",
        "año_actual = 2024\n",
        "año_actual"
      ]
    },
    {
      "cell_type": "code",
      "execution_count": 70,
      "metadata": {
        "colab": {
          "base_uri": "https://localhost:8080/"
        },
        "id": "SYEGdALxltm5",
        "outputId": "e496eee4-769c-4d63-de52-8a41b2723dd6"
      },
      "outputs": [
        {
          "output_type": "stream",
          "name": "stdout",
          "text": [
            "Verdadero\n"
          ]
        }
      ],
      "source": [
        "# Definiendo variables\n",
        "año_actual = 2024\n",
        "año_fabricacion = 2024\n",
        "\n",
        "'''\n",
        "Estructura condicional que vamos\n",
        "a aprender la próxima clase\n",
        "'''\n",
        "if (año_actual == año_fabricacion):   # Probando si la condición es verdadera\n",
        "    print('Verdadero')\n",
        "else:                               # Probando si la condición es falsa\n",
        "    print('Falso')"
      ]
    },
    {
      "cell_type": "markdown",
      "metadata": {
        "id": "CMovhJZ_ltnG"
      },
      "source": [
        "## *str.format()*\n",
        "\n",
        "https://docs.python.org/3.6/library/stdtypes.html#str.format"
      ]
    },
    {
      "cell_type": "code",
      "source": [
        "print('Hola, Alejandro!')"
      ],
      "metadata": {
        "colab": {
          "base_uri": "https://localhost:8080/"
        },
        "id": "g4AaHhkB4GLv",
        "outputId": "1db92d79-0ad0-4edd-cf89-227db1c64a97"
      },
      "execution_count": 71,
      "outputs": [
        {
          "output_type": "stream",
          "name": "stdout",
          "text": [
            "Hola, Alejandro!\n"
          ]
        }
      ]
    },
    {
      "cell_type": "code",
      "execution_count": 72,
      "metadata": {
        "colab": {
          "base_uri": "https://localhost:8080/"
        },
        "id": "N12xmMehltnG",
        "outputId": "35317a37-873e-498a-d918-c324b490c699"
      },
      "outputs": [
        {
          "output_type": "stream",
          "name": "stdout",
          "text": [
            "Hola, Alejandro!\n"
          ]
        }
      ],
      "source": [
        "print('Hola, {}!'.format('Alejandro'))"
      ]
    },
    {
      "cell_type": "code",
      "execution_count": 73,
      "metadata": {
        "colab": {
          "base_uri": "https://localhost:8080/"
        },
        "id": "mRBmU9G1ltnJ",
        "outputId": "11c14e0a-8bb4-46c1-bc63-1cb35953e337"
      },
      "outputs": [
        {
          "output_type": "stream",
          "name": "stdout",
          "text": [
            "Hola, Alejandro! Esta es su visita número 32\n"
          ]
        }
      ],
      "source": [
        "print('Hola, {}! Esta es su visita número {}'.format('Alejandro', 32))"
      ]
    },
    {
      "cell_type": "code",
      "execution_count": 74,
      "metadata": {
        "colab": {
          "base_uri": "https://localhost:8080/"
        },
        "id": "wpqEsTwnltnL",
        "outputId": "35f4c57f-44e8-4e7f-9ea6-0a2bf9fb9bad"
      },
      "outputs": [
        {
          "output_type": "stream",
          "name": "stdout",
          "text": [
            "Hola, Alejandro! Esta es su visita número 32\n"
          ]
        }
      ],
      "source": [
        "print('Hola, {nombre}! Esta es su visita número {visita}'.format(visita = 32, nombre = 'Alejandro'))"
      ]
    },
    {
      "cell_type": "markdown",
      "metadata": {
        "id": "V-wPNUN9ltnN"
      },
      "source": [
        "## *f-Strings*\n",
        "\n",
        "https://docs.python.org/3.6/reference/lexical_analysis.html#f-strings"
      ]
    },
    {
      "cell_type": "code",
      "execution_count": 75,
      "metadata": {
        "id": "7Fq_WPv0ltnO"
      },
      "outputs": [],
      "source": [
        "nombre = 'Alejandro'\n",
        "visita = 32"
      ]
    },
    {
      "cell_type": "code",
      "execution_count": 76,
      "metadata": {
        "colab": {
          "base_uri": "https://localhost:8080/"
        },
        "id": "bE3qbd6WltnR",
        "outputId": "56a81326-5d4c-4222-e2a9-083a4c3ac84b"
      },
      "outputs": [
        {
          "output_type": "stream",
          "name": "stdout",
          "text": [
            "Hola, Alejandro! Esta es su visita número 32\n"
          ]
        }
      ],
      "source": [
        "print(f'Hola, {nombre}! Esta es su visita número {visita}')"
      ]
    },
    {
      "cell_type": "markdown",
      "source": [
        "#**Paso 6: Trabajando con Listas**"
      ],
      "metadata": {
        "id": "NdmU-PyoIokI"
      }
    },
    {
      "cell_type": "markdown",
      "metadata": {
        "id": "zhS89xysltnS"
      },
      "source": [
        "## 6.1 Creando listas\n",
        "\n",
        "Listas son secuencias **mutables** que son utilizadas para guardar colecciones de objetos, generalmente homogéneos. Pueden ser construídas de varias formas:\n",
        "```\n",
        "- Utilizando un par de corchetes: [ ], [ 1 ]\n",
        "- Utilizando un par de corchetes con objetos separados por comas: [ 1, 2, 3 ]\n",
        "```"
      ]
    },
    {
      "cell_type": "code",
      "execution_count": 77,
      "metadata": {
        "collapsed": true,
        "id": "aE4UWF10ltnS",
        "colab": {
          "base_uri": "https://localhost:8080/"
        },
        "outputId": "ac8488bc-fd2b-488c-9300-e606ef9c009c"
      },
      "outputs": [
        {
          "output_type": "execute_result",
          "data": {
            "text/plain": [
              "['Cerraduras de seguridad',\n",
              " 'Bolsas laterales',\n",
              " 'Asientos personalizados',\n",
              " 'Puños calefaccionados',\n",
              " 'Espejos retrovisores deportivos',\n",
              " 'Protecciones para manos']"
            ]
          },
          "metadata": {},
          "execution_count": 77
        }
      ],
      "source": [
        "Accesorios = ['Cerraduras de seguridad', 'Bolsas laterales', 'Asientos personalizados', 'Puños calefaccionados', 'Espejos retrovisores deportivos', 'Protecciones para manos']\n",
        "Accesorios"
      ]
    },
    {
      "cell_type": "code",
      "execution_count": 78,
      "metadata": {
        "collapsed": true,
        "id": "lFl3RShrtykL",
        "colab": {
          "base_uri": "https://localhost:8080/"
        },
        "outputId": "5d854bec-d722-4c0c-b437-e7264b689ff9"
      },
      "outputs": [
        {
          "output_type": "execute_result",
          "data": {
            "text/plain": [
              "list"
            ]
          },
          "metadata": {},
          "execution_count": 78
        }
      ],
      "source": [
        "type(Accesorios)"
      ]
    },
    {
      "cell_type": "markdown",
      "metadata": {
        "id": "Mmlkh5TVltnT"
      },
      "source": [
        "### Lista con tipos de datos variados"
      ]
    },
    {
      "cell_type": "code",
      "execution_count": 79,
      "metadata": {
        "id": "Mfpu7NoJltnT"
      },
      "outputs": [],
      "source": [
        "Moto_1 = ['Kawasaki Ninja', 'Motor 4.0 Turbo', 2020, 12000.0, False, ['Cerraduras de seguridad', 'Bolsas laterales'], 15000.00]\n",
        "Moto_2 = ['Yamaha R1', 'Motor Diesel', 2015, 15000.0, False, ['Puños calefaccionados', 'Frenos ABS'], 18000.00]"
      ]
    },
    {
      "cell_type": "code",
      "execution_count": 80,
      "metadata": {
        "collapsed": true,
        "id": "EJSJFJjKltnV",
        "colab": {
          "base_uri": "https://localhost:8080/"
        },
        "outputId": "54482f7e-f101-403b-e784-28ce8dd2a15c"
      },
      "outputs": [
        {
          "output_type": "execute_result",
          "data": {
            "text/plain": [
              "['Kawasaki Ninja',\n",
              " 'Motor 4.0 Turbo',\n",
              " 2020,\n",
              " 12000.0,\n",
              " False,\n",
              " ['Cerraduras de seguridad', 'Bolsas laterales'],\n",
              " 15000.0]"
            ]
          },
          "metadata": {},
          "execution_count": 80
        }
      ],
      "source": [
        "Moto_1"
      ]
    },
    {
      "cell_type": "code",
      "execution_count": 81,
      "metadata": {
        "collapsed": true,
        "id": "7MMG7L8VltnX",
        "colab": {
          "base_uri": "https://localhost:8080/"
        },
        "outputId": "e5da326b-b135-4689-8e21-cb7c68be58e6"
      },
      "outputs": [
        {
          "output_type": "execute_result",
          "data": {
            "text/plain": [
              "['Yamaha R1',\n",
              " 'Motor Diesel',\n",
              " 2015,\n",
              " 15000.0,\n",
              " False,\n",
              " ['Puños calefaccionados', 'Frenos ABS'],\n",
              " 18000.0]"
            ]
          },
          "metadata": {},
          "execution_count": 81
        }
      ],
      "source": [
        "Moto_2"
      ]
    },
    {
      "cell_type": "code",
      "execution_count": 82,
      "metadata": {
        "collapsed": true,
        "id": "7E8erLgZltnZ",
        "colab": {
          "base_uri": "https://localhost:8080/"
        },
        "outputId": "f0f573d4-885c-4017-e584-724ee2231244"
      },
      "outputs": [
        {
          "output_type": "execute_result",
          "data": {
            "text/plain": [
              "[['Kawasaki Ninja',\n",
              "  'Motor 4.0 Turbo',\n",
              "  2020,\n",
              "  12000.0,\n",
              "  False,\n",
              "  ['Cerraduras de seguridad', 'Bolsas laterales'],\n",
              "  15000.0],\n",
              " ['Yamaha R1',\n",
              "  'Motor Diesel',\n",
              "  2015,\n",
              "  15000.0,\n",
              "  False,\n",
              "  ['Puños calefaccionados', 'Frenos ABS'],\n",
              "  18000.0]]"
            ]
          },
          "metadata": {},
          "execution_count": 82
        }
      ],
      "source": [
        "Motos = [Moto_1, Moto_2]\n",
        "Motos"
      ]
    },
    {
      "cell_type": "markdown",
      "metadata": {
        "id": "5yMXJ0xdltna"
      },
      "source": [
        "## 6.2 Operaciones con listas"
      ]
    },
    {
      "cell_type": "markdown",
      "metadata": {
        "id": "YSorJOGlltna"
      },
      "source": [
        "### *x in A*\n",
        "\n",
        "Devuelve **True** si un elemento de la lista *A es igual a x*."
      ]
    },
    {
      "cell_type": "code",
      "execution_count": 83,
      "metadata": {
        "id": "GgSP_nlHltnb",
        "colab": {
          "base_uri": "https://localhost:8080/"
        },
        "outputId": "d613ed3a-04c5-417a-a9b3-6cc4372efccf"
      },
      "outputs": [
        {
          "output_type": "execute_result",
          "data": {
            "text/plain": [
              "['Cerraduras de seguridad',\n",
              " 'Bolsas laterales',\n",
              " 'Asientos personalizados',\n",
              " 'Puños calefaccionados',\n",
              " 'Espejos retrovisores deportivos',\n",
              " 'Protecciones para manos']"
            ]
          },
          "metadata": {},
          "execution_count": 83
        }
      ],
      "source": [
        "Accesorios"
      ]
    },
    {
      "cell_type": "code",
      "execution_count": 84,
      "metadata": {
        "id": "_JyyHPmWltnd",
        "colab": {
          "base_uri": "https://localhost:8080/"
        },
        "outputId": "54f2e561-5772-4580-c673-04c837d63b2a"
      },
      "outputs": [
        {
          "output_type": "execute_result",
          "data": {
            "text/plain": [
              "True"
            ]
          },
          "metadata": {},
          "execution_count": 84
        }
      ],
      "source": [
        "'Bolsas laterales' in Accesorios"
      ]
    },
    {
      "cell_type": "code",
      "execution_count": 85,
      "metadata": {
        "id": "tebg9gAyltne",
        "colab": {
          "base_uri": "https://localhost:8080/"
        },
        "outputId": "add81d95-6f14-4c00-afca-ce67e32da2f7"
      },
      "outputs": [
        {
          "output_type": "execute_result",
          "data": {
            "text/plain": [
              "False"
            ]
          },
          "metadata": {},
          "execution_count": 85
        }
      ],
      "source": [
        "'4 X 4' in Accesorios"
      ]
    },
    {
      "cell_type": "code",
      "execution_count": 86,
      "metadata": {
        "id": "W_1PKJYsltnf",
        "colab": {
          "base_uri": "https://localhost:8080/"
        },
        "outputId": "7c01c726-c711-4afe-bc08-b02c367ead6c"
      },
      "outputs": [
        {
          "output_type": "execute_result",
          "data": {
            "text/plain": [
              "False"
            ]
          },
          "metadata": {},
          "execution_count": 86
        }
      ],
      "source": [
        "'Cerraduras de seguridad' not in Accesorios"
      ]
    },
    {
      "cell_type": "code",
      "execution_count": 87,
      "metadata": {
        "id": "1WNsBXFyltng",
        "colab": {
          "base_uri": "https://localhost:8080/"
        },
        "outputId": "a3726f52-11a2-45dd-d974-266e8f7443e5"
      },
      "outputs": [
        {
          "output_type": "execute_result",
          "data": {
            "text/plain": [
              "True"
            ]
          },
          "metadata": {},
          "execution_count": 87
        }
      ],
      "source": [
        "'4 X 4' not in Accesorios"
      ]
    },
    {
      "cell_type": "markdown",
      "metadata": {
        "id": "RF6_rf90ltnh"
      },
      "source": [
        "### *A + B*\n",
        "\n",
        "Concatena las listas *A y B*."
      ]
    },
    {
      "cell_type": "code",
      "execution_count": 88,
      "metadata": {
        "id": "8lnzbYnRltnh"
      },
      "outputs": [],
      "source": [
        "A = ['Cerraduras de seguridad', 'Bolsas laterales', 'Asientos personalizados']\n",
        "B = ['Puños calefaccionados', 'Espejos retrovisores deportivos', 'Protecciones para manos']"
      ]
    },
    {
      "cell_type": "code",
      "execution_count": 89,
      "metadata": {
        "id": "SzbiHHF4ltni",
        "colab": {
          "base_uri": "https://localhost:8080/"
        },
        "outputId": "782bb6ef-cc4e-4d2d-ec80-617cbe42ae21"
      },
      "outputs": [
        {
          "output_type": "execute_result",
          "data": {
            "text/plain": [
              "['Cerraduras de seguridad',\n",
              " 'Bolsas laterales',\n",
              " 'Asientos personalizados',\n",
              " 'Puños calefaccionados',\n",
              " 'Espejos retrovisores deportivos',\n",
              " 'Protecciones para manos']"
            ]
          },
          "metadata": {},
          "execution_count": 89
        }
      ],
      "source": [
        "A + B"
      ]
    },
    {
      "cell_type": "code",
      "execution_count": 90,
      "metadata": {
        "id": "It5Cn5aXltni",
        "colab": {
          "base_uri": "https://localhost:8080/"
        },
        "outputId": "4cf2bab5-8a9b-42f3-ea0a-b6d399e78ee8"
      },
      "outputs": [
        {
          "output_type": "execute_result",
          "data": {
            "text/plain": [
              "['Cerraduras de seguridad', 'Bolsas laterales', 'Asientos personalizados']"
            ]
          },
          "metadata": {},
          "execution_count": 90
        }
      ],
      "source": [
        "A"
      ]
    },
    {
      "cell_type": "code",
      "execution_count": 91,
      "metadata": {
        "id": "l7gF4Ph5ltnj",
        "colab": {
          "base_uri": "https://localhost:8080/"
        },
        "outputId": "ba298a38-4366-451b-897a-f5c913c74d41"
      },
      "outputs": [
        {
          "output_type": "execute_result",
          "data": {
            "text/plain": [
              "['Puños calefaccionados',\n",
              " 'Espejos retrovisores deportivos',\n",
              " 'Protecciones para manos']"
            ]
          },
          "metadata": {},
          "execution_count": 91
        }
      ],
      "source": [
        "B"
      ]
    },
    {
      "cell_type": "markdown",
      "metadata": {
        "id": "iTv5t7zAltnk"
      },
      "source": [
        "### *len(A)*\n",
        "\n",
        "Tamaño de la lista A."
      ]
    },
    {
      "cell_type": "code",
      "execution_count": 92,
      "metadata": {
        "id": "dtbuCDSOltnk",
        "colab": {
          "base_uri": "https://localhost:8080/"
        },
        "outputId": "f7f0c80d-6305-4584-c381-762c7badc432"
      },
      "outputs": [
        {
          "output_type": "execute_result",
          "data": {
            "text/plain": [
              "6"
            ]
          },
          "metadata": {},
          "execution_count": 92
        }
      ],
      "source": [
        "len(Accesorios)"
      ]
    },
    {
      "cell_type": "markdown",
      "metadata": {
        "id": "k7wWCbAmltnl"
      },
      "source": [
        "## 6.3 Selecciones en listas"
      ]
    },
    {
      "cell_type": "markdown",
      "metadata": {
        "id": "uF3NmgUaltnl"
      },
      "source": [
        "### *A[ n ]*\n",
        "\n",
        "Devuelve el n-ésimo objeto de la lista *A*.\n",
        "\n",
        "<font color=red>**Observación:**</font> Listas tienen indexación con inicio en cero."
      ]
    },
    {
      "cell_type": "code",
      "execution_count": 93,
      "metadata": {
        "id": "f5ct7w1Wltnm",
        "colab": {
          "base_uri": "https://localhost:8080/"
        },
        "outputId": "e8cad3f9-f8d9-4103-feba-a6f9c02fe799"
      },
      "outputs": [
        {
          "output_type": "execute_result",
          "data": {
            "text/plain": [
              "['Cerraduras de seguridad',\n",
              " 'Bolsas laterales',\n",
              " 'Asientos personalizados',\n",
              " 'Puños calefaccionados',\n",
              " 'Espejos retrovisores deportivos',\n",
              " 'Protecciones para manos']"
            ]
          },
          "metadata": {},
          "execution_count": 93
        }
      ],
      "source": [
        "Accesorios"
      ]
    },
    {
      "cell_type": "code",
      "execution_count": 94,
      "metadata": {
        "id": "-BLG7yifltnn",
        "colab": {
          "base_uri": "https://localhost:8080/",
          "height": 35
        },
        "outputId": "3fa54a07-210a-4803-f7ed-bccc17afb2e2"
      },
      "outputs": [
        {
          "output_type": "execute_result",
          "data": {
            "text/plain": [
              "'Cerraduras de seguridad'"
            ],
            "application/vnd.google.colaboratory.intrinsic+json": {
              "type": "string"
            }
          },
          "metadata": {},
          "execution_count": 94
        }
      ],
      "source": [
        "Accesorios[0]"
      ]
    },
    {
      "cell_type": "code",
      "execution_count": 95,
      "metadata": {
        "id": "SoL6PIjJltno",
        "colab": {
          "base_uri": "https://localhost:8080/",
          "height": 35
        },
        "outputId": "73671dbf-cb4a-46d7-ab6c-e09fd7052474"
      },
      "outputs": [
        {
          "output_type": "execute_result",
          "data": {
            "text/plain": [
              "'Bolsas laterales'"
            ],
            "application/vnd.google.colaboratory.intrinsic+json": {
              "type": "string"
            }
          },
          "metadata": {},
          "execution_count": 95
        }
      ],
      "source": [
        "Accesorios[1]"
      ]
    },
    {
      "cell_type": "code",
      "execution_count": 96,
      "metadata": {
        "id": "pGMDc5FLltnq",
        "colab": {
          "base_uri": "https://localhost:8080/",
          "height": 35
        },
        "outputId": "c6509039-afd4-4444-d8a5-165e9a6d66d0"
      },
      "outputs": [
        {
          "output_type": "execute_result",
          "data": {
            "text/plain": [
              "'Protecciones para manos'"
            ],
            "application/vnd.google.colaboratory.intrinsic+json": {
              "type": "string"
            }
          },
          "metadata": {},
          "execution_count": 96
        }
      ],
      "source": [
        "Accesorios[-1]"
      ]
    },
    {
      "cell_type": "code",
      "execution_count": 97,
      "metadata": {
        "id": "m3AaFe73ltnr",
        "colab": {
          "base_uri": "https://localhost:8080/"
        },
        "outputId": "7b459e3f-b129-4f94-ad04-8c6cb6f1d461"
      },
      "outputs": [
        {
          "output_type": "execute_result",
          "data": {
            "text/plain": [
              "[['Kawasaki Ninja',\n",
              "  'Motor 4.0 Turbo',\n",
              "  2020,\n",
              "  12000.0,\n",
              "  False,\n",
              "  ['Cerraduras de seguridad', 'Bolsas laterales'],\n",
              "  15000.0],\n",
              " ['Yamaha R1',\n",
              "  'Motor Diesel',\n",
              "  2015,\n",
              "  15000.0,\n",
              "  False,\n",
              "  ['Puños calefaccionados', 'Frenos ABS'],\n",
              "  18000.0]]"
            ]
          },
          "metadata": {},
          "execution_count": 97
        }
      ],
      "source": [
        "Motos"
      ]
    },
    {
      "cell_type": "code",
      "execution_count": 98,
      "metadata": {
        "id": "AeDJviqoltns",
        "colab": {
          "base_uri": "https://localhost:8080/"
        },
        "outputId": "e5fbec52-58f3-47ee-d143-cdb3527642e7"
      },
      "outputs": [
        {
          "output_type": "execute_result",
          "data": {
            "text/plain": [
              "['Kawasaki Ninja',\n",
              " 'Motor 4.0 Turbo',\n",
              " 2020,\n",
              " 12000.0,\n",
              " False,\n",
              " ['Cerraduras de seguridad', 'Bolsas laterales'],\n",
              " 15000.0]"
            ]
          },
          "metadata": {},
          "execution_count": 98
        }
      ],
      "source": [
        "Motos[0]"
      ]
    },
    {
      "cell_type": "code",
      "execution_count": 99,
      "metadata": {
        "id": "KdenG1BZltnt",
        "colab": {
          "base_uri": "https://localhost:8080/",
          "height": 35
        },
        "outputId": "477175d2-a92e-4d56-944c-bdea8e350aef"
      },
      "outputs": [
        {
          "output_type": "execute_result",
          "data": {
            "text/plain": [
              "'Kawasaki Ninja'"
            ],
            "application/vnd.google.colaboratory.intrinsic+json": {
              "type": "string"
            }
          },
          "metadata": {},
          "execution_count": 99
        }
      ],
      "source": [
        "Motos[0][0]"
      ]
    },
    {
      "cell_type": "code",
      "execution_count": 100,
      "metadata": {
        "collapsed": true,
        "id": "iOjsfrlFltnu",
        "colab": {
          "base_uri": "https://localhost:8080/"
        },
        "outputId": "bbafeeca-088d-4736-b6d1-e9928ee49be6"
      },
      "outputs": [
        {
          "output_type": "execute_result",
          "data": {
            "text/plain": [
              "['Cerraduras de seguridad', 'Bolsas laterales']"
            ]
          },
          "metadata": {},
          "execution_count": 100
        }
      ],
      "source": [
        "Motos[0][-2]"
      ]
    },
    {
      "cell_type": "code",
      "execution_count": 101,
      "metadata": {
        "collapsed": true,
        "id": "6BrON70Zltnu",
        "colab": {
          "base_uri": "https://localhost:8080/",
          "height": 35
        },
        "outputId": "4dd626d3-230b-4ddb-8757-20034d0f7948"
      },
      "outputs": [
        {
          "output_type": "execute_result",
          "data": {
            "text/plain": [
              "'Bolsas laterales'"
            ],
            "application/vnd.google.colaboratory.intrinsic+json": {
              "type": "string"
            }
          },
          "metadata": {},
          "execution_count": 101
        }
      ],
      "source": [
        "Motos[0][-2][1]"
      ]
    },
    {
      "cell_type": "markdown",
      "metadata": {
        "id": "9WgwxPIMltnv"
      },
      "source": [
        "### *A[ i : j ]*\n",
        "\n",
        "Recorta la lista A desde el índice i hasta j. En este recorte el elemento con índice i **es incluído** y el elemento con índice j **no es incluído** en el resultado."
      ]
    },
    {
      "cell_type": "code",
      "execution_count": 102,
      "metadata": {
        "collapsed": true,
        "id": "bJzL2PMiltnv",
        "colab": {
          "base_uri": "https://localhost:8080/"
        },
        "outputId": "52c348fe-076a-4a83-8d48-30f07b8a8f32"
      },
      "outputs": [
        {
          "output_type": "execute_result",
          "data": {
            "text/plain": [
              "['Cerraduras de seguridad',\n",
              " 'Bolsas laterales',\n",
              " 'Asientos personalizados',\n",
              " 'Puños calefaccionados',\n",
              " 'Espejos retrovisores deportivos',\n",
              " 'Protecciones para manos']"
            ]
          },
          "metadata": {},
          "execution_count": 102
        }
      ],
      "source": [
        "Accesorios"
      ]
    },
    {
      "cell_type": "code",
      "execution_count": 103,
      "metadata": {
        "collapsed": true,
        "id": "sFAlJ4u_ltnw",
        "colab": {
          "base_uri": "https://localhost:8080/"
        },
        "outputId": "ca759109-7e8a-4d6a-ba5f-eee8375f63ec"
      },
      "outputs": [
        {
          "output_type": "execute_result",
          "data": {
            "text/plain": [
              "['Asientos personalizados',\n",
              " 'Puños calefaccionados',\n",
              " 'Espejos retrovisores deportivos']"
            ]
          },
          "metadata": {},
          "execution_count": 103
        }
      ],
      "source": [
        "Accesorios[2:5]"
      ]
    },
    {
      "cell_type": "code",
      "execution_count": 104,
      "metadata": {
        "collapsed": true,
        "id": "dFdTBWa9ltnz",
        "colab": {
          "base_uri": "https://localhost:8080/"
        },
        "outputId": "84ed27cd-746f-4df2-bb63-1dee3b2e22a0"
      },
      "outputs": [
        {
          "output_type": "execute_result",
          "data": {
            "text/plain": [
              "['Asientos personalizados',\n",
              " 'Puños calefaccionados',\n",
              " 'Espejos retrovisores deportivos',\n",
              " 'Protecciones para manos']"
            ]
          },
          "metadata": {},
          "execution_count": 104
        }
      ],
      "source": [
        "Accesorios[2:]"
      ]
    },
    {
      "cell_type": "code",
      "execution_count": 105,
      "metadata": {
        "collapsed": true,
        "id": "yxxB2-_Dltn0",
        "colab": {
          "base_uri": "https://localhost:8080/"
        },
        "outputId": "aaee5b7e-60d7-453f-e590-dd7aea588fb2"
      },
      "outputs": [
        {
          "output_type": "execute_result",
          "data": {
            "text/plain": [
              "['Cerraduras de seguridad',\n",
              " 'Bolsas laterales',\n",
              " 'Asientos personalizados',\n",
              " 'Puños calefaccionados',\n",
              " 'Espejos retrovisores deportivos']"
            ]
          },
          "metadata": {},
          "execution_count": 105
        }
      ],
      "source": [
        "Accesorios[:5]"
      ]
    },
    {
      "cell_type": "markdown",
      "metadata": {
        "id": "R-S-LCPGltn0"
      },
      "source": [
        "## 6.4 Métodos en listas"
      ]
    },
    {
      "cell_type": "markdown",
      "metadata": {
        "id": "j9s2OyyPltn1"
      },
      "source": [
        "### *A.sort()*\n",
        "\n",
        "Ordena la lista *A*."
      ]
    },
    {
      "cell_type": "code",
      "execution_count": 106,
      "metadata": {
        "collapsed": true,
        "id": "A2dJGhFsltn1",
        "colab": {
          "base_uri": "https://localhost:8080/"
        },
        "outputId": "80f317ee-2621-49d0-ab91-b9ce08856078"
      },
      "outputs": [
        {
          "output_type": "execute_result",
          "data": {
            "text/plain": [
              "['Cerraduras de seguridad',\n",
              " 'Bolsas laterales',\n",
              " 'Asientos personalizados',\n",
              " 'Puños calefaccionados',\n",
              " 'Espejos retrovisores deportivos',\n",
              " 'Protecciones para manos']"
            ]
          },
          "metadata": {},
          "execution_count": 106
        }
      ],
      "source": [
        "Accesorios"
      ]
    },
    {
      "cell_type": "code",
      "execution_count": 107,
      "metadata": {
        "collapsed": true,
        "id": "VDWCHlTcltn2",
        "colab": {
          "base_uri": "https://localhost:8080/"
        },
        "outputId": "e1ca2a01-2ddc-4783-98f3-7d4e7cd56fc6"
      },
      "outputs": [
        {
          "output_type": "execute_result",
          "data": {
            "text/plain": [
              "['Asientos personalizados',\n",
              " 'Bolsas laterales',\n",
              " 'Cerraduras de seguridad',\n",
              " 'Espejos retrovisores deportivos',\n",
              " 'Protecciones para manos',\n",
              " 'Puños calefaccionados']"
            ]
          },
          "metadata": {},
          "execution_count": 107
        }
      ],
      "source": [
        "Accesorios.sort()\n",
        "Accesorios"
      ]
    },
    {
      "cell_type": "markdown",
      "metadata": {
        "id": "N9Spp7-xltn3"
      },
      "source": [
        "### *A.append(x)*\n",
        "\n",
        "Añade el elemento *x al final de la lista A*"
      ]
    },
    {
      "cell_type": "code",
      "execution_count": 108,
      "metadata": {
        "collapsed": true,
        "id": "l7I_U-sRltn4",
        "colab": {
          "base_uri": "https://localhost:8080/"
        },
        "outputId": "3d1c3a5e-4790-4ccf-c4b8-ab1f1e7acddc"
      },
      "outputs": [
        {
          "output_type": "execute_result",
          "data": {
            "text/plain": [
              "['Asientos personalizados',\n",
              " 'Bolsas laterales',\n",
              " 'Cerraduras de seguridad',\n",
              " 'Espejos retrovisores deportivos',\n",
              " 'Protecciones para manos',\n",
              " 'Puños calefaccionados',\n",
              " '4 x 4']"
            ]
          },
          "metadata": {},
          "execution_count": 108
        }
      ],
      "source": [
        "Accesorios.append('4 x 4')\n",
        "Accesorios"
      ]
    },
    {
      "cell_type": "markdown",
      "metadata": {
        "id": "eiP3oACPltn6"
      },
      "source": [
        "### *A.pop(i)*\n",
        "\n",
        "Elimina y devuelve el elemento de índice i de la lista *A*.\n",
        "\n",
        "<font color=red>**Observación:**</font> Por *defecto* el método *pop()* elimina y devuelve el último elemento de una lista."
      ]
    },
    {
      "cell_type": "code",
      "execution_count": 109,
      "metadata": {
        "collapsed": true,
        "id": "BoCKa5Hqltn6",
        "colab": {
          "base_uri": "https://localhost:8080/",
          "height": 35
        },
        "outputId": "efed6f8d-39b8-4c71-e7e6-af133ddb6e13"
      },
      "outputs": [
        {
          "output_type": "execute_result",
          "data": {
            "text/plain": [
              "'4 x 4'"
            ],
            "application/vnd.google.colaboratory.intrinsic+json": {
              "type": "string"
            }
          },
          "metadata": {},
          "execution_count": 109
        }
      ],
      "source": [
        "Accesorios.pop()"
      ]
    },
    {
      "cell_type": "code",
      "execution_count": 110,
      "metadata": {
        "collapsed": true,
        "id": "GfGX1jw-ltn9",
        "colab": {
          "base_uri": "https://localhost:8080/"
        },
        "outputId": "9b92499a-de43-43e1-d9a4-7ad94e465a1e"
      },
      "outputs": [
        {
          "output_type": "execute_result",
          "data": {
            "text/plain": [
              "['Asientos personalizados',\n",
              " 'Bolsas laterales',\n",
              " 'Cerraduras de seguridad',\n",
              " 'Espejos retrovisores deportivos',\n",
              " 'Protecciones para manos',\n",
              " 'Puños calefaccionados']"
            ]
          },
          "metadata": {},
          "execution_count": 110
        }
      ],
      "source": [
        "Accesorios"
      ]
    },
    {
      "cell_type": "code",
      "execution_count": 111,
      "metadata": {
        "collapsed": true,
        "id": "tppe9tqbltn-",
        "colab": {
          "base_uri": "https://localhost:8080/",
          "height": 35
        },
        "outputId": "53055d43-83ac-40b4-ecca-19543b5f4615"
      },
      "outputs": [
        {
          "output_type": "execute_result",
          "data": {
            "text/plain": [
              "'Espejos retrovisores deportivos'"
            ],
            "application/vnd.google.colaboratory.intrinsic+json": {
              "type": "string"
            }
          },
          "metadata": {},
          "execution_count": 111
        }
      ],
      "source": [
        "Accesorios.pop(3)"
      ]
    },
    {
      "cell_type": "code",
      "execution_count": 112,
      "metadata": {
        "collapsed": true,
        "id": "Ku6ZHTdJltn_",
        "colab": {
          "base_uri": "https://localhost:8080/"
        },
        "outputId": "99668efb-dbf9-4e4c-ac4e-589365e8517b"
      },
      "outputs": [
        {
          "output_type": "execute_result",
          "data": {
            "text/plain": [
              "['Asientos personalizados',\n",
              " 'Bolsas laterales',\n",
              " 'Cerraduras de seguridad',\n",
              " 'Protecciones para manos',\n",
              " 'Puños calefaccionados']"
            ]
          },
          "metadata": {},
          "execution_count": 112
        }
      ],
      "source": [
        "Accesorios"
      ]
    },
    {
      "cell_type": "markdown",
      "metadata": {
        "id": "NySIp62hltoC"
      },
      "source": [
        "### *A.copy()*\n",
        "\n",
        "Crea una copia de la lista *A*.\n",
        "\n",
        "<font color=red>**Observación:**</font> El mismo resultado puede ser obtenido con el seguinte código:\n",
        "```\n",
        "A[:]\n",
        "```"
      ]
    },
    {
      "cell_type": "code",
      "execution_count": 113,
      "metadata": {
        "collapsed": true,
        "id": "yP9ODygcltoC",
        "colab": {
          "base_uri": "https://localhost:8080/"
        },
        "outputId": "10aaf707-dbaa-4e7c-dc9f-eced1b0aa01c"
      },
      "outputs": [
        {
          "output_type": "execute_result",
          "data": {
            "text/plain": [
              "['Asientos personalizados',\n",
              " 'Bolsas laterales',\n",
              " 'Cerraduras de seguridad',\n",
              " 'Protecciones para manos',\n",
              " 'Puños calefaccionados']"
            ]
          },
          "metadata": {},
          "execution_count": 113
        }
      ],
      "source": [
        "Accesorios_2 = Accesorios\n",
        "Accesorios_2"
      ]
    },
    {
      "cell_type": "code",
      "execution_count": 114,
      "metadata": {
        "collapsed": true,
        "id": "W3eQdVWkltoF",
        "colab": {
          "base_uri": "https://localhost:8080/"
        },
        "outputId": "4907e428-99c5-42ab-9b38-f7f71e70104a"
      },
      "outputs": [
        {
          "output_type": "execute_result",
          "data": {
            "text/plain": [
              "['Asientos personalizados',\n",
              " 'Bolsas laterales',\n",
              " 'Cerraduras de seguridad',\n",
              " 'Protecciones para manos',\n",
              " 'Puños calefaccionados',\n",
              " '4 x 4']"
            ]
          },
          "metadata": {},
          "execution_count": 114
        }
      ],
      "source": [
        "Accesorios_2.append('4 x 4')\n",
        "Accesorios_2"
      ]
    },
    {
      "cell_type": "code",
      "execution_count": 115,
      "metadata": {
        "collapsed": true,
        "id": "OVbvjjmdltoG",
        "colab": {
          "base_uri": "https://localhost:8080/"
        },
        "outputId": "14670910-82d6-4044-df7e-73b17afb07a3"
      },
      "outputs": [
        {
          "output_type": "execute_result",
          "data": {
            "text/plain": [
              "['Asientos personalizados',\n",
              " 'Bolsas laterales',\n",
              " 'Cerraduras de seguridad',\n",
              " 'Protecciones para manos',\n",
              " 'Puños calefaccionados',\n",
              " '4 x 4']"
            ]
          },
          "metadata": {},
          "execution_count": 115
        }
      ],
      "source": [
        "Accesorios"
      ]
    },
    {
      "cell_type": "code",
      "execution_count": 116,
      "metadata": {
        "collapsed": true,
        "id": "P-MN1JfAltoH",
        "colab": {
          "base_uri": "https://localhost:8080/",
          "height": 35
        },
        "outputId": "9ef0e407-edb1-4204-f86e-90dae266cf65"
      },
      "outputs": [
        {
          "output_type": "execute_result",
          "data": {
            "text/plain": [
              "'4 x 4'"
            ],
            "application/vnd.google.colaboratory.intrinsic+json": {
              "type": "string"
            }
          },
          "metadata": {},
          "execution_count": 116
        }
      ],
      "source": [
        "Accesorios.pop()"
      ]
    },
    {
      "cell_type": "code",
      "execution_count": 117,
      "metadata": {
        "collapsed": true,
        "id": "ZVQ38eqVltoJ",
        "colab": {
          "base_uri": "https://localhost:8080/"
        },
        "outputId": "6c5b8006-1ae3-4dee-a27c-b6923ee3d8c3"
      },
      "outputs": [
        {
          "output_type": "execute_result",
          "data": {
            "text/plain": [
              "['Asientos personalizados',\n",
              " 'Bolsas laterales',\n",
              " 'Cerraduras de seguridad',\n",
              " 'Protecciones para manos',\n",
              " 'Puños calefaccionados']"
            ]
          },
          "metadata": {},
          "execution_count": 117
        }
      ],
      "source": [
        "Accesorios_2"
      ]
    },
    {
      "cell_type": "code",
      "execution_count": 118,
      "metadata": {
        "collapsed": true,
        "id": "bqPiw5wSltoM",
        "colab": {
          "base_uri": "https://localhost:8080/"
        },
        "outputId": "b9f99a57-5697-403d-e967-706b112ea038"
      },
      "outputs": [
        {
          "output_type": "execute_result",
          "data": {
            "text/plain": [
              "['Asientos personalizados',\n",
              " 'Bolsas laterales',\n",
              " 'Cerraduras de seguridad',\n",
              " 'Protecciones para manos',\n",
              " 'Puños calefaccionados']"
            ]
          },
          "metadata": {},
          "execution_count": 118
        }
      ],
      "source": [
        "Accesorios_2 = Accesorios.copy()\n",
        "Accesorios_2"
      ]
    },
    {
      "cell_type": "code",
      "execution_count": 119,
      "metadata": {
        "collapsed": true,
        "id": "Lo9WgzF6ltoP",
        "colab": {
          "base_uri": "https://localhost:8080/"
        },
        "outputId": "07af209f-f8cb-473a-ec7d-985e8d6b5bf8"
      },
      "outputs": [
        {
          "output_type": "execute_result",
          "data": {
            "text/plain": [
              "['Asientos personalizados',\n",
              " 'Bolsas laterales',\n",
              " 'Cerraduras de seguridad',\n",
              " 'Protecciones para manos',\n",
              " 'Puños calefaccionados',\n",
              " '4 x 4']"
            ]
          },
          "metadata": {},
          "execution_count": 119
        }
      ],
      "source": [
        "Accesorios_2.append('4 x 4')\n",
        "Accesorios_2"
      ]
    },
    {
      "cell_type": "code",
      "execution_count": 120,
      "metadata": {
        "collapsed": true,
        "id": "r2LPHB34ltoQ",
        "colab": {
          "base_uri": "https://localhost:8080/"
        },
        "outputId": "f04a7ae9-a8d0-4889-f436-778d2b19ef98"
      },
      "outputs": [
        {
          "output_type": "execute_result",
          "data": {
            "text/plain": [
              "['Asientos personalizados',\n",
              " 'Bolsas laterales',\n",
              " 'Cerraduras de seguridad',\n",
              " 'Protecciones para manos',\n",
              " 'Puños calefaccionados']"
            ]
          },
          "metadata": {},
          "execution_count": 120
        }
      ],
      "source": [
        "Accesorios"
      ]
    },
    {
      "cell_type": "code",
      "execution_count": 121,
      "metadata": {
        "collapsed": true,
        "id": "UQqUkO8YltoR",
        "colab": {
          "base_uri": "https://localhost:8080/"
        },
        "outputId": "66ff2b11-a554-42ed-8efb-88bce66efe75"
      },
      "outputs": [
        {
          "output_type": "execute_result",
          "data": {
            "text/plain": [
              "['Asientos personalizados',\n",
              " 'Bolsas laterales',\n",
              " 'Cerraduras de seguridad',\n",
              " 'Protecciones para manos',\n",
              " 'Puños calefaccionados']"
            ]
          },
          "metadata": {},
          "execution_count": 121
        }
      ],
      "source": [
        "Accesorios_2 = Accesorios[:]\n",
        "Accesorios_2"
      ]
    },
    {
      "cell_type": "markdown",
      "source": [
        "#**Paso 7: Estructuras de repetición y condicionales**"
      ],
      "metadata": {
        "id": "p12Gbz1Tt3OY"
      }
    },
    {
      "cell_type": "markdown",
      "metadata": {
        "id": "gxUmCLyJltoU"
      },
      "source": [
        "## 7.1 Instrucción *for*\n",
        "\n",
        "#### Formato estándar\n",
        "\n",
        "```\n",
        "for <variable> in <coleccion>:\n",
        "    <instrucciones>\n",
        "```"
      ]
    },
    {
      "cell_type": "markdown",
      "metadata": {
        "id": "Irl5oa0altoU"
      },
      "source": [
        "### Loops con listas"
      ]
    },
    {
      "cell_type": "code",
      "execution_count": 122,
      "metadata": {
        "collapsed": true,
        "id": "E1LZ5n25ltoV",
        "colab": {
          "base_uri": "https://localhost:8080/"
        },
        "outputId": "be61f054-7f9f-4342-b422-b774239b89df"
      },
      "outputs": [
        {
          "output_type": "execute_result",
          "data": {
            "text/plain": [
              "['Cerraduras de seguridad',\n",
              " 'Bolsas laterales',\n",
              " 'Asientos personalizados',\n",
              " 'Puños calefaccionados',\n",
              " 'Espejos retrovisores deportivos',\n",
              " 'Protecciones para manos']"
            ]
          },
          "metadata": {},
          "execution_count": 122
        }
      ],
      "source": [
        "Accesorios = ['Cerraduras de seguridad', 'Bolsas laterales', 'Asientos personalizados', 'Puños calefaccionados', 'Espejos retrovisores deportivos', 'Protecciones para manos']\n",
        "Accesorios"
      ]
    },
    {
      "cell_type": "code",
      "execution_count": 123,
      "metadata": {
        "collapsed": true,
        "id": "Z459QqsFltoY",
        "colab": {
          "base_uri": "https://localhost:8080/"
        },
        "outputId": "10fb349b-77be-4f0e-fdba-5e4f98fa9f3f"
      },
      "outputs": [
        {
          "output_type": "stream",
          "name": "stdout",
          "text": [
            "Cerraduras de seguridad\n",
            "Bolsas laterales\n",
            "Asientos personalizados\n",
            "Puños calefaccionados\n",
            "Espejos retrovisores deportivos\n",
            "Protecciones para manos\n"
          ]
        }
      ],
      "source": [
        "for item in Accesorios:\n",
        "  print(item)"
      ]
    },
    {
      "cell_type": "markdown",
      "metadata": {
        "id": "Gbztj9T4ltoZ"
      },
      "source": [
        "###  List comprehensions"
      ]
    },
    {
      "cell_type": "code",
      "execution_count": 124,
      "metadata": {
        "collapsed": true,
        "id": "xDo9TLdYltoZ",
        "colab": {
          "base_uri": "https://localhost:8080/"
        },
        "outputId": "01e2b762-7961-44a4-846e-e697259ad093"
      },
      "outputs": [
        {
          "output_type": "execute_result",
          "data": {
            "text/plain": [
              "range(0, 10)"
            ]
          },
          "metadata": {},
          "execution_count": 124
        }
      ],
      "source": [
        "range(10)"
      ]
    },
    {
      "cell_type": "code",
      "execution_count": 125,
      "metadata": {
        "collapsed": true,
        "id": "V12p_CQBltoc",
        "colab": {
          "base_uri": "https://localhost:8080/"
        },
        "outputId": "e343e513-b92a-48a0-8036-7fda6057d65c"
      },
      "outputs": [
        {
          "output_type": "execute_result",
          "data": {
            "text/plain": [
              "[0, 1, 2, 3, 4, 5, 6, 7, 8, 9]"
            ]
          },
          "metadata": {},
          "execution_count": 125
        }
      ],
      "source": [
        "list(range(10))"
      ]
    },
    {
      "cell_type": "code",
      "execution_count": 126,
      "metadata": {
        "collapsed": true,
        "id": "OOzHHRWHltof",
        "colab": {
          "base_uri": "https://localhost:8080/"
        },
        "outputId": "3760c6d5-fc17-4636-aee2-4f1508939672"
      },
      "outputs": [
        {
          "output_type": "stream",
          "name": "stdout",
          "text": [
            "0\n",
            "1\n",
            "4\n",
            "9\n",
            "16\n",
            "25\n",
            "36\n",
            "49\n",
            "64\n",
            "81\n"
          ]
        }
      ],
      "source": [
        "for i in range(10):\n",
        "  print(i ** 2)"
      ]
    },
    {
      "cell_type": "code",
      "execution_count": 127,
      "metadata": {
        "collapsed": true,
        "id": "TKynwnxgltog",
        "colab": {
          "base_uri": "https://localhost:8080/"
        },
        "outputId": "2af70542-c20d-493c-d63e-35bfdc4d09c4"
      },
      "outputs": [
        {
          "output_type": "execute_result",
          "data": {
            "text/plain": [
              "[0, 1, 4, 9, 16, 25, 36, 49, 64, 81]"
            ]
          },
          "metadata": {},
          "execution_count": 127
        }
      ],
      "source": [
        "cuadrado=[]\n",
        "for i in range(10):\n",
        "  cuadrado.append(i**2)\n",
        "\n",
        "cuadrado"
      ]
    },
    {
      "cell_type": "code",
      "execution_count": 128,
      "metadata": {
        "id": "d77YH_dVltoh"
      },
      "outputs": [],
      "source": [
        "cuadrado=[i**2 for i in range(10)]"
      ]
    },
    {
      "cell_type": "code",
      "execution_count": 129,
      "metadata": {
        "collapsed": true,
        "id": "3OmElLO2ltoi",
        "colab": {
          "base_uri": "https://localhost:8080/"
        },
        "outputId": "a805b21c-6ad5-430d-d065-cede1ab40cc7"
      },
      "outputs": [
        {
          "output_type": "execute_result",
          "data": {
            "text/plain": [
              "[0, 1, 4, 9, 16, 25, 36, 49, 64, 81]"
            ]
          },
          "metadata": {},
          "execution_count": 129
        }
      ],
      "source": [
        "cuadrado"
      ]
    },
    {
      "cell_type": "markdown",
      "metadata": {
        "id": "AcAcaKFXltom"
      },
      "source": [
        "## 7.2 Loops anidados"
      ]
    },
    {
      "cell_type": "code",
      "execution_count": 130,
      "metadata": {
        "collapsed": true,
        "id": "mjgJCo3dlton",
        "colab": {
          "base_uri": "https://localhost:8080/"
        },
        "outputId": "fd842350-7560-4da7-f27a-e6f1ce21f2b6"
      },
      "outputs": [
        {
          "output_type": "execute_result",
          "data": {
            "text/plain": [
              "[['Llantas de aleación',\n",
              "  'Cerraduras de seguridad',\n",
              "  'Bolsas laterales',\n",
              "  'Asientos personalizados',\n",
              "  'Puños calefaccionados',\n",
              "  'Espejos retrovisores deportivos',\n",
              "  'Protecciones para manos',\n",
              "  'Iluminación LED'],\n",
              " ['Sistema de navegación',\n",
              "  'Techo desmontable',\n",
              "  'Frenos ABS',\n",
              "  'Bolsas laterales',\n",
              "  'Panel digital',\n",
              "  'Puños calefaccionados',\n",
              "  'Asientos ergonómicos',\n",
              "  'Cámara de reversa'],\n",
              " ['Cerraduras de seguridad',\n",
              "  'Iluminación adaptativa',\n",
              "  'Frenos de disco',\n",
              "  'Transmisión automática',\n",
              "  'Asientos de cuero',\n",
              "  'Sistema de audio',\n",
              "  'Ventanas de seguridad']]"
            ]
          },
          "metadata": {},
          "execution_count": 130
        }
      ],
      "source": [
        "datos = [\n",
        "    ['Llantas de aleación', 'Cerraduras de seguridad', 'Bolsas laterales', 'Asientos personalizados', 'Puños calefaccionados', 'Espejos retrovisores deportivos', 'Protecciones para manos', 'Iluminación LED'],\n",
        "    ['Sistema de navegación', 'Techo desmontable', 'Frenos ABS', 'Bolsas laterales', 'Panel digital', 'Puños calefaccionados', 'Asientos ergonómicos', 'Cámara de reversa'],\n",
        "    ['Cerraduras de seguridad', 'Iluminación adaptativa', 'Frenos de disco', 'Transmisión automática', 'Asientos de cuero', 'Sistema de audio', 'Ventanas de seguridad']\n",
        "]\n",
        "datos"
      ]
    },
    {
      "cell_type": "code",
      "execution_count": 133,
      "metadata": {
        "collapsed": true,
        "id": "pLgxwApVltop",
        "colab": {
          "base_uri": "https://localhost:8080/"
        },
        "outputId": "b3e58798-2dc6-47c7-c994-d2d10147d19e"
      },
      "outputs": [
        {
          "output_type": "stream",
          "name": "stdout",
          "text": [
            "['Llantas de aleación', 'Cerraduras de seguridad', 'Bolsas laterales', 'Asientos personalizados', 'Puños calefaccionados', 'Espejos retrovisores deportivos', 'Protecciones para manos', 'Iluminación LED']\n",
            "['Sistema de navegación', 'Techo desmontable', 'Frenos ABS', 'Bolsas laterales', 'Panel digital', 'Puños calefaccionados', 'Asientos ergonómicos', 'Cámara de reversa']\n",
            "['Cerraduras de seguridad', 'Iluminación adaptativa', 'Frenos de disco', 'Transmisión automática', 'Asientos de cuero', 'Sistema de audio', 'Ventanas de seguridad']\n"
          ]
        }
      ],
      "source": [
        "for lista in datos:\n",
        "  print(lista)"
      ]
    },
    {
      "cell_type": "code",
      "execution_count": 134,
      "metadata": {
        "collapsed": true,
        "id": "OYnDRvcYltor",
        "colab": {
          "base_uri": "https://localhost:8080/"
        },
        "outputId": "d36d6450-13eb-4f0a-e45f-8a808edda187"
      },
      "outputs": [
        {
          "output_type": "stream",
          "name": "stdout",
          "text": [
            "Llantas de aleación\n",
            "Cerraduras de seguridad\n",
            "Bolsas laterales\n",
            "Asientos personalizados\n",
            "Puños calefaccionados\n",
            "Espejos retrovisores deportivos\n",
            "Protecciones para manos\n",
            "Iluminación LED\n",
            "Sistema de navegación\n",
            "Techo desmontable\n",
            "Frenos ABS\n",
            "Bolsas laterales\n",
            "Panel digital\n",
            "Puños calefaccionados\n",
            "Asientos ergonómicos\n",
            "Cámara de reversa\n",
            "Cerraduras de seguridad\n",
            "Iluminación adaptativa\n",
            "Frenos de disco\n",
            "Transmisión automática\n",
            "Asientos de cuero\n",
            "Sistema de audio\n",
            "Ventanas de seguridad\n"
          ]
        }
      ],
      "source": [
        "for lista in datos:\n",
        "  for item in lista:\n",
        "    print(item)"
      ]
    },
    {
      "cell_type": "code",
      "execution_count": 135,
      "metadata": {
        "collapsed": true,
        "id": "DbJa5_cJltos",
        "colab": {
          "base_uri": "https://localhost:8080/"
        },
        "outputId": "1a4037b1-2f39-4bb4-ea7e-45091dd46b20"
      },
      "outputs": [
        {
          "output_type": "execute_result",
          "data": {
            "text/plain": [
              "['Llantas de aleación',\n",
              " 'Cerraduras de seguridad',\n",
              " 'Bolsas laterales',\n",
              " 'Asientos personalizados',\n",
              " 'Puños calefaccionados',\n",
              " 'Espejos retrovisores deportivos',\n",
              " 'Protecciones para manos',\n",
              " 'Iluminación LED',\n",
              " 'Sistema de navegación',\n",
              " 'Techo desmontable',\n",
              " 'Frenos ABS',\n",
              " 'Bolsas laterales',\n",
              " 'Panel digital',\n",
              " 'Puños calefaccionados',\n",
              " 'Asientos ergonómicos',\n",
              " 'Cámara de reversa',\n",
              " 'Cerraduras de seguridad',\n",
              " 'Iluminación adaptativa',\n",
              " 'Frenos de disco',\n",
              " 'Transmisión automática',\n",
              " 'Asientos de cuero',\n",
              " 'Sistema de audio',\n",
              " 'Ventanas de seguridad']"
            ]
          },
          "metadata": {},
          "execution_count": 135
        }
      ],
      "source": [
        "Accesorios = []\n",
        "\n",
        "for lista in datos:\n",
        "  for item in lista:\n",
        "    Accesorios.append(item)\n",
        "\n",
        "Accesorios"
      ]
    },
    {
      "cell_type": "markdown",
      "metadata": {
        "id": "RrGAOy1rn1Dj"
      },
      "source": [
        "### *set()*"
      ]
    },
    {
      "cell_type": "code",
      "execution_count": 136,
      "metadata": {
        "collapsed": true,
        "id": "CuB-9ClSltos",
        "colab": {
          "base_uri": "https://localhost:8080/"
        },
        "outputId": "e7a136e7-9c52-421f-bb9e-cd77754b3819"
      },
      "outputs": [
        {
          "output_type": "execute_result",
          "data": {
            "text/plain": [
              "{'Asientos de cuero',\n",
              " 'Asientos ergonómicos',\n",
              " 'Asientos personalizados',\n",
              " 'Bolsas laterales',\n",
              " 'Cerraduras de seguridad',\n",
              " 'Cámara de reversa',\n",
              " 'Espejos retrovisores deportivos',\n",
              " 'Frenos ABS',\n",
              " 'Frenos de disco',\n",
              " 'Iluminación LED',\n",
              " 'Iluminación adaptativa',\n",
              " 'Llantas de aleación',\n",
              " 'Panel digital',\n",
              " 'Protecciones para manos',\n",
              " 'Puños calefaccionados',\n",
              " 'Sistema de audio',\n",
              " 'Sistema de navegación',\n",
              " 'Techo desmontable',\n",
              " 'Transmisión automática',\n",
              " 'Ventanas de seguridad'}"
            ]
          },
          "metadata": {},
          "execution_count": 136
        }
      ],
      "source": [
        "set(Accesorios)"
      ]
    },
    {
      "cell_type": "code",
      "execution_count": 137,
      "metadata": {
        "collapsed": true,
        "id": "UBLuCwk_tykS",
        "colab": {
          "base_uri": "https://localhost:8080/"
        },
        "outputId": "6e190625-4401-44e1-c933-c63594c0479a"
      },
      "outputs": [
        {
          "output_type": "execute_result",
          "data": {
            "text/plain": [
              "['Frenos de disco',\n",
              " 'Iluminación adaptativa',\n",
              " 'Sistema de audio',\n",
              " 'Asientos ergonómicos',\n",
              " 'Sistema de navegación',\n",
              " 'Iluminación LED',\n",
              " 'Ventanas de seguridad',\n",
              " 'Llantas de aleación',\n",
              " 'Puños calefaccionados',\n",
              " 'Asientos personalizados',\n",
              " 'Protecciones para manos',\n",
              " 'Panel digital',\n",
              " 'Cámara de reversa',\n",
              " 'Asientos de cuero',\n",
              " 'Bolsas laterales',\n",
              " 'Techo desmontable',\n",
              " 'Transmisión automática',\n",
              " 'Frenos ABS',\n",
              " 'Espejos retrovisores deportivos',\n",
              " 'Cerraduras de seguridad']"
            ]
          },
          "metadata": {},
          "execution_count": 137
        }
      ],
      "source": [
        "list(set(Accesorios))"
      ]
    },
    {
      "cell_type": "markdown",
      "metadata": {
        "id": "9hHKKABhltot"
      },
      "source": [
        "### List comprehensions"
      ]
    },
    {
      "cell_type": "code",
      "execution_count": 142,
      "metadata": {
        "id": "T6t79LTlltot"
      },
      "outputs": [],
      "source": [
        "Accesorios = list(set([item for lista in datos for item in lista]))"
      ]
    },
    {
      "cell_type": "code",
      "execution_count": 143,
      "metadata": {
        "collapsed": true,
        "id": "pW9fF8HPtykT",
        "colab": {
          "base_uri": "https://localhost:8080/"
        },
        "outputId": "f976785d-75cc-4244-ef5f-02bcd8aa36f6"
      },
      "outputs": [
        {
          "output_type": "execute_result",
          "data": {
            "text/plain": [
              "['Frenos de disco',\n",
              " 'Iluminación adaptativa',\n",
              " 'Sistema de audio',\n",
              " 'Asientos ergonómicos',\n",
              " 'Sistema de navegación',\n",
              " 'Iluminación LED',\n",
              " 'Ventanas de seguridad',\n",
              " 'Llantas de aleación',\n",
              " 'Puños calefaccionados',\n",
              " 'Asientos personalizados',\n",
              " 'Protecciones para manos',\n",
              " 'Panel digital',\n",
              " 'Cámara de reversa',\n",
              " 'Asientos de cuero',\n",
              " 'Bolsas laterales',\n",
              " 'Techo desmontable',\n",
              " 'Transmisión automática',\n",
              " 'Frenos ABS',\n",
              " 'Espejos retrovisores deportivos',\n",
              " 'Cerraduras de seguridad']"
            ]
          },
          "metadata": {},
          "execution_count": 143
        }
      ],
      "source": [
        "Accesorios"
      ]
    },
    {
      "cell_type": "markdown",
      "metadata": {
        "id": "cJ4fPdj5ltou"
      },
      "source": [
        "## 7.3 Instrucción *if*\n",
        "\n",
        "#### Formato estándar\n",
        "\n",
        "```\n",
        "if <condicion>:\n",
        "     <instrucciones en caso la condición sea verdadera>\n",
        "```"
      ]
    },
    {
      "cell_type": "markdown",
      "metadata": {
        "id": "bqOYDJiWltou"
      },
      "source": [
        "### Operadores de comparación: $==$, $!=$, $>$, $<$, $>=$, $<=$\n",
        "### y\n",
        "### Operadores lógicos: $and$, $or$, $not$"
      ]
    },
    {
      "cell_type": "code",
      "execution_count": 144,
      "metadata": {
        "collapsed": true,
        "id": "5eY_XPmrltov",
        "colab": {
          "base_uri": "https://localhost:8080/"
        },
        "outputId": "ea24908e-9975-4c73-da4b-996e536679a7"
      },
      "outputs": [
        {
          "output_type": "execute_result",
          "data": {
            "text/plain": [
              "[['Kawasaki Ninja', 2020, True],\n",
              " ['Yamaha R1', 2018, False],\n",
              " ['Suzuki GSX-R1000', 2019, True],\n",
              " ['Ducati Panigale V4', 2021, True],\n",
              " ['Honda CBR600RR', 2016, False],\n",
              " ['KTM 390 Duke', 2019, True],\n",
              " ['BMW S1000RR', 2020, True],\n",
              " ['Triumph Street Triple', 2015, False],\n",
              " ['Harley-Davidson Sportster', 2017, False],\n",
              " ['Honda CB500F', 2018, True]]"
            ]
          },
          "metadata": {},
          "execution_count": 144
        }
      ],
      "source": [
        "# 1º objeto de la lista - Nombre de la moto\n",
        "# 2º objeto de la lista - Año de fabricación\n",
        "# 3º objeto de la lista - Vehículo es nuevo (cero km)?\n",
        "\n",
        "datos = [\n",
        "    ['Kawasaki Ninja', 2020, True],\n",
        "    ['Yamaha R1', 2018, False],\n",
        "    ['Suzuki GSX-R1000', 2019, True],\n",
        "    ['Ducati Panigale V4', 2021, True],\n",
        "    ['Honda CBR600RR', 2016, False],\n",
        "    ['KTM 390 Duke', 2019, True],\n",
        "    ['BMW S1000RR', 2020, True],\n",
        "    ['Triumph Street Triple', 2015, False],\n",
        "    ['Harley-Davidson Sportster', 2017, False],\n",
        "    ['Honda CB500F', 2018, True]\n",
        "]\n",
        "datos"
      ]
    },
    {
      "cell_type": "code",
      "execution_count": 145,
      "metadata": {
        "collapsed": true,
        "id": "nyb0iDH1ltoy",
        "colab": {
          "base_uri": "https://localhost:8080/"
        },
        "outputId": "4c67c277-72dc-4c77-ff7d-dcbd47818f9e"
      },
      "outputs": [
        {
          "output_type": "execute_result",
          "data": {
            "text/plain": [
              "[['Kawasaki Ninja', 2020, True],\n",
              " ['Suzuki GSX-R1000', 2019, True],\n",
              " ['Ducati Panigale V4', 2021, True],\n",
              " ['KTM 390 Duke', 2019, True],\n",
              " ['BMW S1000RR', 2020, True],\n",
              " ['Honda CB500F', 2018, True]]"
            ]
          },
          "metadata": {},
          "execution_count": 145
        }
      ],
      "source": [
        "cero_km_T = []\n",
        "\n",
        "for lista in datos:\n",
        "  if lista[2]==True:\n",
        "    cero_km_T.append(lista)\n",
        "\n",
        "cero_km_T"
      ]
    },
    {
      "cell_type": "code",
      "execution_count": 147,
      "metadata": {
        "collapsed": true,
        "id": "5MlITJppltoy",
        "colab": {
          "base_uri": "https://localhost:8080/"
        },
        "outputId": "873e69a5-2b18-4222-8d38-414a5deb1b77"
      },
      "outputs": [
        {
          "output_type": "execute_result",
          "data": {
            "text/plain": [
              "[['Yamaha R1', 2018, False],\n",
              " ['Honda CBR600RR', 2016, False],\n",
              " ['Triumph Street Triple', 2015, False],\n",
              " ['Harley-Davidson Sportster', 2017, False]]"
            ]
          },
          "metadata": {},
          "execution_count": 147
        }
      ],
      "source": [
        "cero_km_F = []\n",
        "\n",
        "for lista in datos:\n",
        "  if lista[2]!=True:\n",
        "    cero_km_F.append(lista)\n",
        "\n",
        "cero_km_F"
      ]
    },
    {
      "cell_type": "markdown",
      "metadata": {
        "id": "51Js0kXD0aRH"
      },
      "source": [
        "### List comprehensions"
      ]
    },
    {
      "cell_type": "code",
      "execution_count": 148,
      "metadata": {
        "collapsed": true,
        "id": "Ly4QUX5J0aRI",
        "colab": {
          "base_uri": "https://localhost:8080/"
        },
        "outputId": "168b68e8-76c5-4f8d-8462-63e14bd7df13"
      },
      "outputs": [
        {
          "output_type": "execute_result",
          "data": {
            "text/plain": [
              "[['Kawasaki Ninja', 2020, True],\n",
              " ['Suzuki GSX-R1000', 2019, True],\n",
              " ['Ducati Panigale V4', 2021, True],\n",
              " ['KTM 390 Duke', 2019, True],\n",
              " ['BMW S1000RR', 2020, True],\n",
              " ['Honda CB500F', 2018, True]]"
            ]
          },
          "metadata": {},
          "execution_count": 148
        }
      ],
      "source": [
        "cero_km_T = [lista for lista in datos if lista[2]==True]\n",
        "cero_km_T"
      ]
    },
    {
      "cell_type": "markdown",
      "metadata": {
        "id": "CKjrvO5Tltoz"
      },
      "source": [
        "## 7.4 Instrucciones *if-else* y *if-elif-else*\n",
        "\n",
        "#### Formato estándar\n",
        "\n",
        "```\n",
        "if <condicion>:\n",
        "    <instrucciones en caso la condición sea verdadera>\n",
        "else:\n",
        "    <instrucciones en caso la condición no sea verdadera>\n",
        "```"
      ]
    },
    {
      "cell_type": "code",
      "execution_count": 150,
      "metadata": {
        "id": "K_VORb47ltoz"
      },
      "outputs": [],
      "source": [
        "cero_km_T, cero_km_F = [], []\n",
        "\n",
        "for lista in datos:\n",
        "  if(lista[2] == True):\n",
        "    cero_km_T.append(lista)\n",
        "  else:\n",
        "    cero_km_F.append(lista)"
      ]
    },
    {
      "cell_type": "code",
      "execution_count": 151,
      "metadata": {
        "collapsed": true,
        "id": "vhz5T7jDlto1",
        "colab": {
          "base_uri": "https://localhost:8080/"
        },
        "outputId": "994378e5-0816-49a4-e261-a6eef5056ede"
      },
      "outputs": [
        {
          "output_type": "execute_result",
          "data": {
            "text/plain": [
              "[['Kawasaki Ninja', 2020, True],\n",
              " ['Suzuki GSX-R1000', 2019, True],\n",
              " ['Ducati Panigale V4', 2021, True],\n",
              " ['KTM 390 Duke', 2019, True],\n",
              " ['BMW S1000RR', 2020, True],\n",
              " ['Honda CB500F', 2018, True]]"
            ]
          },
          "metadata": {},
          "execution_count": 151
        }
      ],
      "source": [
        "cero_km_T"
      ]
    },
    {
      "cell_type": "code",
      "execution_count": 152,
      "metadata": {
        "collapsed": true,
        "id": "XlvlpPjhlto1",
        "colab": {
          "base_uri": "https://localhost:8080/"
        },
        "outputId": "623900d5-7062-4cbc-b6dd-514a2f6a0308"
      },
      "outputs": [
        {
          "output_type": "execute_result",
          "data": {
            "text/plain": [
              "[['Yamaha R1', 2018, False],\n",
              " ['Honda CBR600RR', 2016, False],\n",
              " ['Triumph Street Triple', 2015, False],\n",
              " ['Harley-Davidson Sportster', 2017, False]]"
            ]
          },
          "metadata": {},
          "execution_count": 152
        }
      ],
      "source": [
        "cero_km_F"
      ]
    },
    {
      "cell_type": "markdown",
      "metadata": {
        "id": "Z2-8WeN1lto2"
      },
      "source": [
        "#### Formato estándar\n",
        "\n",
        "```\n",
        "if <condicion 1>:\n",
        "    <instrucciones en caso la condición 1 sea verdadera>\n",
        "elif <condicion 2>:\n",
        "    <instrucciones en caso la condición 2 sea verdadera>\n",
        "elif <condicion 3>:\n",
        "    <instrucciones en caso la condición 3 sea verdadera>\n",
        "                        .\n",
        "                        .\n",
        "                        .\n",
        "else:\n",
        "    <instrucciones en caso las condiciones anteriores no sean verdaderas>\n",
        "```"
      ]
    },
    {
      "cell_type": "code",
      "execution_count": 153,
      "metadata": {
        "id": "KJgRc1F9lto3",
        "colab": {
          "base_uri": "https://localhost:8080/"
        },
        "outputId": "5f4142eb-cdc7-4eea-d6bd-66740b2cda02"
      },
      "outputs": [
        {
          "output_type": "stream",
          "name": "stdout",
          "text": [
            "AND\n",
            "(True and True) el resultado es: True\n",
            "(True and False) el resultado es: False\n",
            "(False and True) el resultado es: False\n",
            "(False and False) el resultado es: False\n"
          ]
        }
      ],
      "source": [
        "print('AND')\n",
        "print(f'(True and True) el resultado es: {True and True}')\n",
        "print(f'(True and False) el resultado es: {True and False}')\n",
        "print(f'(False and True) el resultado es: {False and True}')\n",
        "print(f'(False and False) el resultado es: {False and False}')"
      ]
    },
    {
      "cell_type": "code",
      "execution_count": 154,
      "metadata": {
        "id": "sb0mSh-o0aRM",
        "colab": {
          "base_uri": "https://localhost:8080/"
        },
        "outputId": "507806e4-458d-427a-870f-fd48d177bada"
      },
      "outputs": [
        {
          "output_type": "stream",
          "name": "stdout",
          "text": [
            "OR\n",
            "(True or True) el resultado es: True\n",
            "(True or False) el resultado es: True\n",
            "(False or True) el resultado es: True\n",
            "(False or False) el resultado es: False\n"
          ]
        }
      ],
      "source": [
        "print('OR')\n",
        "print(f'(True or True) el resultado es: {True or True}')\n",
        "print(f'(True or False) el resultado es: {True or False}')\n",
        "print(f'(False or True) el resultado es: {False or True}')\n",
        "print(f'(False or False) el resultado es: {False or False}')"
      ]
    },
    {
      "cell_type": "code",
      "source": [
        "datos"
      ],
      "metadata": {
        "colab": {
          "base_uri": "https://localhost:8080/"
        },
        "id": "Dp8UzccW2Pba",
        "outputId": "ca627d76-178c-4237-8685-29501e6c7ed2"
      },
      "execution_count": 149,
      "outputs": [
        {
          "output_type": "execute_result",
          "data": {
            "text/plain": [
              "[['Kawasaki Ninja', 2020, True],\n",
              " ['Yamaha R1', 2018, False],\n",
              " ['Suzuki GSX-R1000', 2019, True],\n",
              " ['Ducati Panigale V4', 2021, True],\n",
              " ['Honda CBR600RR', 2016, False],\n",
              " ['KTM 390 Duke', 2019, True],\n",
              " ['BMW S1000RR', 2020, True],\n",
              " ['Triumph Street Triple', 2015, False],\n",
              " ['Harley-Davidson Sportster', 2017, False],\n",
              " ['Honda CB500F', 2018, True]]"
            ]
          },
          "metadata": {},
          "execution_count": 149
        }
      ]
    },
    {
      "cell_type": "code",
      "execution_count": 155,
      "metadata": {
        "id": "AfNdTPzElto3"
      },
      "outputs": [],
      "source": [
        "A, B, C = [],[],[]\n",
        "\n",
        "for lista in datos:\n",
        "  if (lista[1] <= 2018):\n",
        "    A.append(lista)\n",
        "  elif (lista[1] > 2018 and lista[1] <= 2020):\n",
        "    B.append(lista)\n",
        "  else:\n",
        "    C.append(lista)"
      ]
    },
    {
      "cell_type": "code",
      "execution_count": 160,
      "metadata": {
        "collapsed": true,
        "id": "5bN7SuvTlto4",
        "colab": {
          "base_uri": "https://localhost:8080/"
        },
        "outputId": "120e181e-980c-4716-e6b5-ff3cd522a6d5"
      },
      "outputs": [
        {
          "output_type": "execute_result",
          "data": {
            "text/plain": [
              "[['Yamaha R1', 2018, False],\n",
              " ['Honda CBR600RR', 2016, False],\n",
              " ['Triumph Street Triple', 2015, False],\n",
              " ['Harley-Davidson Sportster', 2017, False],\n",
              " ['Honda CB500F', 2018, True]]"
            ]
          },
          "metadata": {},
          "execution_count": 160
        }
      ],
      "source": [
        "A"
      ]
    },
    {
      "cell_type": "code",
      "execution_count": 161,
      "metadata": {
        "collapsed": true,
        "id": "dDEl3Vfglto4",
        "colab": {
          "base_uri": "https://localhost:8080/"
        },
        "outputId": "474d18a6-d6d8-41be-ac6c-23b8fefc6cda"
      },
      "outputs": [
        {
          "output_type": "execute_result",
          "data": {
            "text/plain": [
              "[['Kawasaki Ninja', 2020, True],\n",
              " ['Suzuki GSX-R1000', 2019, True],\n",
              " ['KTM 390 Duke', 2019, True],\n",
              " ['BMW S1000RR', 2020, True]]"
            ]
          },
          "metadata": {},
          "execution_count": 161
        }
      ],
      "source": [
        "B"
      ]
    },
    {
      "cell_type": "code",
      "execution_count": 162,
      "metadata": {
        "collapsed": true,
        "id": "Ot4HLQlelto5",
        "colab": {
          "base_uri": "https://localhost:8080/"
        },
        "outputId": "dc861eac-8939-4525-b4a2-89bcfac806ca"
      },
      "outputs": [
        {
          "output_type": "execute_result",
          "data": {
            "text/plain": [
              "[['Ducati Panigale V4', 2021, True]]"
            ]
          },
          "metadata": {},
          "execution_count": 162
        }
      ],
      "source": [
        "C"
      ]
    },
    {
      "cell_type": "code",
      "execution_count": 159,
      "metadata": {
        "id": "FN26ZBKJlto5"
      },
      "outputs": [],
      "source": [
        "A, B, C = [],[],[]\n",
        "\n",
        "for lista in datos:\n",
        "  if (lista[1] <= 2018):\n",
        "    A.append(lista)\n",
        "  elif (2018 < lista[1] <= 2020):\n",
        "    B.append(lista)\n",
        "  else:\n",
        "    C.append(lista)"
      ]
    },
    {
      "cell_type": "markdown",
      "source": [
        "[<div align=\"left\">\n",
        "    <img src=\"https://raw.githubusercontent.com/ElProfeAlejo/Bootcamp_Databases/main/imagenes/email_abajo.png\" alt=\"Texto alternativo\" width=\"50%\">](https://bootcampxperience.com/)"
      ],
      "metadata": {
        "id": "a8Ad8TXo4FUz"
      }
    }
  ]
}